{
 "cells": [
  {
   "cell_type": "markdown",
   "metadata": {},
   "source": [
    "# Analytics and Visualisation for Managers and Consultants[BEMM461] (Course Work 2)\n",
    "\n",
    "Name: Harsh Tyagi\n",
    "\n",
    "\n",
    "Course: MSc Business Analytics\n",
    "\n",
    "Student ID: 730035266\n",
    "\n",
    "Submited to: Shirley Atkinson \n",
    "\n",
    "## Introduction\n",
    "This Python code defines a web-based dashboard using the Dash framework to analyze and visualize data related to Netflix content. The purpose of the dashboard is to provide insights into IMDb scores, votes, runtime, release year distribution, and age certification distribution for both TV shows and movies available on Netflix.\n",
    "\n",
    "## Table of Links\n",
    "\n",
    "| Description | Link |\n",
    "| -- | -- |\n",
    "| Reflective blog | https://ele.exeter.ac.uk/mod/oublog/view.php?id=2698275 |\n",
    "| Chosen Dataset | https://www.kaggle.com/datasets/thedevastator/netflix-imdb-scores |\n",
    "\n",
    "## Table of Contents\n",
    "1. Executive Summary\n",
    "2. Project Dashboard\n",
    "3. Background to the Project\n",
    "4. Articulation of Decision Making Process\n",
    "5. Review of Analytics Methods Chosen\n",
    "6. Review of Available Tools\n",
    "7. Review of Chosen Datasets \n",
    "8. Visualisation of Data with Accompanying Code\n",
    "9. Reflective Evaluation\n",
    "10. Conclusion\n"
   ]
  },
  {
   "cell_type": "markdown",
   "metadata": {},
   "source": [
    "## 1. Executive Summary\n",
    "\n",
    "The Netflix IMDb Scores Analysis Dashboard is a powerful tool designed to provide users with insightful visualizations and analyses of IMDb scores, votes, and related metrics for both TV shows and movies. Developed using the Dash framework in Python, this interactive web-based application facilitates data exploration and decision-making by offering a user-friendly interface.\n",
    "\n",
    "## Key Features:\n",
    "\n",
    "Content Type Selection: Users can easily toggle between TV shows and movies using the dropdown menu, tailoring the analysis to their preferences.\n",
    "\n",
    "Age Certification Filtering: The inclusion of an age certification dropdown enables users to filter content based on age appropriateness, ensuring a personalized viewing experience.\n",
    "\n",
    "Scatter Plot: The scatter plot dynamically responds to user selections, illustrating the correlation between IMDb scores, votes, and runtime. This visual aid assists in identifying patterns and trends within the selected content type and age certification.\n",
    "\n",
    "Release Year Distribution: The release year bar chart offers a clear overview of the distribution of content over the years, providing insights into the evolution and popularity of Netflix content.\n",
    "\n",
    "Age Certification Breakdown: The age certification bar chart breaks down content distribution based on age appropriateness, allowing users to make informed decisions aligned with their preferences and viewing restrictions.\n",
    "\n",
    "Informative About Section: The \"About this Analysis\" section provides context and guidance to users, enhancing their understanding of the visualizations and encouraging an informed exploration of the data.\n",
    "\n"
   ]
  },
  {
   "cell_type": "markdown",
   "metadata": {},
   "source": [
    "## 2. Project Dashboard\n"
   ]
  },
  {
   "cell_type": "code",
   "execution_count": 7,
   "metadata": {},
   "outputs": [
    {
     "data": {
      "text/html": [
       "\n",
       "        <iframe\n",
       "            width=\"100%\"\n",
       "            height=\"650\"\n",
       "            src=\"http://127.0.0.1:3232/\"\n",
       "            frameborder=\"0\"\n",
       "            allowfullscreen\n",
       "            \n",
       "        ></iframe>\n",
       "        "
      ],
      "text/plain": [
       "<IPython.lib.display.IFrame at 0x12f29a210>"
      ]
     },
     "metadata": {},
     "output_type": "display_data"
    }
   ],
   "source": [
    "# Importing necessary libraries\n",
    "import dash\n",
    "from dash import dcc, html\n",
    "from dash.dependencies import Input, Output\n",
    "import plotly.express as px\n",
    "import pandas as pd\n",
    "\n",
    "# Assuming 'df' is your DataFrame\n",
    "\n",
    "df = pd.read_csv('Netflix TV Shows and Movies.csv')\n",
    "\n",
    "# Initializing the Dash app\n",
    "app = dash.Dash(__name__)\n",
    "\n",
    "# Defining layout of the app\n",
    "app.layout = html.Div([\n",
    "    # Header for the dashboard\n",
    "    html.H1(\"Netflix IMDB Scores Analysis\"),\n",
    "\n",
    "    # Dropdown for selecting the type (TV show or movie)\n",
    "    dcc.Dropdown(\n",
    "        id='type-dropdown',\n",
    "        options=[{'label': i, 'value': i} for i in df['type'].unique()],\n",
    "        value='Movie',\n",
    "        multi=False,\n",
    "        style={'width': '50%'}\n",
    "    ),\n",
    "\n",
    "    # Dropdown for selecting age certification\n",
    "    dcc.Dropdown(\n",
    "        id='age-dropdown',\n",
    "        options=[\n",
    "            {'label': 'All', 'value': 'All'},\n",
    "            * [{'label': i, 'value': i} for i in df['age_certification'].unique() if pd.notna(i)],\n",
    "        ],\n",
    "        value='All',\n",
    "        multi=False,\n",
    "        style={'width': '50%'}\n",
    "    ),\n",
    "\n",
    "    # Scatter plot for visualizing the relationship between IMDB scores, votes, and runtime\n",
    "    dcc.Graph(id='scatter-plot'),\n",
    "\n",
    "    # Bar chart for displaying the distribution of content by release year\n",
    "    dcc.Graph(id='release-year-bar'),\n",
    "\n",
    "    # Bar chart for showing the distribution of content by age certification\n",
    "    dcc.Graph(id='age-certification-bar'),\n",
    "\n",
    "    # Additional Information Section\n",
    "    html.Div([\n",
    "        # Heading for additional information\n",
    "        html.H3(\"About this Analysis\"),\n",
    "\n",
    "        # Paragraphs providing context and guidance to the user\n",
    "        html.P(\"This dashboard provides insights into Netflix IMDB scores and related metrics for TV shows and movies.\"),\n",
    "        html.P(\"Please select the type (TV show or movie) and age certification from the dropdowns to explore specific visualizations.\"),\n",
    "        html.P(\"The scatter plot illustrates the relationship between IMDB scores, votes, and runtime.\"),\n",
    "        html.P(\"The bar charts display the distribution of content by release year and age certification.\")\n",
    "    ], style={'margin': '20px', 'padding': '10px', 'border': '1px solid #ddd', 'border-radius': '5px'}),\n",
    "])\n",
    "\n",
    "# Defining callback to update age certification options based on type selection\n",
    "@app.callback(\n",
    "    Output('age-dropdown', 'options'),\n",
    "    [Input('type-dropdown', 'value')]\n",
    ")\n",
    "def update_age_certification_options(selected_type):\n",
    "    # Filtering the DataFrame based on the selected content type\n",
    "    filtered_df = df[df['type'] == selected_type]\n",
    "\n",
    "    # Generating age certification options excluding those with no data for the selected type\n",
    "    if selected_type == 'All':\n",
    "        age_certification_options = [{'label': 'All', 'value': 'All'}]\n",
    "    else:\n",
    "        # Excluding specific age certifications for Movies\n",
    "        excluded_age_certifications = ['TV-14', 'TV-MA', 'TV-PG', 'TV-Y', 'TV-G', 'TV-Y7'] if selected_type == 'Movie' else []\n",
    "        age_certification_options = [{'label': 'All', 'value': 'All'},\n",
    "                                      * [{'label': str(i), 'value': str(i)} for i in df['age_certification'].unique() if\n",
    "                                         pd.notna(i) and str(i) not in excluded_age_certifications and\n",
    "                                         any(filtered_df['age_certification'] == i)]\n",
    "                                      ]\n",
    "\n",
    "    return age_certification_options\n",
    "\n",
    "# Defining callback to update scatter plot based on type and age selection\n",
    "@app.callback(\n",
    "    Output('scatter-plot', 'figure'),\n",
    "    [Input('type-dropdown', 'value'),\n",
    "     Input('age-dropdown', 'value')]\n",
    ")\n",
    "def update_scatter_plot(selected_type, selected_age):\n",
    "    # Filtering the DataFrame based on the selected content type and age certification\n",
    "    filtered_df = df[\n",
    "        (df['type'] == selected_type) &\n",
    "        (df['age_certification'] == selected_age if selected_age != 'All' else df['age_certification'])\n",
    "    ]\n",
    "\n",
    "    # Creating a scatter plot using Plotly Express\n",
    "    fig = px.scatter(filtered_df, x='imdb_votes', y='imdb_score', color='release_year',\n",
    "                     size='runtime', hover_data=['title'], title=f'{selected_type} IMDB Scores and Votes')\n",
    "    return fig\n",
    "\n",
    "# Defining callback to update release year bar chart\n",
    "@app.callback(\n",
    "    Output('release-year-bar', 'figure'),\n",
    "    [Input('type-dropdown', 'value'),\n",
    "     Input('age-dropdown', 'value')]\n",
    ")\n",
    "def update_release_year_bar(selected_type, selected_age):\n",
    "    # Filtering the DataFrame based on the selected content type and age certification\n",
    "    filtered_df = df[\n",
    "        (df['type'] == selected_type) &\n",
    "        (df['age_certification'] == selected_age if selected_age != 'All' else df['age_certification'])\n",
    "    ]\n",
    "\n",
    "    # Ensuring release_year is of type string\n",
    "    filtered_df.loc[:, 'release_year'] = filtered_df['release_year'].astype(str)\n",
    "\n",
    "    # Creating a histogram showing the distribution of content by release year\n",
    "    fig = px.histogram(filtered_df, x='release_year', color='release_year',\n",
    "                       title=f'Distribution of {selected_type} by Release Year',\n",
    "                       category_orders={'release_year': sorted(filtered_df['release_year'].unique())},\n",
    "                       color_discrete_sequence=['#FFD700'],  # Set color to gold\n",
    "                       )\n",
    "\n",
    "    # Customizing the layout\n",
    "    fig.update_layout(title=dict(x=0.5), margin=dict(l=10, r=10, t=50, b=10))\n",
    "\n",
    "    return fig\n",
    "\n",
    "# Defining callback to update age certification bar chart\n",
    "@app.callback(\n",
    "    Output('age-certification-bar', 'figure'),\n",
    "    [Input('type-dropdown', 'value'),\n",
    "     Input('age-dropdown', 'value')]\n",
    ")\n",
    "def update_age_certification_bar(selected_type, selected_age):\n",
    "    # Filtering the DataFrame based on the selected content type and age certification\n",
    "    filtered_df = df[\n",
    "        (df['type'] == selected_type) &\n",
    "        (df['age_certification'] == selected_age if selected_age != 'All' else df['age_certification'])\n",
    "    ]\n",
    "\n",
    "    # Creating a histogram showing the distribution of content by age certification\n",
    "    fig = px.histogram(filtered_df, x='age_certification', color='age_certification',\n",
    "                       title=f'Distribution of {selected_type} by Age Certification',\n",
    "                       category_orders={'age_certification': sorted(filtered_df['age_certification'].unique())})\n",
    "\n",
    "    # Customizing the layout\n",
    "    fig.update_layout(title=dict(x=0.5), margin=dict(l=10, r=10, t=50, b=10))\n",
    "\n",
    "    return fig\n",
    "\n",
    "# Run the app (Shift+enter)\n",
    "if __name__ == '__main__':\n",
    "    app.run_server(debug=True, port=3232)\n"
   ]
  },
  {
   "cell_type": "markdown",
   "metadata": {},
   "source": [
    "## 3. Background to the Project\n",
    "\n",
    "The Netflix IMDb Scores Analysis Dashboard is a data visualization project focused on exploring and analyzing IMDb scores and related metrics for TV shows and movies available on the Netflix streaming platform. IMDb scores are critical indicators of the perceived quality and popularity of content, making them valuable for viewers seeking the best entertainment options. This project aims to provide users with a dynamic and interactive tool to gain insights into IMDb scores, voting patterns, and content characteristics on Netflix.\n",
    "\n",
    "As streaming platforms continue to dominate the entertainment landscape, viewers face an abundance of choices. IMDb scores serve as a valuable metric for users seeking high-quality content. This project recognizes the need for a tool that not only presents IMDb scores but also provides a visual exploration of associated factors, empowering users to make informed decisions about their viewing preferences on Netflix.\n",
    "\n",
    "The project acknowledges the significance of user experience and aims to deliver an intuitive and visually appealing dashboard, aligning with the growing demand for data-driven decision-making in the realm of content consumption.\n",
    "\n"
   ]
  },
  {
   "cell_type": "markdown",
   "metadata": {},
   "source": [
    "\n",
    "## 4. Articulation of Decision-Making Process\n",
    "\n",
    "The decision-making process throughout the four-week journey of the Netflix IMDb Scores Analysis Dashboard project was guided by a strategic and systematic approach aimed at achieving the project's objectives. Each week involved key decisions and actions that contributed to the progression of the project. Below is an articulation of the decision-making process for each week:\n",
    "\n",
    "### Week 1: Getting Started\n",
    "Link for Week 1 Blog: https://ele.exeter.ac.uk/mod/oublog/viewpost.php?post=34516\n",
    "\n",
    "**Decisions:**\n",
    "1. **Dataset Selection:** Explored Kaggle for potential datasets and decided to use the \"Netflix TV Shows and Movies\" dataset.\n",
    "2. **Dataset Download:** Chose to download the selected dataset for analysis.\n",
    "\n",
    "**Reasoning:**\n",
    "- The decision to use the Kaggle dataset was based on the availability of relevant information, including IMDb scores, votes, release years, and more.\n",
    "- Selection of the dataset laid the foundation for subsequent exploration and analysis.\n",
    "\n",
    "### Week 2: Data Exploration and Cleaning\n",
    "Link for Week 2 Blog: https://ele.exeter.ac.uk/mod/oublog/viewpost.php?post=34517\n",
    "\n",
    "\n",
    "**Decisions:**\n",
    "1. **Exploration Strategy:** Explored the contents of the Kaggle dataset to understand its structure and variables.\n",
    "2. **Data Cleaning Initiation:** Initiated the data cleaning process, addressing issues such as missing values and outliers.\n",
    "\n",
    "**Reasoning:**\n",
    "- Initial exploration was essential to gain insights into the dataset's contents and identify potential areas for analysis.\n",
    "- Data cleaning started early to address data quality issues, ensuring a cleaner dataset for subsequent phases.\n",
    "\n",
    "### Week 3: Data Cleaning in Full Swing\n",
    "Link for week 3 Blog:  https://ele.exeter.ac.uk/mod/oublog/viewpost.php?post=34518\n",
    "\n",
    "**Decisions:**\n",
    "1. **Data Cleaning Intensity:** Dedicated the week to extensive data cleaning efforts, addressing inconsistent formatting and standardized data types.\n",
    "2. **Imputation Strategies:** Implemented thoughtful imputation strategies for missing values.\n",
    "3. **Documentation:** Documented data cleaning decisions in the code for transparency and reproducibility.\n",
    "\n",
    "**Reasoning:**\n",
    "- Intensive data cleaning was crucial to ensure the dataset was in optimal shape for analysis and visualization.\n",
    "- Documentation provided transparency, enabling clear communication and replication of the cleaning process.\n",
    "\n",
    "### Week 4: Wrapping Up Data Cleaning\n",
    "Link for Week 4 Blog: https://ele.exeter.ac.uk/mod/oublog/viewpost.php?post=34519\n",
    "\n",
    "**Decisions:**\n",
    "1. **Final Dataset Check:** Performed a final check for any lingering data inconsistencies.\n",
    "2. **Readiness Confirmation:** Confirmed that the dataset was cleaned and ready for analysis.\n",
    "3. **Project Transition:** Prepared for the next phase—building the Netflix IMDb Scores Analysis Dashboard.\n",
    "\n",
    "**Reasoning:**\n",
    "- A final check ensured that the dataset was free from inconsistencies, setting the stage for reliable analysis.\n",
    "- Transitioning to the dashboard-building phase marked the logical progression of the project.\n",
    "\n",
    "### Conclusion:\n",
    "\n",
    "The decision-making process was characterized by a logical flow, starting with dataset selection and culminating in the preparation for the dashboard development phase. Each decision was informed by the project's overarching goal of creating an insightful and interactive tool for exploring Netflix IMDb scores and related metrics. Challenges were met with strategic solutions, and documentation ensured transparency and accountability in the decision-making process. The weekly blog entries serve as a comprehensive record, capturing the essence of decisions made, tasks completed, and the evolving nature of the project over the four-week period."
   ]
  },
  {
   "cell_type": "markdown",
   "metadata": {},
   "source": [
    "## 5. Review of Analytics Methods Chosen\n",
    "**Review of Analytics Methods Chosen in Netflix IMDb Scores Analysis Dashboard**\n",
    "\n",
    "The Netflix IMDb Scores Analysis Dashboard employs several analytics methods to provide users with meaningful insights into IMDb scores, voting patterns, and content characteristics. Below is a review of the analytics methods used in the project with respect to the provided code:\n",
    "\n",
    "1. **Data Loading and Preprocessing:**\n",
    "   - **Method:** The project starts with loading the dataset using Pandas, a powerful data manipulation library in Python.\n",
    "   - **Rationale:** Pandas is chosen for its efficiency in handling tabular data, providing functionalities for data cleaning, exploration, and preprocessing. The initial steps involve loading the dataset ('Netflix TV Shows and Movies.csv') and preparing it for analysis.\n",
    "\n",
    "```python\n",
    "df = pd.read_csv('Netflix TV Shows and Movies.csv')\n",
    "```\n",
    "\n",
    "2. **Interactive Web-Based Dashboard (Dash):**\n",
    "   - **Method:** The project utilizes Dash, a Python framework for building analytical web applications.\n",
    "   - **Rationale:** Dash is chosen for its simplicity, flexibility, and integration with Plotly for interactive visualizations. The decision aligns with the project's objective of creating a user-friendly and dynamic dashboard for exploring IMDb scores.\n",
    "\n",
    "```python\n",
    "app = dash.Dash(__name__)\n",
    "```\n",
    "\n",
    "3. **Dynamic Visualizations (Plotly Express):**\n",
    "   - **Method:** Plotly Express is used to create dynamic visualizations, including the scatter plot and bar charts.\n",
    "   - **Rationale:** Plotly Express simplifies the creation of interactive plots, providing a high-level interface. It is chosen for its ability to handle complex visualizations with ease, making it suitable for showcasing IMDb scores, votes, and other metrics.\n",
    "\n",
    "```python\n",
    "import plotly.express as px\n",
    "```\n",
    "\n",
    "4. **Callback Functions for Interactivity:**\n",
    "   - **Method:** Dash callback functions are employed to update visualizations based on user input (e.g., content type and age certification dropdowns).\n",
    "   - **Rationale:** Callbacks enable real-time interaction with the dashboard, allowing users to customize their analysis. The chosen methods enhance the user experience by providing a responsive and personalized exploration of the data.\n",
    "\n",
    "```python\n",
    "@app.callback(\n",
    "    Output('scatter-plot', 'figure'),\n",
    "    [Input('type-dropdown', 'value'),\n",
    "     Input('age-dropdown', 'value')]\n",
    ")\n",
    "def update_scatter_plot(selected_type, selected_age):\n",
    "    # ... (callback logic)\n",
    "    return fig\n",
    "```\n",
    "\n",
    "5. **Histograms for Distribution Analysis:**\n",
    "   - **Method:** Plotly Express histograms are used to visualize the distribution of content by release year and age certification.\n",
    "   - **Rationale:** Histograms are effective for presenting the distribution of numerical and categorical data. Plotly Express simplifies the creation of histograms, and the chosen methods facilitate a clear understanding of content trends over release years and age certifications.\n",
    "\n",
    "```python\n",
    "fig = px.histogram(filtered_df, x='release_year', color='release_year', ...)\n",
    "```\n",
    "\n",
    "**Conclusion:**\n",
    "The chosen analytics methods align well with the project's objectives of creating an interactive and informative dashboard. Pandas, Dash, Plotly Express, and callback functions are strategically selected to handle data manipulation, build a dynamic web interface, and create compelling visualizations. The rationale behind each method demonstrates a thoughtful approach to meeting the project's analytical requirements."
   ]
  },
  {
   "cell_type": "markdown",
   "metadata": {},
   "source": [
    "## 6. Review of Available Tools\n",
    "**Alternative Tools and Technologies for Netflix IMDb Scores Analysis Dashboard**\n",
    "\n",
    "While the existing code utilizes Python with Dash, Plotly Express, and Pandas, there are alternative tools and technologies worth considering for specific aspects of the project. Let's explore these alternatives, discussing their potential benefits and considering any associated challenges.\n",
    "\n",
    "1. **Alternative Dashboard Framework:**\n",
    "   - **Potential Tool: Streamlit**\n",
    "     - **Benefits:**\n",
    "       - Streamlit is known for its simplicity and rapid development capabilities, making it an excellent choice for creating interactive dashboards with minimal code.\n",
    "       - It offers real-time updates, which could enhance the user experience in scenarios where data is frequently changing.\n",
    "     - **Considerations:**\n",
    "       - While Streamlit is user-friendly, it might offer less customization compared to Dash for complex layouts.\n",
    "\n",
    "2. **Alternative Data Visualization Library:**\n",
    "   - **Potential Tool: Bokeh**\n",
    "     - **Benefits:**\n",
    "       - Bokeh is well-suited for creating interactive and visually appealing visualizations with a focus on interactivity.\n",
    "       - It provides a wide range of tools for exploration, zooming, and panning, enhancing the user's ability to explore data dynamically.\n",
    "     - **Considerations:**\n",
    "       - Bokeh's learning curve may be steeper than Plotly Express, especially for users new to web-based visualizations.\n",
    "\n",
    "3. **Alternative Data Storage:**\n",
    "   - **Potential Tool: PostgreSQL (with SQLAlchemy)**\n",
    "     - **Benefits:**\n",
    "       - PostgreSQL is a robust, open-source relational database that could provide better scalability and data integrity compared to a CSV file.\n",
    "       - Using SQLAlchemy with PostgreSQL allows for efficient interaction between Python and the database.\n",
    "     - **Considerations:**\n",
    "       - Setting up and managing a PostgreSQL database may require more effort than working with CSV files.\n",
    "\n",
    "4. **Alternative Data Loading:**\n",
    "   - **Potential Tool: Dask**\n",
    "     - **Benefits:**\n",
    "       - Dask is designed for parallel computing and can efficiently handle larger-than-memory datasets.\n",
    "       - It can seamlessly integrate with Pandas, allowing for a smooth transition from the existing data loading process.\n",
    "     - **Considerations:**\n",
    "       - While Dask provides scalability, its implementation might be an overkill for smaller datasets.\n",
    "\n",
    "5. **Alternative Web Framework:**\n",
    "   - **Potential Tool: Flask**\n",
    "     - **Benefits:**\n",
    "       - Flask is a lightweight web framework suitable for smaller projects, offering flexibility in terms of structure and components.\n",
    "       - It allows for a more modular approach to web development compared to Dash.\n",
    "     - **Considerations:**\n",
    "       - For more complex applications, Flask might lack some of the integrated features provided by Dash.\n",
    "\n",
    "**Conclusion:**\n",
    "The tools and technologies selected in the existing code are well-suited for the project's objectives, providing a balance between ease of use, interactivity, and data analysis capabilities. However, the alternatives mentioned above offer different strengths and may be more suitable for certain use cases. The selection of tools should be guided by project requirements, development expertise, and the desired level of customization and scalability. Always consider factors such as the learning curve, community support, and integration capabilities when exploring alternative tools."
   ]
  },
  {
   "cell_type": "markdown",
   "metadata": {},
   "source": [
    "## 7. Review of Chosen Datasets \n",
    "The dataset chosen for the Netflix IMDb Scores Analysis Dashboard is well-suited for the project's objectives, providing comprehensive information about TV shows and movies available on Netflix. Let's delve into the reasons why each dataset column was appropriate and reflect on the experience of working with them:\n",
    "\n",
    "1. **title:**\n",
    "   - **Appropriateness:** The \"title\" column is essential for uniquely identifying each TV show or movie. It serves as a key identifier for users interested in specific titles and is crucial for constructing a user-friendly interface in the dashboard.\n",
    "   - **Reflection:** Working with the \"title\" column was straightforward, and it was pivotal in creating interactive and informative visualizations. The familiarity of titles aids users in navigating and interpreting the dashboard.\n",
    "\n",
    "2. **type:**\n",
    "   - **Appropriateness:** The \"type\" column categorizes entries as TV shows or movies, allowing users to filter their analysis based on content type. This categorization is fundamental for tailored exploration and insights.\n",
    "   - **Reflection:** The \"type\" column played a central role in decision-making for content categorization in the dashboard,It provides users with the flexibility to focus on either TV shows or movies, enhancing the overall user experience.\n",
    "\n",
    "3. **description:**\n",
    "   - **Appropriateness:** The \"description\" column provides a brief overview of each title's plot or storyline. This information is crucial for users to grasp the content's essence before delving into deeper analysis.\n",
    "   - **Reflection:** While not directly used in visualizations, the \"description\" column was valuable in understanding the content context during the data exploration and cleaning phases.\n",
    "\n",
    "4. **release_year:**\n",
    "   - **Appropriateness:** The \"release_year\" column indicates the year of release for each title, enabling the examination of trends over time. This temporal information allows for insightful analyses based on the historical distribution of Netflix content.\n",
    "   - **Reflection:** The \"release_year\" column influenced the decision to create a release year distribution bar chart. This column adds a temporal dimension to the dashboard, enriching the user's analytical experience.\n",
    "\n",
    "5. **age_certification:**\n",
    "   - **Appropriateness:** The \"age_certification\" column provides age ratings for titles, aiding in understanding the target audience. This attribute is crucial for users seeking content suitable for specific age groups.\n",
    "   - **Reflection:** The importance of age certification is discussed in the context of user interaction features. The \"age_certification\" column enhances the dashboard's user-friendliness by allowing users to filter content based on age appropriateness.\n",
    "\n",
    "6. **runtime:**\n",
    "   - **Appropriateness:** The \"runtime\" column offers information about the duration of movies or episodes for TV shows. This data point aids in comparing the length of titles and identifying shorter or longer content.\n",
    "   - **Reflection:** While not explicitly discussed in the blog posts, the \"runtime\" column was utilized to enhance the scatter plot visualization, where marker size represents the runtime, as explained in the code implementation.\n",
    "\n",
    "7. **imdb_score:**\n",
    "   - **Appropriateness:** The \"imdb_score\" column contains IMDb scores, representing the overall quality and popularity of titles. This metric is crucial for users looking to evaluate and rank titles based on their ratings.\n",
    "   - **Reflection:** The \"imdb_score\" column guided the decision to create a scatter plot visualizing IMDb scores and votes. The scores provide a key aspect for users to explore and compare content.\n",
    "\n",
    "8. **imdb_votes:**\n",
    "   - **Appropriateness:** The \"imdb_votes\" column indicates the number of votes received by each TV show or movie on IMDb. This metric complements the IMDb scores, offering additional context regarding the popularity of titles.\n",
    "   - **Reflection:** The \"imdb_votes\" column significantly influenced the design of the scatter plot, where IMDb scores and votes are visualized. The interplay between scores and votes contributes to a more nuanced understanding of content quality.\n",
    "\n",
    "**Conclusion:**\n",
    "The chosen dataset columns proved to be highly appropriate for the Netflix IMDb Scores Analysis Dashboard, providing a rich source of information for insightful exploration. The columns not only facilitated the creation of meaningful visualizations but also contributed to enhancing user interactivity and engagement within the dashboard. The reflective blog posts provide a detailed journey through the decision-making processes and considerations associated with working with these dataset columns."
   ]
  },
  {
   "cell_type": "markdown",
   "metadata": {},
   "source": [
    "## 8. Visualisation of Data with Accompanying Code\n",
    "\n",
    "# Scatter plot for visualizing the relationship between IMDB scores, votes, and runtime\n",
    "\n"
   ]
  },
  {
   "cell_type": "code",
   "execution_count": 18,
   "metadata": {},
   "outputs": [],
   "source": [
    "selected_type = 'MOVIE'\n",
    "selected_age = 'PG'"
   ]
  },
  {
   "cell_type": "code",
   "execution_count": 19,
   "metadata": {},
   "outputs": [
    {
     "data": {
      "application/vnd.plotly.v1+json": {
       "config": {
        "plotlyServerURL": "https://plot.ly"
       },
       "data": [
        {
         "customdata": [
          [
           "Taxi Driver"
          ],
          [
           "Monty Python and the Holy Grail"
          ],
          [
           "Life of Brian"
          ],
          [
           "The Exorcist"
          ],
          [
           "Dirty Harry"
          ],
          [
           "My Fair Lady"
          ],
          [
           "The Blue Lagoon"
          ],
          [
           "Bonnie and Clyde"
          ],
          [
           "The Professionals"
          ],
          [
           "The Guns of Navarone"
          ],
          [
           "Lupin the Third: The Castle of Cagliostro"
          ],
          [
           "Richard Pryor: Live in Concert"
          ],
          [
           "The Long Riders"
          ],
          [
           "White Christmas"
          ],
          [
           "Cairo Station"
          ],
          [
           "The Queen"
          ],
          [
           "Hitler: A Career"
          ],
          [
           "FTA"
          ],
          [
           "Saladin the Victorious"
          ],
          [
           "Singapore"
          ],
          [
           "Dark Waters"
          ],
          [
           "Alexandriaâ€¦ Why?"
          ],
          [
           "Raya and Sakina"
          ],
          [
           "No Longer Kids"
          ],
          [
           "Amrapali"
          ],
          [
           "Dostana"
          ],
          [
           "The Blazing Sun"
          ],
          [
           "The Return of the Prodigal Son"
          ],
          [
           "Prince"
          ],
          [
           "Manoranjan"
          ],
          [
           "Beirut, Oh Beirut"
          ],
          [
           "We Are All for the Fatherland"
          ],
          [
           "Whispers"
          ],
          [
           "Lal Patthar"
          ],
          [
           "Ujala"
          ],
          [
           "Alibaba Aur 40 Chor"
          ],
          [
           "Professor"
          ],
          [
           "Chadi Jawani Budhe Nu"
          ],
          [
           "Bandie"
          ],
          [
           "Khoon Khoon"
          ],
          [
           "Top Gun"
          ],
          [
           "Stand by Me"
          ],
          [
           "Once Upon a Time in America"
          ],
          [
           "When Harry Met Sally..."
          ],
          [
           "Teenage Mutant Ninja Turtles"
          ],
          [
           "Full Metal Jacket"
          ],
          [
           "Christine"
          ],
          [
           "A Nightmare on Elm Street"
          ],
          [
           "Awakenings"
          ],
          [
           "Annie"
          ],
          [
           "Pet Sematary"
          ],
          [
           "She's Gotta Have It"
          ],
          [
           "Eddie Murphy Raw"
          ],
          [
           "Endless Love"
          ],
          [
           "Mobile Suit Gundam II: Soldiers of Sorrow"
          ],
          [
           "Mobile Suit Gundam: Char's Counterattack"
          ],
          [
           "Sam Kinison: Breaking the Rules"
          ],
          [
           "Tim Allen: Men Are Pigs"
          ],
          [
           "Monty Python Live at the Hollywood Bowl"
          ],
          [
           "The George McKenna Story"
          ],
          [
           "Unspeakable Acts"
          ],
          [
           "Waiting for the Hearse"
          ],
          [
           "Mobile Suit Gundam III: Encounters in Space"
          ],
          [
           "Agneepath"
          ],
          [
           "Parrot Sketch Not Included: Twenty Years of Monty Python"
          ],
          [
           "Too Young The Hero"
          ],
          [
           "Adam: His Song Continues"
          ],
          [
           "Disco Dancer"
          ],
          [
           "The Ryan White Story"
          ],
          [
           "In Defense of a Married Man"
          ],
          [
           "Dil"
          ],
          [
           "Bye Bye London"
          ],
          [
           "Quiet Victory: The Charlie Wedemeyer Story"
          ],
          [
           "Alexandria, Again and Forever"
          ],
          [
           "Strange Voices"
          ],
          [
           "Aakhri Adaalat"
          ],
          [
           "A Stoning in Fulham County"
          ],
          [
           "Muqaddar Ka Faisla"
          ],
          [
           "Sohni Mahiwal"
          ],
          [
           "The Little Wars"
          ],
          [
           "Duniya"
          ],
          [
           "Pyar Ke Do Pal"
          ],
          [
           "Jaal"
          ],
          [
           "Mujrim"
          ],
          [
           "An Egyptian Story"
          ],
          [
           "Ek Jaan Hain Hum"
          ],
          [
           "The Quick and the Dead"
          ],
          [
           "Forrest Gump"
          ],
          [
           "Happy Gilmore"
          ],
          [
           "Saving Private Ryan"
          ],
          [
           "Gattaca"
          ],
          [
           "Blade"
          ],
          [
           "You've Got Mail"
          ],
          [
           "Starship Troopers"
          ],
          [
           "Donnie Brasco"
          ],
          [
           "U.S. Marshals"
          ],
          [
           "Wild Things"
          ],
          [
           "Last Action Hero"
          ],
          [
           "Seven Years in Tibet"
          ],
          [
           "The Devil's Advocate"
          ],
          [
           "A River Runs Through It"
          ],
          [
           "Girl, Interrupted"
          ],
          [
           "Any Given Sunday"
          ],
          [
           "Menace II Society"
          ],
          [
           "Desperado"
          ],
          [
           "The Mask of Zorro"
          ],
          [
           "The Patriot"
          ],
          [
           "Road Trip"
          ],
          [
           "Free Willy"
          ],
          [
           "3 Ninjas Kick Back"
          ],
          [
           "In the Line of Fire"
          ],
          [
           "The Replacements"
          ],
          [
           "Johnny Mnemonic"
          ],
          [
           "Little Women"
          ],
          [
           "Anaconda"
          ],
          [
           "My Girl"
          ],
          [
           "Cliffhanger"
          ],
          [
           "I Know What You Did Last Summer"
          ],
          [
           "Teenage Mutant Ninja Turtles II: The Secret of the Ooze"
          ],
          [
           "Hollow Man"
          ],
          [
           "Godzilla"
          ],
          [
           "Neon Genesis Evangelion: The End of Evangelion"
          ],
          [
           "Spawn"
          ],
          [
           "Dennis the Menace"
          ],
          [
           "The Net"
          ],
          [
           "The Devil's Own"
          ],
          [
           "Croupier"
          ],
          [
           "Teenage Mutant Ninja Turtles III"
          ],
          [
           "The General's Daughter"
          ],
          [
           "The Next Karate Kid"
          ],
          [
           "I Still Know What You Did Last Summer"
          ],
          [
           "Double Team"
          ],
          [
           "Under Suspicion"
          ],
          [
           "Geronimo: An American Legend"
          ],
          [
           "The Mirror Has Two Faces"
          ],
          [
           "Knight Rider 2000"
          ],
          [
           "The Last Days"
          ],
          [
           "Heavy"
          ],
          [
           "Bill Hicks: Revelations"
          ],
          [
           "Sankofa"
          ],
          [
           "Jerry Seinfeld: I'm Telling You for the Last Time"
          ],
          [
           "Children of God"
          ],
          [
           "Wild Tango"
          ],
          [
           "Kuch Kuch Hota Hai"
          ],
          [
           "Herod's Law"
          ],
          [
           "Tim Allen: Rewires America"
          ],
          [
           "Dil Se.."
          ],
          [
           "Aashik Aawara"
          ],
          [
           "Destiny"
          ],
          [
           "Oh Darling! Yeh Hai India!"
          ],
          [
           "A Triumph of the Heart: The Ricky Bell Story"
          ],
          [
           "Bombay"
          ],
          [
           "West Beirut"
          ],
          [
           "Muthu"
          ],
          [
           "Qila"
          ],
          [
           "Ram Jaane"
          ],
          [
           "Chamatkar"
          ],
          [
           "Soldier"
          ],
          [
           "Hum Saath Saath Hain"
          ],
          [
           "Kabhi Haan Kabhi Naa"
          ],
          [
           "Nightmare in Columbia County"
          ],
          [
           "Phir Bhi Dil Hai Hindustani"
          ],
          [
           "Jeans"
          ],
          [
           "Chaahat"
          ],
          [
           "Hum Aapke Hain Koun..!"
          ],
          [
           "Maya Memsaab"
          ],
          [
           "Out of Life"
          ],
          [
           "Duplicate"
          ],
          [
           "Govindha Govindha"
          ],
          [
           "Damini"
          ],
          [
           "English Babu Desi Mem"
          ],
          [
           "Before the Flying Circus"
          ],
          [
           "Sam Kinison: Live in Vegas"
          ],
          [
           "Anjaam"
          ],
          [
           "Mann"
          ],
          [
           "Monty Python: Live at Aspen"
          ],
          [
           "Sinbad: Afros and Bellbottoms"
          ],
          [
           "The Other"
          ],
          [
           "Sinbad: Son of a Preacher Man"
          ],
          [
           "Children of Shatila"
          ],
          [
           "Gumrah"
          ],
          [
           "The Emigrant"
          ],
          [
           "Yodha"
          ],
          [
           "Avvai Shanmugi"
          ],
          [
           "Minsara Kanavu"
          ],
          [
           "Chronicle of a Disappearance"
          ],
          [
           "Yaar Gaddar"
          ],
          [
           "Sinbad: Nothin' but the Funk"
          ],
          [
           "Dushmani"
          ],
          [
           "Fiza"
          ],
          [
           "Hello Brother"
          ],
          [
           "Shikari"
          ],
          [
           "Forgetting Sarah Marshall"
          ],
          [
           "War of the Worlds"
          ],
          [
           "Inception"
          ],
          [
           "The Other Guys"
          ],
          [
           "How to Train Your Dragon"
          ],
          [
           "Casino Royale"
          ],
          [
           "Michael Clayton"
          ],
          [
           "Jackass: The Movie"
          ],
          [
           "Zoolander"
          ],
          [
           "Charlie and the Chocolate Factory"
          ],
          [
           "Cleaner"
          ],
          [
           "Harold & Kumar Go to White Castle"
          ],
          [
           "The Social Network"
          ],
          [
           "Road to Perdition"
          ],
          [
           "Blow"
          ],
          [
           "Shooter"
          ],
          [
           "Big Fish"
          ],
          [
           "The Bourne Ultimatum"
          ],
          [
           "Public Enemies"
          ],
          [
           "Sherlock Holmes"
          ],
          [
           "Love Actually"
          ],
          [
           "Closer"
          ],
          [
           "Something's Gotta Give"
          ],
          [
           "Grown Ups"
          ],
          [
           "The Blind Side"
          ],
          [
           "Quantum of Solace"
          ],
          [
           "The Ring"
          ],
          [
           "Into the Wild"
          ],
          [
           "True Grit"
          ],
          [
           "Rambo"
          ],
          [
           "Stardust"
          ],
          [
           "The Last Samurai"
          ],
          [
           "The Book of Eli"
          ],
          [
           "Identity"
          ],
          [
           "Shrek Forever After"
          ],
          [
           "Hairspray"
          ],
          [
           "Corpse Bride"
          ],
          [
           "Let Me In"
          ],
          [
           "Monster"
          ],
          [
           "Without a Paddle"
          ],
          [
           "Once Upon a Time in Mexico"
          ],
          [
           "Cloudy with a Chance of Meatballs"
          ],
          [
           "Blade II"
          ],
          [
           "Chloe"
          ],
          [
           "Blood Diamond"
          ],
          [
           "The Lake House"
          ],
          [
           "Terminator 3: Rise of the Machines"
          ],
          [
           "Beerfest"
          ],
          [
           "Heist"
          ],
          [
           "Catch and Release"
          ],
          [
           "Just Like Heaven"
          ],
          [
           "Four Brothers"
          ],
          [
           "John Q"
          ],
          [
           "Not Another Teen Movie"
          ],
          [
           "21"
          ],
          [
           "Terminator Salvation"
          ],
          [
           "Deck the Halls"
          ],
          [
           "The Girl Next Door"
          ],
          [
           "The Cat in the Hat"
          ],
          [
           "Final Destination 3"
          ],
          [
           "Thir13en Ghosts"
          ],
          [
           "The One"
          ],
          [
           "Happy Feet"
          ],
          [
           "Ip Man"
          ],
          [
           "Coach Carter"
          ],
          [
           "Blade: Trinity"
          ],
          [
           "Monster-in-Law"
          ],
          [
           "Halloween"
          ],
          [
           "How Do You Know"
          ],
          [
           "The Sweetest Thing"
          ],
          [
           "The Final Destination"
          ],
          [
           "The Other Boleyn Girl"
          ],
          [
           "Friday the 13th"
          ],
          [
           "The Bucket List"
          ],
          [
           "Freddy vs. Jason"
          ],
          [
           "Memoirs of a Geisha"
          ],
          [
           "A Nightmare on Elm Street"
          ],
          [
           "Body of Lies"
          ],
          [
           "A Cinderella Story"
          ],
          [
           "Osmosis Jones"
          ],
          [
           "Scary Movie 4"
          ],
          [
           "The Texas Chainsaw Massacre"
          ],
          [
           "Fun with Dick and Jane"
          ],
          [
           "TMNT"
          ],
          [
           "Due Date"
          ],
          [
           "Cop Out"
          ],
          [
           "3 Idiots"
          ],
          [
           "New York Minute"
          ],
          [
           "Dreamer: Inspired By a True Story"
          ],
          [
           "Monster House"
          ],
          [
           "Starsky & Hutch"
          ],
          [
           "Tears of the Sun"
          ],
          [
           "The Cave"
          ],
          [
           "The Texas Chainsaw Massacre: The Beginning"
          ],
          [
           "I Am Sam"
          ],
          [
           "The Spiderwick Chronicles"
          ],
          [
           "Rumor Has It..."
          ],
          [
           "I Now Pronounce You Chuck & Larry"
          ],
          [
           "World Trade Center"
          ],
          [
           "Premonition"
          ],
          [
           "Eagle Eye"
          ],
          [
           "Lagaan: Once Upon a Time in India"
          ],
          [
           "The Men Who Stare at Goats"
          ],
          [
           "Friends with Money"
          ],
          [
           "Legend of the Guardians: The Owls of Ga'Hoole"
          ],
          [
           "Good Luck Chuck"
          ],
          [
           "Louis C.K.: Hilarious"
          ],
          [
           "Death at a Funeral"
          ],
          [
           "Gifted Hands: The Ben Carson Story"
          ],
          [
           "Blood and Bone"
          ],
          [
           "Ip Man 2"
          ],
          [
           "Like Stars on Earth"
          ],
          [
           "Felon"
          ],
          [
           "Stuart Little 2"
          ],
          [
           "Did You Hear About the Morgans?"
          ],
          [
           "Chaos"
          ],
          [
           "Katt Williams: The Pimp Chronicles Pt. 1"
          ],
          [
           "Initial D"
          ],
          [
           "Comedian"
          ],
          [
           "Delta Farce"
          ],
          [
           "One Piece: Strong World"
          ],
          [
           "Christmas with the Kranks"
          ],
          [
           "Love Happens"
          ],
          [
           "Even the Rain"
          ],
          [
           "Kabhi Khushi Kabhie Gham"
          ],
          [
           "Naruto Shippuden the Movie"
          ],
          [
           "Trailer Park Boys: The Movie"
          ],
          [
           "Jeff Dunham: Arguing with Myself"
          ],
          [
           "From Within"
          ],
          [
           "Jodhaa Akbar"
          ],
          [
           "And Then Came Lola"
          ],
          [
           "Om Shanti Om"
          ],
          [
           "Jab We Met"
          ],
          [
           "Te quiero"
          ],
          [
           "Bon Cop Bad Cop"
          ],
          [
           "Naruto: Ninja Clash in the Land of Snow"
          ],
          [
           "I Will Follow"
          ],
          [
           "Alpha and Omega"
          ],
          [
           "One Piece: The Desert Princess and the Pirates: Adventure in Alabasta"
          ],
          [
           "Waist Deep"
          ],
          [
           "Naruto: Guardians of the Crescent Moon Kingdom"
          ],
          [
           "First Sunday"
          ],
          [
           "This Is the Life"
          ],
          [
           "My Suicide"
          ],
          [
           "Kyaa Kool Hai Hum"
          ],
          [
           "Divine Intervention"
          ],
          [
           "Accident"
          ],
          [
           "Naruto: Legend of the Stone of Gelel"
          ],
          [
           "Jim Gaffigan: Beyond the Pale"
          ],
          [
           "Billu"
          ],
          [
           "Cairo 6,7,8"
          ],
          [
           "Dil Chahta Hai"
          ],
          [
           "Trailer Park Boys: Countdown to Liquor Day"
          ],
          [
           "Bleach the Movie: Hell Verse"
          ],
          [
           "Whisky"
          ],
          [
           "EMI"
          ],
          [
           "Naruto Shippuden the Movie: The Lost Tower"
          ],
          [
           "Naruto Shippuden the Movie: Bonds"
          ],
          [
           "Naruto Shippuden the Movie: The Will of Fire"
          ],
          [
           "Linewatch"
          ],
          [
           "The Boy Who Cried Werewolf"
          ],
          [
           "Dostana"
          ],
          [
           "Whitney Cummings: Money Shot"
          ],
          [
           "Don"
          ],
          [
           "Rock On!!"
          ],
          [
           "Eternal Summer"
          ],
          [
           "Mike Birbiglia: What I Should Have Said Was Nothing"
          ],
          [
           "One Piece: Episode of Chopper Plus: Bloom in the Winter, Miracle Cherry Blossom"
          ],
          [
           "Welcome"
          ],
          [
           "Just Another Love Story"
          ],
          [
           "Arahan"
          ],
          [
           "Phir Hera Pheri"
          ],
          [
           "Bleach the Movie: Fade to Black"
          ],
          [
           "Rang De Basanti"
          ],
          [
           "Swades"
          ],
          [
           "Kaal"
          ],
          [
           "Sorry to Disturb"
          ],
          [
           "2 Alone in Paris"
          ],
          [
           "Delhi-6"
          ],
          [
           "Kal Ho Naa Ho"
          ],
          [
           "Sivaji: The Boss"
          ],
          [
           "Ishqiya"
          ],
          [
           "Guzaarish"
          ],
          [
           "A Lion in the House"
          ],
          [
           "Oye Lucky! Lucky Oye!"
          ],
          [
           "Love in a Puff"
          ],
          [
           "Kabhi Alvida Naa Kehna"
          ],
          [
           "Black Friday"
          ],
          [
           "Kevin James: Sweat the Small Stuff"
          ],
          [
           "Connected"
          ],
          [
           "Vivah"
          ],
          [
           "Golmaal Returns"
          ],
          [
           "Jim Gaffigan: King Baby"
          ],
          [
           "The Trailer Park Boys Xmas Special"
          ],
          [
           "Bluffmaster!"
          ],
          [
           "Inuyasha the Movie 4: Fire on the Mystic Island"
          ],
          [
           "My FÃ¼hrer"
          ],
          [
           "Vizontele"
          ],
          [
           "Sir! No Sir!"
          ],
          [
           "Inuyasha the Movie: Affections Touching Across Time"
          ],
          [
           "Once Upon a Time in Mumbaai"
          ],
          [
           "Guru"
          ],
          [
           "Main Hoon Na"
          ],
          [
           "Romantik Komedi"
          ],
          [
           "Jeff Dunham's Very Special Christmas Special"
          ],
          [
           "Paheli"
          ],
          [
           "Honeymoon Travels Pvt. Ltd."
          ],
          [
           "Inuyasha the Movie 3: Swords of an Honorable Ruler"
          ],
          [
           "Kaminey"
          ],
          [
           "Kevin Hart: I'm a Grown Little Man"
          ],
          [
           "G.O.R.A."
          ],
          [
           "Jaane Tu... Ya Jaane Na"
          ],
          [
           "Mukhsin"
          ],
          [
           "Apaharan"
          ],
          [
           "LSD: Love, Sex aur Dhokha"
          ],
          [
           "Chup Chup Ke"
          ],
          [
           "Manorama Six Feet Under"
          ],
          [
           "Sergio"
          ],
          [
           "Luck by Chance"
          ],
          [
           "Karthik Calling Karthik"
          ],
          [
           "Ajab Prem Ki Ghazab Kahani"
          ],
          [
           "Dhan Dhana Dhan Goal"
          ],
          [
           "Salt of This Sea"
          ],
          [
           "Yuva"
          ],
          [
           "Fuga"
          ],
          [
           "Namastey London"
          ],
          [
           "Fashion"
          ],
          [
           "Peepli Live"
          ],
          [
           "Lakshya"
          ],
          [
           "Trailer Park Boys: Say Goodnight to the Bad Guys"
          ],
          [
           "Pomegranates and Myrrh"
          ],
          [
           "Tony Manero"
          ],
          [
           "Do Dooni Chaar"
          ],
          [
           "Kismat Konnection"
          ],
          [
           "Wake Up Sid"
          ],
          [
           "Life in a Metro"
          ],
          [
           "Awara Paagal Deewana"
          ],
          [
           "The Figurine (Araromire)"
          ],
          [
           "The Unjust"
          ],
          [
           "Kurbaan"
          ],
          [
           "Canâ€™t Complain"
          ],
          [
           "Inuyasha the Movie 2: The Castle Beyond the Looking Glass"
          ],
          [
           "Taxi No. 9 2 11"
          ],
          [
           "Anbe Sivam"
          ],
          [
           "Gangaajal"
          ],
          [
           "Chalte Chalte"
          ],
          [
           "Mumbai Meri Jaan"
          ],
          [
           "Aamir"
          ],
          [
           "Frontiers of Dreams and Fears"
          ],
          [
           "Ishq Vishk"
          ],
          [
           "The Legend of Bhagat Singh"
          ],
          [
           "Under the Bombs"
          ],
          [
           "Race"
          ],
          [
           "Udaan"
          ],
          [
           "Laugh Out Loud"
          ],
          [
           "We Are Family"
          ],
          [
           "The Beast Stalker"
          ],
          [
           "Raajneeti"
          ],
          [
           "Old Thieves: The Legend of Artegio"
          ],
          [
           "Kannathil Muthamittal"
          ],
          [
           "Well Done Abba"
          ],
          [
           "Palermo Hollywood"
          ],
          [
           "Dev.D"
          ],
          [
           "Twins Mission"
          ],
          [
           "What's Up?"
          ],
          [
           "Aagey Se Right"
          ],
          [
           "Krishna Cottage"
          ],
          [
           "Madness in the Desert"
          ],
          [
           "I Hate Luv Storys"
          ],
          [
           "C Kkompany"
          ],
          [
           "Welcome to Sajjanpur"
          ],
          [
           "I Am Kalam"
          ],
          [
           "Kyo Kii... Main Jhuth Nahin Bolta"
          ],
          [
           "The Kite"
          ],
          [
           "Kucch To Hai"
          ],
          [
           "The Blue Umbrella"
          ],
          [
           "Break Ke Baad"
          ],
          [
           "Main Aurr Mrs Khanna"
          ],
          [
           "Frank & Cindy"
          ],
          [
           "Tum Milo Toh Sahi"
          ],
          [
           "Ezra"
          ],
          [
           "Chance Pe Dance"
          ],
          [
           "Gina Yashere: Skinny B*tch"
          ],
          [
           "Agyaat"
          ],
          [
           "Falafel"
          ],
          [
           "Kuselan"
          ],
          [
           "Look for a Star"
          ],
          [
           "Zozo"
          ],
          [
           "A Love Story"
          ],
          [
           "Bosta"
          ],
          [
           "Anchor Baby"
          ],
          [
           "Shootout at Lokhandwala"
          ],
          [
           "Da Kath & Kim Code"
          ],
          [
           "Interview with a Serial Killer"
          ],
          [
           "The Student Cop"
          ],
          [
           "Dhoondte Reh Jaaoge"
          ],
          [
           "Rabun"
          ],
          [
           "Life's Speed Bump"
          ],
          [
           "Hattrick"
          ],
          [
           "Harishchandrachi Factory"
          ],
          [
           "Koi Aap Sa"
          ],
          [
           "Menahi"
          ],
          [
           "What's Your Raashee?"
          ],
          [
           "Talentime"
          ],
          [
           "Anthony Kaun Hai?"
          ],
          [
           "Mission Istaanbul"
          ],
          [
           "Fida"
          ],
          [
           "Kisaan"
          ],
          [
           "My Amnesia Girl"
          ],
          [
           "IjÃ©: The Journey"
          ],
          [
           "Perazhagan"
          ],
          [
           "A Very Special Love"
          ],
          [
           "Bheem vs Aliens"
          ],
          [
           "Tango with Me"
          ],
          [
           "Chhota Bheem Aur Krishna"
          ],
          [
           "Once a Gangster"
          ],
          [
           "Brother's Shadow"
          ],
          [
           "Do Paise Ki Dhoop, Chaar Aane Ki Baarish"
          ],
          [
           "Banyuki"
          ],
          [
           "Hop"
          ],
          [
           "Crazy, Stupid, Love."
          ],
          [
           "Margin Call"
          ],
          [
           "Django Unchained"
          ],
          [
           "Looper"
          ],
          [
           "Argo"
          ],
          [
           "Midnight in Paris"
          ],
          [
           "Warrior"
          ],
          [
           "Les MisÃ©rables"
          ],
          [
           "The Girl with the Dragon Tattoo"
          ],
          [
           "Contagion"
          ],
          [
           "Battleship"
          ],
          [
           "Killing Them Softly"
          ],
          [
           "Just Go with It"
          ],
          [
           "Dark Shadows"
          ],
          [
           "Sherlock Holmes: A Game of Shadows"
          ],
          [
           "Silver Linings Playbook"
          ],
          [
           "Sucker Punch"
          ],
          [
           "Total Recall"
          ],
          [
           "Project X"
          ],
          [
           "Berserk: The Golden Age Arc I - The Egg of the King"
          ],
          [
           "Soul Surfer"
          ],
          [
           "Final Destination 5"
          ],
          [
           "Puss in Boots"
          ],
          [
           "Savages"
          ],
          [
           "Hall Pass"
          ],
          [
           "Rurouni Kenshin Part I: Origins"
          ],
          [
           "Unknown"
          ],
          [
           "The Rite"
          ],
          [
           "Mean Girls 2"
          ],
          [
           "A Very Harold & Kumar Christmas"
          ],
          [
           "Red Riding Hood"
          ],
          [
           "New Year's Eve"
          ],
          [
           "The Smurfs"
          ],
          [
           "Jack and Jill"
          ],
          [
           "Everything Must Go"
          ],
          [
           "John Mulaney: New in Town"
          ],
          [
           "One Piece Film: Z"
          ],
          [
           "Arthur Christmas"
          ],
          [
           "Silenced"
          ],
          [
           "A Perfect Ending"
          ],
          [
           "Quartet"
          ],
          [
           "Berserk: The Golden Age Arc II - The Battle for Doldrey"
          ],
          [
           "Bill Burr: You People Are All The Same"
          ],
          [
           "Bully"
          ],
          [
           "The History of Future Folk"
          ],
          [
           "Cloudburst"
          ],
          [
           "Donald Glover: Weirdo"
          ],
          [
           "A Princess for Christmas"
          ],
          [
           "Middle of Nowhere"
          ],
          [
           "Zindagi Na Milegi Dobara"
          ],
          [
           "Escape from Planet Earth"
          ],
          [
           "Sebastian Maniscalco: What's Wrong with People?"
          ],
          [
           "Undefeated"
          ],
          [
           "Singham"
          ],
          [
           "Barfi!"
          ],
          [
           "Mosquita y Mari"
          ],
          [
           "The Great Magician"
          ],
          [
           "Joan Rivers: Don't Start with Me"
          ],
          [
           "Delhi Belly"
          ],
          [
           "Naruto Shippuden the Movie: Blood Prison"
          ],
          [
           "Maria Bamford: The Special Special Special!"
          ],
          [
           "Tiger & Bunny: The Beginning"
          ],
          [
           "Don't Go Breaking My Heart"
          ],
          [
           "Pyaar Ka Punchnama"
          ],
          [
           "Big Time Movie"
          ],
          [
           "A World Not Ours"
          ],
          [
           "Don 2"
          ],
          [
           "A Second Chance"
          ],
          [
           "Jeff Dunham: Minding the Monsters"
          ],
          [
           "Jeff Dunham: Controlled Chaos"
          ],
          [
           "Chillar Party"
          ],
          [
           "The Dirty Picture"
          ],
          [
           "Kyaa Super Kool Hain Hum"
          ],
          [
           "Talaash"
          ],
          [
           "Rowdy Rathore"
          ],
          [
           "Blitz Patrollie"
          ],
          [
           "OMG: Oh My God!"
          ],
          [
           "6 Bullets"
          ],
          [
           "Material"
          ],
          [
           "Toll Booth"
          ],
          [
           "An Elf's Story"
          ],
          [
           "Without Gorky"
          ],
          [
           "Bodyguard"
          ],
          [
           "Shaitan"
          ],
          [
           "Paan Singh Tomar"
          ],
          [
           "Kath & Kimderella"
          ],
          [
           "Game"
          ],
          [
           "Lavell Crawford: Can a Brother Get Some Love?"
          ],
          [
           "Grandmaster"
          ],
          [
           "Arjun: The Warrior Prince"
          ],
          [
           "A Beautiful Life"
          ],
          [
           "Mugamoodi"
          ],
          [
           "Players"
          ],
          [
           "Tere Naal Love Ho Gaya"
          ],
          [
           "FRED 3: Camp Fred"
          ],
          [
           "Kalakalappu"
          ],
          [
           "Katt Williams: Kattpacalypse"
          ],
          [
           "No One Killed Jessica"
          ],
          [
           "Luv Shuv Tey Chicken Khurana"
          ],
          [
           "Ragini MMS"
          ],
          [
           "Tom Papa: Live in New York City"
          ],
          [
           "10 jours en or"
          ],
          [
           "26 Years"
          ],
          [
           "7 Khoon Maaf"
          ],
          [
           "Asmaa"
          ],
          [
           "All's Well, Ends Well"
          ],
          [
           "Vettai"
          ],
          [
           "Tita Rahiba"
          ],
          [
           "Ek Main Aur Ekk Tu"
          ],
          [
           "Last Flight to Abuja"
          ],
          [
           "Michael"
          ],
          [
           "Bbuddah Hoga Terra Baap"
          ],
          [
           "Shor in the City"
          ],
          [
           "Chhota Bheem & Krishna in Mayanagari"
          ],
          [
           "Department"
          ],
          [
           "Stray Bullet"
          ],
          [
           "The Mistress"
          ],
          [
           "Ferrari Ki Sawaari"
          ],
          [
           "Zokkomon"
          ],
          [
           "Chhota Bheem and the Broken Amulet"
          ],
          [
           "One More Try"
          ],
          [
           "Thaandavam"
          ],
          [
           "Aiyyaa"
          ],
          [
           "Blood Money"
          ],
          [
           "Heroine"
          ],
          [
           "Bwakaw"
          ],
          [
           "Chota Bheem Aur Ganesh in the Amazing Odyssey"
          ],
          [
           "Sisterakas"
          ],
          [
           "Chhota Bheem In Dholakpur to Kathmandu"
          ],
          [
           "The Rise of Kirmada"
          ],
          [
           "Husbands in Goa"
          ],
          [
           "Question Mark"
          ],
          [
           "Muran"
          ],
          [
           "Darling, Something's Wrong with Your Head"
          ],
          [
           "Phone Swap"
          ],
          [
           "Chhota Bheem Master of Shaolin"
          ],
          [
           "No Other Woman"
          ],
          [
           "Moshe Kasher: Live in Oakland"
          ],
          [
           "My Friend Pinto"
          ],
          [
           "The Mirror Boy"
          ],
          [
           "Here Comes the Rain"
          ],
          [
           "Paddington"
          ],
          [
           "Nightcrawler"
          ],
          [
           "Her"
          ],
          [
           "42"
          ],
          [
           "The Imitation Game"
          ],
          [
           "The Call"
          ],
          [
           "Big Eyes"
          ],
          [
           "Oldboy"
          ],
          [
           "Rush"
          ],
          [
           "How to Train Your Dragon 2"
          ],
          [
           "Begin Again"
          ],
          [
           "The Conjuring"
          ],
          [
           "Insidious: Chapter 2"
          ],
          [
           "A Walk Among the Tombstones"
          ],
          [
           "Olympus Has Fallen"
          ],
          [
           "The Giver"
          ],
          [
           "Creep"
          ],
          [
           "St. Vincent"
          ],
          [
           "The Green Inferno"
          ],
          [
           "Dark Skies"
          ],
          [
           "The Frozen Ground"
          ],
          [
           "Empire State"
          ],
          [
           "Shrek the Musical"
          ],
          [
           "The Butler"
          ],
          [
           "Scary Movie 5"
          ],
          [
           "Cloudy with a Chance of Meatballs 2"
          ],
          [
           "Penguins of Madagascar"
          ],
          [
           "Texas Chainsaw 3D"
          ],
          [
           "Jackass Presents: Bad Grandpa .5"
          ],
          [
           "Mr. Peabody & Sherman"
          ],
          [
           "Vampire Academy"
          ],
          [
           "I, Frankenstein"
          ],
          [
           "Seventh Son"
          ],
          [
           "Sabotage"
          ],
          [
           "The Railway Man"
          ],
          [
           "Life of Crime"
          ],
          [
           "Get on Up"
          ],
          [
           "The November Man"
          ],
          [
           "The Nut Job"
          ],
          [
           "Brick Mansions"
          ],
          [
           "The Big Wedding"
          ],
          [
           "The Battered Bastards of Baseball"
          ],
          [
           "Who Am I"
          ],
          [
           "Bo Burnham: What."
          ],
          [
           "The Smurfs 2"
          ],
          [
           "Metallica: Through the Never"
          ],
          [
           "Walk of Shame"
          ],
          [
           "Search Party"
          ],
          [
           "Stand by Me Doraemon"
          ],
          [
           "Thanks for Sharing"
          ],
          [
           "Copenhagen"
          ],
          [
           "Cowspiracy: The Sustainability Secret"
          ],
          [
           "The Haunting in Connecticut 2: Ghosts of Georgia"
          ],
          [
           "Mike Birbiglia: My Girlfriend's Boyfriend"
          ],
          [
           "Elena"
          ],
          [
           "Berserk: The Golden Age Arc III - The Advent"
          ],
          [
           "Bill Burr: I'm Sorry You Feel That Way"
          ],
          [
           "A Haunted House 2"
          ],
          [
           "We Steal Secrets: The Story of WikiLeaks"
          ],
          [
           "Effie Gray"
          ],
          [
           "Free Birds"
          ],
          [
           "The Square"
          ],
          [
           "The Short Game"
          ],
          [
           "PK"
          ],
          [
           "Underdogs"
          ],
          [
           "Jinxed"
          ],
          [
           "Swearnet: The Movie"
          ],
          [
           "Tiger & Bunny: The Rising"
          ],
          [
           "Selfie"
          ],
          [
           "Virunga"
          ],
          [
           "Tom Segura: Completely Normal"
          ],
          [
           "Buddies"
          ],
          [
           "Chennai Express"
          ],
          [
           "Monty Python: The Meaning of Live"
          ],
          [
           "LEGO DC Comics Super Heroes: Batman Be-Leaguered"
          ],
          [
           "The Berlin File"
          ],
          [
           "Omar"
          ],
          [
           "Dabbe: The Possession"
          ],
          [
           "Haider"
          ],
          [
           "2 States"
          ],
          [
           "A Fairly Odd Summer"
          ],
          [
           "Blind Detective"
          ],
          [
           "The Boss: Anatomy of a Crime"
          ],
          [
           "Khoobsurat"
          ],
          [
           "Monty Python: Live (Mostly)"
          ],
          [
           "Miss Granny"
          ],
          [
           "Highway"
          ],
          [
           "Queen"
          ],
          [
           "Expelled from Paradise"
          ],
          [
           "Jim Gaffigan: Obsessed"
          ],
          [
           "Mission Blue"
          ],
          [
           "ABCD"
          ],
          [
           "Pedal the World"
          ],
          [
           "City of God: 10 Years Later"
          ],
          [
           "Birth Reborn"
          ],
          [
           "Bombay Talkies"
          ],
          [
           "Kai Po Che!"
          ],
          [
           "My Beautiful Broken Brain"
          ],
          [
           "Mitt"
          ],
          [
           "Ragini MMS 2"
          ],
          [
           "Fukrey"
          ],
          [
           "Dedh Ishqiya"
          ],
          [
           "Hasee Toh Phasee"
          ],
          [
           "Pizza"
          ],
          [
           "Ankhon Dekhi"
          ],
          [
           "Boss"
          ],
          [
           "Tea Time"
          ],
          [
           "When Love Happens"
          ],
          [
           "Mary Kom"
          ],
          [
           "Four Sisters and a Wedding"
          ],
          [
           "Special 26"
          ],
          [
           "Once Upon a Time in Mumbai Dobaara!"
          ],
          [
           "Swearnet Live"
          ],
          [
           "Jim Jefferies: Bare"
          ],
          [
           "Dabbe 5: Zehr-i Cin"
          ],
          [
           "The Perfect Dictatorship"
          ],
          [
           "Imperial Dreams"
          ],
          [
           "Liar's Dice"
          ],
          [
           "El Mago Pop"
          ],
          [
           "Humpty Sharma Ki Dulhania"
          ],
          [
           "Print the Legend"
          ],
          [
           "The Butterfly's Dream"
          ],
          [
           "Jeff Dunham: All Over the Map"
          ],
          [
           "Bride for Rent"
          ],
          [
           "Ghanchakkar"
          ],
          [
           "Aziz Ansari: Buried Alive"
          ],
          [
           "Marc Maron: Thinky Pain"
          ],
          [
           "Naan Sigappu Manithan"
          ],
          [
           "Born in Gaza"
          ],
          [
           "Romantik Komedi 2: BekarlÄ±ÄŸa Veda"
          ],
          [
           "Free to Play"
          ],
          [
           "The Other One: The Long, Strange Trip of Bob Weir"
          ],
          [
           "Inkaar"
          ],
          [
           "Coming Soon"
          ],
          [
           "The Midas Touch"
          ],
          [
           "Refugiado"
          ],
          [
           "Ralphie May: Imperfectly Yours"
          ],
          [
           "Wedding Association"
          ],
          [
           "Heritages"
          ],
          [
           "Race 2"
          ],
          [
           "Madras Cafe"
          ],
          [
           "Deliha"
          ],
          [
           "Confusion Na Wa"
          ],
          [
           "Saheb Biwi Aur Gangster Returns"
          ],
          [
           "Ungli"
          ],
          [
           "Chashme Baddoor"
          ],
          [
           "SampleThis"
          ],
          [
           "The War Against Women"
          ],
          [
           "Ghadi"
          ],
          [
           "Eyes of a Thief"
          ],
          [
           "01-Oct"
          ],
          [
           "Mars at Sunrise"
          ],
          [
           "Satyagraha"
          ],
          [
           "Bhaji in Problem"
          ],
          [
           "Pagpag: Nine Lives"
          ],
          [
           "Blind Intersections"
          ],
          [
           "Trailer Park Boys: Live at the North Pole"
          ],
          [
           "Must Be... Love"
          ],
          [
           "She's The One"
          ],
          [
           "Trailer Park Boys - Live in F**kin' Dublin"
          ],
          [
           "SDU: Sex Duties Unit"
          ],
          [
           "Theeya Velai Seiyyanum Kumaru"
          ],
          [
           "Settai"
          ],
          [
           "Raja Natwarlal"
          ],
          [
           "Chhota Bheem in the Incan Adventure"
          ],
          [
           "Anjaan"
          ],
          [
           "Cold Harbour"
          ],
          [
           "Himmatwala"
          ],
          [
           "Na Bangaaru Talli"
          ],
          [
           "What the Fish"
          ],
          [
           "My Own Man"
          ],
          [
           "One by Two"
          ],
          [
           "The Land of Cards"
          ],
          [
           "Starting Over Again"
          ],
          [
           "It Takes a Man and a Woman"
          ],
          [
           "Chelsea Handler: Uganda Be Kidding Me Live"
          ],
          [
           "Wyatt Cenac: Brooklyn"
          ],
          [
           "Xenos"
          ],
          [
           "Seven Souls in the Skull Castle"
          ],
          [
           "D.L. Hughley: Clear"
          ],
          [
           "Giraffada"
          ],
          [
           "Bobby Jasoos"
          ],
          [
           "Grandmother's Farm"
          ],
          [
           "Anaamika"
          ],
          [
           "Mumbai Delhi Mumbai"
          ],
          [
           "A Place in the Stars"
          ],
          [
           "That Thing Called Tadhana"
          ],
          [
           "Gori Tere Pyaar Mein"
          ],
          [
           "She's Dating the Gangster"
          ],
          [
           "Deewana Main Deewana"
          ],
          [
           "Sommore: Chandelier Status"
          ],
          [
           "E-Team"
          ],
          [
           "The Royal Bengal Tiger"
          ],
          [
           "Chhota Bheem & Krishna vs Zimbara"
          ],
          [
           "Gollu Aur Pappu"
          ],
          [
           "The Amazing Praybeyt Benjamin"
          ],
          [
           "Diamonds in the Sky"
          ],
          [
           "Chhota Bheem Neeli Pahaadi"
          ],
          [
           "Doctor Bello"
          ],
          [
           "Chhota Bheem Aur Hanuman"
          ],
          [
           "Chhota Bheem and the ShiNobi Secret"
          ],
          [
           "Sigaram Thodu"
          ],
          [
           "Flower Girl"
          ],
          [
           "Chhota Bheem Dus pe Dus"
          ],
          [
           "Chhota Bheem the Crown of Valhalla"
          ],
          [
           "Hunt for the Wilderpeople"
          ],
          [
           "Hell or High Water"
          ],
          [
           "It Follows"
          ],
          [
           "Raw"
          ],
          [
           "Kung Fu Panda 3"
          ],
          [
           "Ouija: Origin of Evil"
          ],
          [
           "Nocturnal Animals"
          ],
          [
           "The Gift"
          ],
          [
           "War Dogs"
          ],
          [
           "Blackhat"
          ],
          [
           "The Hateful Eight"
          ],
          [
           "Crimson Peak"
          ],
          [
           "Tangerine"
          ],
          [
           "Legend"
          ],
          [
           "Hail, Caesar!"
          ],
          [
           "The Edge of Seventeen"
          ],
          [
           "Steve Jobs"
          ],
          [
           "A Silent Voice: The Movie"
          ],
          [
           "London Has Fallen"
          ],
          [
           "Mr. Right"
          ],
          [
           "Chappie"
          ],
          [
           "Christine"
          ],
          [
           "BÄhubali: The Beginning"
          ],
          [
           "Hush"
          ],
          [
           "The Conjuring 2"
          ],
          [
           "Gantz:O"
          ],
          [
           "Unfriended"
          ],
          [
           "In a Valley of Violence"
          ],
          [
           "Hello, My Name Is Doris"
          ],
          [
           "A Monster Calls"
          ],
          [
           "Under the Shadow"
          ],
          [
           "Loving"
          ],
          [
           "The Danish Girl"
          ],
          [
           "He Never Died"
          ],
          [
           "Home"
          ],
          [
           "Before I Wake"
          ],
          [
           "The Fundamentals of Caring"
          ],
          [
           "Winter on Fire: Ukraine's Fight for Freedom"
          ],
          [
           "Batman: The Killing Joke"
          ],
          [
           "Cop Car"
          ],
          [
           "Bastille Day"
          ],
          [
           "Sinister 2"
          ],
          [
           "Other People"
          ],
          [
           "13th"
          ],
          [
           "American Ultra"
          ],
          [
           "Spectral"
          ],
          [
           "Crouching Tiger, Hidden Dragon: Sword of Destiny"
          ],
          [
           "Advantageous"
          ],
          [
           "The Bye Bye Man"
          ],
          [
           "Beasts of No Nation"
          ],
          [
           "Self/less"
          ],
          [
           "Collateral Beauty"
          ],
          [
           "Team Foxcatcher"
          ],
          [
           "What Happened, Miss Simone?"
          ],
          [
           "Circle"
          ],
          [
           "The Forest"
          ],
          [
           "Demonic"
          ],
          [
           "The Siege of Jadotville"
          ],
          [
           "Hyena Road"
          ],
          [
           "Barry"
          ],
          [
           "Into the Inferno"
          ],
          [
           "Ip Man 3"
          ],
          [
           "Frank & Lola"
          ],
          [
           "Blue Jay"
          ],
          [
           "Bert Kreischer: The Machine"
          ],
          [
           "ARQ"
          ],
          [
           "Ratchet & Clank"
          ],
          [
           "Dangal"
          ],
          [
           "Pee-wee's Big Holiday"
          ],
          [
           "Headshot"
          ],
          [
           "The Young Messiah"
          ],
          [
           "Marauders"
          ],
          [
           "White Girl"
          ],
          [
           "Our Brand Is Crisis"
          ],
          [
           "The Ridiculous 6"
          ],
          [
           "Special Correspondents"
          ],
          [
           "Jem and the Holograms"
          ],
          [
           "Mascots"
          ],
          [
           "Mindhorn"
          ],
          [
           "The Do-Over"
          ],
          [
           "Bo Burnham: Make Happy"
          ],
          [
           "7 Years"
          ],
          [
           "For the Love of Spock"
          ],
          [
           "Suffragette"
          ],
          [
           "The Girl King"
          ],
          [
           "Dream/Killer"
          ],
          [
           "Amanda Knox"
          ],
          [
           "Tallulah"
          ],
          [
           "By the Sea"
          ],
          [
           "Marco Polo: One Hundred Eyes"
          ],
          [
           "Ares"
          ],
          [
           "Results"
          ],
          [
           "I Am the Pretty Thing That Lives in the House"
          ],
          [
           "Legends of the Hidden Temple"
          ],
          [
           "David Brent: Life on the Road"
          ],
          [
           "Message from the King"
          ],
          [
           "Sebastian Maniscalco: Why Would You Do That?"
          ],
          [
           "Sleight"
          ],
          [
           "Middle School: The Worst Years of My Life"
          ],
          [
           "Rock the Kasbah"
          ],
          [
           "Veteran"
          ],
          [
           "A Very Murray Christmas"
          ],
          [
           "Kevin Hart: What Now?"
          ],
          [
           "Extraction"
          ],
          [
           "Tramps"
          ],
          [
           "The Warriors Gate"
          ],
          [
           "The Dreamseller"
          ],
          [
           "LEGO Marvel Super Heroes: Avengers Reassembled!"
          ],
          [
           "Incarnate"
          ],
          [
           "GÃ¼eros"
          ],
          [
           "Term Life"
          ],
          [
           "The Distinguished Citizen"
          ],
          [
           "Drishyam"
          ],
          [
           "Tig"
          ],
          [
           "John Mulaney: The Comeback Kid"
          ],
          [
           "Rocco"
          ],
          [
           "Minimalism: A Documentary About the Important Things"
          ],
          [
           "Fate/Grand Order: First Order"
          ],
          [
           "Lavender"
          ],
          [
           "True Memoirs of an International Assassin"
          ],
          [
           "The Darkness"
          ],
          [
           "Hot Girls Wanted"
          ],
          [
           "High & Low The Movie"
          ],
          [
           "Pandora"
          ],
          [
           "Ok Kanmani"
          ],
          [
           "The Lighthouse of the Orcas"
          ],
          [
           "Shaun the Sheep: The Farmer's Llamas"
          ],
          [
           "The Devil's Mistress"
          ],
          [
           "Opening Night"
          ],
          [
           "Surviving Compton: Dre, Suge and Michel'le"
          ],
          [
           "Kapoor & Sons"
          ],
          [
           "Baaghi"
          ],
          [
           "Mercy"
          ],
          [
           "Our Lovers"
          ],
          [
           "Septembers of Shiraz"
          ],
          [
           "Ordinary World"
          ],
          [
           "Dhanak"
          ],
          [
           "Jeff Foxworthy & Larry the Cable Guy: We've Been Thinking"
          ],
          [
           "Demetri Martin: Live (At The Time)"
          ],
          [
           "Brothers"
          ],
          [
           "Rebirth"
          ],
          [
           "Audrie & Daisy"
          ],
          [
           "Riot"
          ],
          [
           "Anjelah Johnson: Not Fancy"
          ],
          [
           "Colin Quinn: The New York Story"
          ],
          [
           "Divines"
          ],
          [
           "MindGamers"
          ],
          [
           "Tony Robbins: I Am Not Your Guru"
          ],
          [
           "I Am Michael"
          ],
          [
           "Justin Timberlake + The Tennessee Kids"
          ],
          [
           "Heneral Luna"
          ],
          [
           "Un + une"
          ],
          [
           "Mucize"
          ],
          [
           "The Heirs"
          ],
          [
           "Gabriel Iglesias: I'm Sorry for What I Said When I Was Hungry"
          ],
          [
           "In the Shadow of Iris"
          ],
          [
           "Jim Jefferies: Freedumb"
          ],
          [
           "Force 2"
          ],
          [
           "Couple Of Days"
          ],
          [
           "3000 Nights"
          ],
          [
           "6 Years"
          ],
          [
           "Tamasha"
          ],
          [
           "Manson Family Vacation"
          ],
          [
           "Garfunkel and Oates: Trying to be Special"
          ],
          [
           "Strange Weather"
          ],
          [
           "Rainbow Time"
          ],
          [
           "Much Loved"
          ],
          [
           "Always Be My Maybe"
          ],
          [
           "The Guardian Brothers"
          ],
          [
           "ChatÃ´, The King of Brazil"
          ],
          [
           "Riphagen the Untouchable"
          ],
          [
           "The 101-Year-Old Man Who Skipped Out on the Bill and Disappeared"
          ],
          [
           "Udta Punjab"
          ],
          [
           "Toro"
          ],
          [
           "Jeff Dunham: Unhinged in Hollywood"
          ],
          [
           "Tom Segura: Mostly Stories"
          ],
          [
           "Hunterrr"
          ],
          [
           "Colin Quinn: Unconstitutional"
          ],
          [
           "Keith Richards: Under the Influence"
          ],
          [
           "Mohenjo Daro"
          ],
          [
           "4K Fireplace"
          ],
          [
           "Zip & Zap and the Captain's Island"
          ],
          [
           "Smoke & Mirrors"
          ],
          [
           "I Called Him Morgan"
          ],
          [
           "The Next Skin"
          ],
          [
           "Belgica"
          ],
          [
           "Taxi Driver"
          ],
          [
           "XOXO"
          ],
          [
           "Ali Wong: Baby Cobra"
          ],
          [
           "The Lion Woman"
          ],
          [
           "Prem Ratan Dhan Payo"
          ],
          [
           "The Beginning of Life"
          ],
          [
           "Pyaar Ka Punchnama 2"
          ],
          [
           "Chris Tucker: Live"
          ],
          [
           "Schubert in Love"
          ],
          [
           "Raman Raghav 2.0"
          ],
          [
           "Slam"
          ],
          [
           "Gridlocked"
          ],
          [
           "Jessica Darling's It List"
          ],
          [
           "Chocolate City: Vegas Strip"
          ],
          [
           "Journey to Greenland"
          ],
          [
           "Fifty"
          ],
          [
           "All About Asado"
          ],
          [
           "Phantom"
          ],
          [
           "The Ivory Game"
          ],
          [
           "HiGH&LOW: The Red Rain"
          ],
          [
           "Lens"
          ],
          [
           "Selfie 69"
          ],
          [
           "Ali Baba and the 7 Dwarfs"
          ],
          [
           "Ghost Patrol"
          ],
          [
           "Talvar"
          ],
          [
           "Liar, Liar, Vampire"
          ],
          [
           "I'll Sleep When I'm Dead"
          ],
          [
           "Dil Dhadakne Do"
          ],
          [
           "Wazir"
          ],
          [
           "The Worthy"
          ],
          [
           "Kyaa Kool Hain Hum 3"
          ],
          [
           "Chronically Metropolitan"
          ],
          [
           "1898: Our Last Men in the Philippines"
          ],
          [
           "SofÃ­a NiÃ±o de Rivera: Exposed"
          ],
          [
           "Russell Peters: Almost Famous"
          ],
          [
           "Ludo"
          ],
          [
           "Everything About Her"
          ],
          [
           "#FollowFriday"
          ],
          [
           "Eddie: Strongman"
          ],
          [
           "Gabbar Is Back"
          ],
          [
           "The Massively Mixed-Up Middle School Mystery"
          ],
          [
           "Jonah"
          ],
          [
           "Motu Patlu: King Of Kings"
          ],
          [
           "Sen Benim HerÅžeyimsin"
          ],
          [
           "Barakah Meets Barakah"
          ],
          [
           "Fitoor"
          ],
          [
           "Jen Kirkman: I'm Gonna Die Alone (And I Feel Fine)"
          ],
          [
           "Puerto Ricans in Paris"
          ],
          [
           "Reggie Watts: Spatial"
          ],
          [
           "You Are My Sunday"
          ],
          [
           "Layla M."
          ],
          [
           "Asperger's Are Us"
          ],
          [
           "Honeytrap"
          ],
          [
           "City of Joy"
          ],
          [
           "ABCD 2"
          ],
          [
           "Iliza Shlesinger: Freezing Hot"
          ],
          [
           "Carlos Ballarta: el amor es de putos"
          ],
          [
           "Offline: Are You Ready for the Next Level?"
          ],
          [
           "Olmo and the Seagull"
          ],
          [
           "07:19"
          ],
          [
           "Born in Syria"
          ],
          [
           "Te3n"
          ],
          [
           "The Doll"
          ],
          [
           "Clair Obscur"
          ],
          [
           "Pettson and Findus: The Best Christmas Ever"
          ],
          [
           "U Turn"
          ],
          [
           "I Love You"
          ],
          [
           "Ordinary People"
          ],
          [
           "Poshter Girl"
          ],
          [
           "Shaandaar"
          ],
          [
           "Hawaizaada"
          ],
          [
           "Very Big Shot"
          ],
          [
           "Joe Rogan: Triggered"
          ],
          [
           "X: Past Is Present"
          ],
          [
           "David Cross: Making America Great Again"
          ],
          [
           "100 Meters"
          ],
          [
           "Iliza Shlesinger: Confirmed Kills"
          ],
          [
           "Breaking the Bank"
          ],
          [
           "Hannibal Buress: Comedy Camisado"
          ],
          [
           "Bangistan"
          ],
          [
           "Lang Tong"
          ],
          [
           "Trailer Park Boys: Drunk, High and Unemployed: Live In Austin"
          ],
          [
           "Kiss of Life"
          ],
          [
           "S Storm"
          ],
          [
           "Theo Von: No Offense"
          ],
          [
           "Mike Epps: Don't Take It Personal"
          ],
          [
           "Husband Factor"
          ],
          [
           "Michael Che Matters"
          ],
          [
           "Aziz Ansari: Live at Madison Square Garden"
          ],
          [
           "Katti Batti"
          ],
          [
           "Patton Oswalt: Talking for Clapping"
          ],
          [
           "Husband Factor: Resurrection"
          ],
          [
           "XV Beyond the Tryline"
          ],
          [
           "Dana Carvey: Straight White Male, 60"
          ],
          [
           "A Second Chance"
          ],
          [
           "Soul Thieves"
          ],
          [
           "Umrika"
          ],
          [
           "Wedding Association 2: Circumcision"
          ],
          [
           "One in a Billion"
          ],
          [
           "Frank and Cindy"
          ],
          [
           "Niyazi GÃ¼l DÃ¶rtnala"
          ],
          [
           "Brent Morin: I'm Brent Morin"
          ],
          [
           "My Mother's Wound"
          ],
          [
           "Saawan"
          ],
          [
           "Beauty and the Bestie"
          ],
          [
           "The CEO"
          ],
          [
           "Sam Kinison: The Scream Continues"
          ],
          [
           "Sila Samayangalil"
          ],
          [
           "Ricardo O'Farrill: Abrazo Genial"
          ],
          [
           "Brahman Naman"
          ],
          [
           "Dedemin FiÅŸi"
          ],
          [
           "My Stupid Boss"
          ],
          [
           "Love O2O"
          ],
          [
           "Ojukokoro (Greed)"
          ],
          [
           "Aerials"
          ],
          [
           "Cedric the Entertainer: Live from the Ville"
          ],
          [
           "The Blind Christ"
          ],
          [
           "Black"
          ],
          [
           "Souk Bazaar"
          ],
          [
           "Dharam Sankat Mein"
          ],
          [
           "#Rucker50"
          ],
          [
           "Barcelona: A Love Untold"
          ],
          [
           "Project Marathwada"
          ],
          [
           "Gang of the Caribbean"
          ],
          [
           "Budhia Singh: Born to Run"
          ],
          [
           "Crazy Beautiful You"
          ],
          [
           "Kara Bela"
          ],
          [
           "Road To High & Low"
          ],
          [
           "The Breakup Playlist"
          ],
          [
           "Vince & Kath & James"
          ],
          [
           "Sommore: The Reign Continues"
          ],
          [
           "The Last Egg"
          ],
          [
           "Ricardo O'Farrill: abrazo navideÃ±o"
          ],
          [
           "You're My Boss"
          ],
          [
           "Everyday I Love You"
          ],
          [
           "Triumph in the Skies"
          ],
          [
           "The Super Parental Guardians"
          ],
          [
           "Gbomo Gbomo Express"
          ],
          [
           "Chris D'Elia: Incorrigible"
          ],
          [
           "Virunga: Gorillas in Peril"
          ],
          [
           "Janoskians: Untold and Untrue"
          ],
          [
           "Dieter Nuhr: Nuhr in Berlin"
          ],
          [
           "Santa Banta Pvt Ltd"
          ],
          [
           "'76"
          ],
          [
           "Chhota Bheem in African Safari"
          ],
          [
           "Grandmother's Farm Part 2"
          ],
          [
           "Jandino: Whatever it Takes"
          ],
          [
           "The Unmarried Wife"
          ],
          [
           "The Love Affair"
          ],
          [
           "Snervous Tyler Oakley"
          ],
          [
           "Meet The in-Laws"
          ],
          [
           "Oloibiri"
          ],
          [
           "A Chaster Marriage"
          ],
          [
           "Hajwala: The Missing Engine"
          ],
          [
           "The Arbitration"
          ],
          [
           "Just the Way You Are"
          ],
          [
           "The Third Party"
          ],
          [
           "Lakeeran"
          ],
          [
           "Love Is a Story"
          ],
          [
           "Time Out"
          ],
          [
           "Jada"
          ],
          [
           "Blade Runner 2049"
          ],
          [
           "Sorry to Bother You"
          ],
          [
           "Dunkirk"
          ],
          [
           "Wind River"
          ],
          [
           "Molly's Game"
          ],
          [
           "Den of Thieves"
          ],
          [
           "Phantom Thread"
          ],
          [
           "Lady Bird"
          ],
          [
           "The Ritual"
          ],
          [
           "Darkest Hour"
          ],
          [
           "The Nightingale"
          ],
          [
           "How It Ends"
          ],
          [
           "The Disaster Artist"
          ],
          [
           "Ghostland"
          ],
          [
           "Perfect Bid: The Contestant Who Knew Too Much"
          ],
          [
           "The Ballad of Buster Scruggs"
          ],
          [
           "Okja"
          ],
          [
           "The Bad Batch"
          ],
          [
           "Shot Caller"
          ],
          [
           "The Shack"
          ],
          [
           "Roma"
          ],
          [
           "Crooked House"
          ],
          [
           "The Beguiled"
          ],
          [
           "What Happened to Monday"
          ],
          [
           "The Foreigner"
          ],
          [
           "Apostle"
          ],
          [
           "Icarus"
          ],
          [
           "The Package"
          ],
          [
           "Mary Magdalene"
          ],
          [
           "Gerald's Game"
          ],
          [
           "Level 16"
          ],
          [
           "The Invisible Guest"
          ],
          [
           "The Cloverfield Paradox"
          ],
          [
           "I Don't Feel at Home in This World Anymore"
          ],
          [
           "Abducted in Plain Sight"
          ],
          [
           "Annabelle: Creation"
          ],
          [
           "The Witch: Part 1. The Subversion"
          ],
          [
           "Kodachrome"
          ],
          [
           "Calibre"
          ],
          [
           "I Am Not Your Negro"
          ],
          [
           "Bird Box"
          ],
          [
           "The Zookeeper's Wife"
          ],
          [
           "Outlaw King"
          ],
          [
           "Veronica"
          ],
          [
           "Beirut"
          ],
          [
           "The Night Comes for Us"
          ],
          [
           "Destination Wedding"
          ],
          [
           "Cam"
          ],
          [
           "The Meyerowitz Stories (New and Selected)"
          ],
          [
           "Malevolent"
          ],
          [
           "The Babysitter"
          ],
          [
           "When We First Met"
          ],
          [
           "Extinction"
          ],
          [
           "To All the Boys I've Loved Before"
          ],
          [
           "Cargo"
          ],
          [
           "Everybody Knows"
          ],
          [
           "The Guernsey Literary & Potato Peel Pie Society"
          ],
          [
           "1922"
          ],
          [
           "Home Again"
          ],
          [
           "Mudbound"
          ],
          [
           "The Book of Henry"
          ],
          [
           "Jim & Andy: The Great Beyond - Featuring a Very Special, Contractually Obligated Mention of Tony Clifton"
          ],
          [
           "Berlin Syndrome"
          ],
          [
           "Anon"
          ],
          [
           "Replicas"
          ],
          [
           "Private Life"
          ],
          [
           "Beyond Skyline"
          ],
          [
           "A Futile and Stupid Gesture"
          ],
          [
           "Mirai"
          ],
          [
           "The Strangers: Prey at Night"
          ],
          [
           "King of Thieves"
          ],
          [
           "Hold the Dark"
          ],
          [
           "Black Mirror: Bandersnatch"
          ],
          [
           "RBG"
          ],
          [
           "BÄhubali 2: The Conclusion"
          ],
          [
           "The Perfection"
          ],
          [
           "The Discovery"
          ],
          [
           "The Kindergarten Teacher"
          ],
          [
           "Wheelman"
          ],
          [
           "Mirage"
          ],
          [
           "Set It Up"
          ],
          [
           "An Evening with Beverly Luff Linn"
          ],
          [
           "The Delivery Boy"
          ],
          [
           "Little Italy"
          ],
          [
           "The Outsider"
          ],
          [
           "Skins"
          ],
          [
           "Hannah Gadsby: Nanette"
          ],
          [
           "Banana Split"
          ],
          [
           "Creep 2"
          ],
          [
           "Dumplin'"
          ],
          [
           "Shirkers"
          ],
          [
           "The After Party"
          ],
          [
           "Red Joan"
          ],
          [
           "Mute"
          ],
          [
           "Hell Fest"
          ],
          [
           "Small Town Crime"
          ],
          [
           "Adrift"
          ],
          [
           "Happy as Lazzaro"
          ],
          [
           "A Bad Moms Christmas"
          ],
          [
           "A-X-L"
          ],
          [
           "The Other Side of the Wind"
          ],
          [
           "Ravenous"
          ],
          [
           "22-Jul"
          ],
          [
           "Victoria & Abdul"
          ],
          [
           "May the Devil Take You"
          ],
          [
           "Buster's Mal Heart"
          ],
          [
           "Death Note"
          ],
          [
           "Bright"
          ],
          [
           "The Incredible Jessica James"
          ],
          [
           "The Kissing Booth"
          ],
          [
           "Handsome Devil"
          ],
          [
           "Sand Castle"
          ],
          [
           "Errementari: The Blacksmith and the Devil"
          ],
          [
           "Holy Camp!"
          ],
          [
           "Game Over, Man!"
          ],
          [
           "Forgotten"
          ],
          [
           "Piercing"
          ],
          [
           "On Body and Soul"
          ],
          [
           "Mowgli: Legend of the Jungle"
          ],
          [
           "No Escape Room"
          ],
          [
           "Goon: Last of the Enforcers"
          ],
          [
           "Ricky Gervais: Humanity"
          ],
          [
           "Trolls Holiday"
          ],
          [
           "To the Bone"
          ],
          [
           "The Bar"
          ],
          [
           "Siberia"
          ],
          [
           "Woodshock"
          ],
          [
           "War Machine"
          ],
          [
           "Illang: The Wolf Brigade"
          ],
          [
           "Security"
          ],
          [
           "Newness"
          ],
          [
           "The Breaker Upperers"
          ],
          [
           "Joan Didion: The Center Will Not Hold"
          ],
          [
           "Clive Davis: The Soundtrack of Our Lives"
          ],
          [
           "We the Animals"
          ],
          [
           "Welcome Home"
          ],
          [
           "Midnight Sun"
          ],
          [
           "Unicorn Store"
          ],
          [
           "Tau"
          ],
          [
           "Brain on Fire"
          ],
          [
           "If I Leave Here Tomorrow: A Film About Lynyrd Skynyrd"
          ],
          [
           "Bathtubs Over Broadway"
          ],
          [
           "What the Health"
          ],
          [
           "Duck Butter"
          ],
          [
           "The Long Dumb Road"
          ],
          [
           "Bill Nye: Science Guy"
          ],
          [
           "Mr. Roosevelt"
          ],
          [
           "John Mulaney: Kid Gorgeous at Radio City"
          ],
          [
           "Win It All"
          ],
          [
           "Andhadhun"
          ],
          [
           "In Darkness"
          ],
          [
           "Shimmer Lake"
          ],
          [
           "The Debt Collector"
          ],
          [
           "Orbiter 9"
          ],
          [
           "Day of the Dead: Bloodline"
          ],
          [
           "Lovesong"
          ],
          [
           "Reversing Roe"
          ],
          [
           "First They Killed My Father"
          ],
          [
           "The Titan"
          ],
          [
           "Girlfriend's Day"
          ],
          [
           "Animal Crackers"
          ],
          [
           "Dude"
          ],
          [
           "My Happy Family"
          ],
          [
           "Unrest"
          ],
          [
           "iBoy"
          ],
          [
           "Ibiza"
          ],
          [
           "The Resurrection of Gavin Stone"
          ],
          [
           "Strong Island"
          ],
          [
           "Bad Genius"
          ],
          [
           "Godzilla: The Planet Eater"
          ],
          [
           "Blame!"
          ],
          [
           "Bullet Head"
          ],
          [
           "The Photographer of Mauthausen"
          ],
          [
           "The Most Hated Woman in America"
          ],
          [
           "River's Edge"
          ],
          [
           "Godzilla: Planet of the Monsters"
          ],
          [
           "Girl"
          ],
          [
           "Acts of Vengeance"
          ],
          [
           "Bleach"
          ],
          [
           "Our Souls at Night"
          ],
          [
           "Psychokinesis"
          ],
          [
           "Oh, Hello on Broadway"
          ],
          [
           "Birth of the Dragon"
          ],
          [
           "Little Evil"
          ],
          [
           "Gaga: Five Foot Two"
          ],
          [
           "Fullmetal Alchemist"
          ],
          [
           "The Angel"
          ],
          [
           "Benji"
          ],
          [
           "White Fang"
          ],
          [
           "The Resistance Banker"
          ],
          [
           "The Land of Steady Habits"
          ],
          [
           "Steve Martin and Martin Short: An Evening You Will Forget for the Rest of Your Life"
          ],
          [
           "Clinical"
          ],
          [
           "The Battleship Island"
          ],
          [
           "Lu Over the Wall"
          ],
          [
           "Hampstead"
          ],
          [
           "Reprisal"
          ],
          [
           "Like Father"
          ],
          [
           "MILF"
          ],
          [
           "The Open House"
          ],
          [
           "Catfight"
          ],
          [
           "My Teacher, My Obsession"
          ],
          [
           "Take Me"
          ],
          [
           "MFKZ"
          ],
          [
           "Steel Rain"
          ],
          [
           "Sad Hill Unearthed"
          ],
          [
           "Zero"
          ],
          [
           "The Christmas Chronicles"
          ],
          [
           "Nothing to Hide"
          ],
          [
           "Patrick"
          ],
          [
           "The Ottoman Lieutenant"
          ],
          [
           "Casting JonBenet"
          ],
          [
           "The World Is Yours"
          ],
          [
           "Long Shot"
          ],
          [
           "Outside In"
          ],
          [
           "Next Gen"
          ],
          [
           "The Saint"
          ],
          [
           "Voyeur"
          ],
          [
           "Get Me Roger Stone"
          ],
          [
           "Hey Arnold! The Jungle Movie"
          ],
          [
           "Irreplaceable You"
          ],
          [
           "Amar"
          ],
          [
           "Tig Notaro: Happy To Be Here"
          ],
          [
           "Carrie Pilby"
          ],
          [
           "Fun Mom Dinner"
          ],
          [
           "I Am Jonas"
          ],
          [
           "Springsteen On Broadway"
          ],
          [
           "Te Ata"
          ],
          [
           "Cuba and the Cameraman"
          ],
          [
           "Indian Horse"
          ],
          [
           "I Am Not an Easy Man"
          ],
          [
           "The Forgiven"
          ],
          [
           "You Get Me"
          ],
          [
           "The Climb"
          ],
          [
           "Sarah Silverman: A Speck of Dust"
          ],
          [
           "Hasan Minhaj: Homecoming King"
          ],
          [
           "Modest Heroes"
          ],
          [
           "Mercury 13"
          ],
          [
           "The Fortress"
          ],
          [
           "Godzilla: City on the Edge of Battle"
          ],
          [
           "Quincy"
          ],
          [
           "Struggle: The Life and Lost Art of Szukalski"
          ],
          [
           "The Outcasts"
          ],
          [
           "The Invisible Guardian"
          ],
          [
           "Bending the Arc"
          ],
          [
           "Take the Ball, Pass the Ball"
          ],
          [
           "Adam Sandler: 100% Fresh"
          ],
          [
           "An Imperfect Murder"
          ],
          [
           "Mike Birbiglia: Thank God for Jokes"
          ],
          [
           "Sky Ladder: The Art of Cai Guo-Qiang"
          ],
          [
           "Gnome Alone"
          ],
          [
           "Neal Brennan: 3 Mics"
          ],
          [
           "Sandy Wexler"
          ],
          [
           "The Week Of"
          ],
          [
           "Naked"
          ],
          [
           "The Bleeding Edge"
          ],
          [
           "Taylor Swift: Reputation Stadium Tour"
          ],
          [
           "Toc Toc"
          ],
          [
           "John Leguizamo's Latin History for Morons"
          ],
          [
           "And Breathe Normally"
          ],
          [
           "The Awakening of Motti Wolkenbruch"
          ],
          [
           "Charming"
          ],
          [
           "Giant"
          ],
          [
           "Solo"
          ],
          [
           "The Killer"
          ],
          [
           "Flavors of Youth"
          ],
          [
           "The Polka King"
          ],
          [
           "The Legacy of a Whitetail Deer Hunter"
          ],
          [
           "Come Sunday"
          ],
          [
           "The Death and Life of Marsha P. Johnson"
          ],
          [
           "Monster High: Electrified"
          ],
          [
           "Mersal"
          ],
          [
           "Fred Armisen: Standup for Drummers"
          ],
          [
           "Perdida"
          ],
          [
           "Sarkar"
          ],
          [
           "CamarÃ³n: The Film"
          ],
          [
           "S.W.A.T.: Under Siege"
          ],
          [
           "High Society"
          ],
          [
           "Generation Iron 3"
          ],
          [
           "Whose Streets?"
          ],
          [
           "One of Us"
          ],
          [
           "The Rachel Divide"
          ],
          [
           "My Masterpiece"
          ],
          [
           "Brian Regan: Nunchucks and Flamethrowers"
          ],
          [
           "Alex Strangelove"
          ],
          [
           "Lowriders"
          ],
          [
           "Chris Rock: Tamborine"
          ],
          [
           "Your Son"
          ],
          [
           "Justice"
          ],
          [
           "NY Prison Break: The Seduction of Joyce Mitchell"
          ],
          [
           "Tom Segura: Disgraceful"
          ],
          [
           "It's for Your Own Good"
          ],
          [
           "Sierra Burgess Is a Loser"
          ],
          [
           "Battle"
          ],
          [
           "The Seven Deadly Sins: Prisoners of the Sky"
          ],
          [
           "Christmas Inheritance"
          ],
          [
           "Jo Koy: Live from Seattle"
          ],
          [
           "Okko's Inn"
          ],
          [
           "Christmas in the Heartland"
          ],
          [
           "How to Be Really Bad"
          ],
          [
           "A Christmas Prince"
          ],
          [
           "The Stolen"
          ],
          [
           "Father of the Year"
          ],
          [
           "Killing Hasselhoff"
          ],
          [
           "Pottersville"
          ],
          [
           "Thi Mai"
          ],
          [
           "Paradise Lost"
          ],
          [
           "Derren Brown: Sacrifice"
          ],
          [
           "YucatÃ¡n"
          ],
          [
           "A Twelve-Year Night"
          ],
          [
           "Happy Anniversary"
          ],
          [
           "Maria Bamford: Old Baby"
          ],
          [
           "Rock my Heart"
          ],
          [
           "Us and Them"
          ],
          [
           "Manhunt"
          ],
          [
           "The B-Side: Elsa Dorfman's Portrait Photography"
          ],
          [
           "A Very Country Christmas"
          ],
          [
           "Greg Davies: You Magnificent Beast"
          ],
          [
           "When Angels Sleep"
          ],
          [
           "Bert Kreischer: Secret Time"
          ],
          [
           "Show Dogs"
          ],
          [
           "Escape from Mr. Lemoncello's Library"
          ],
          [
           "Bhavesh Joshi Superhero"
          ],
          [
           "Amateur"
          ],
          [
           "Fireworks"
          ],
          [
           "Pachamama"
          ],
          [
           "Lust Stories"
          ],
          [
           "All I Wish"
          ],
          [
           "The Clapper"
          ],
          [
           "Chasing Coral"
          ],
          [
           "Disconnect"
          ],
          [
           "Take Your Pills"
          ],
          [
           "Raees"
          ],
          [
           "Bad Seeds"
          ],
          [
           "Animal World"
          ],
          [
           "Seeking a Man"
          ],
          [
           "Toilet: A Love Story"
          ],
          [
           "6 Balloons"
          ],
          [
           "#realityhigh"
          ],
          [
           "Seth Rogen's Hilarity for Charity"
          ],
          [
           "Stree"
          ],
          [
           "Wedding Unplanned"
          ],
          [
           "Close Enemies"
          ],
          [
           "The Tree of Blood"
          ],
          [
           "They'll Love Me When I'm Dead"
          ],
          [
           "Nappily Ever After"
          ],
          [
           "Bomb Scared"
          ],
          [
           "Handsome: A Netflix Mystery Movie"
          ],
          [
           "Lommbock"
          ],
          [
           "Maktub"
          ],
          [
           "Black Is Beltza"
          ],
          [
           "The Legend of Cocaine Island"
          ],
          [
           "Mom"
          ],
          [
           "Half Girlfriend"
          ],
          [
           "The Motive"
          ],
          [
           "Lady J"
          ],
          [
           "Right Here Right Now"
          ],
          [
           "ShÃ©hÃ©razade"
          ],
          [
           "Shepherds and Butchers"
          ],
          [
           "The Most Unknown"
          ],
          [
           "A Fortunate Man"
          ],
          [
           "LEGO Marvel Super Heroes: Guardians of the Galaxy - The Thanos Threat"
          ],
          [
           "Out of Thin Air"
          ],
          [
           "Ron White: If You Quit Listening, I'll Shut Up"
          ],
          [
           "Sir"
          ],
          [
           "Secret Superstar"
          ],
          [
           "Pope Francis: A Man of His Word"
          ],
          [
           "Demetri Martin: The Overthinker"
          ],
          [
           "Katt Williams: Great America"
          ],
          [
           "Sahara"
          ],
          [
           "Budapest"
          ],
          [
           "El Camino Christmas"
          ],
          [
           "BuyBust"
          ],
          [
           "Patton Oswalt: Annihilation"
          ],
          [
           "Ali's Wedding"
          ],
          [
           "Amy Schumer: The Leather Special"
          ],
          [
           "Aapla Manus"
          ],
          [
           "Bibi & Tina: Perfect Pandemonium"
          ],
          [
           "Retablo"
          ],
          [
           "The American Meme"
          ],
          [
           "Holy Goalie"
          ],
          [
           "Burn Out"
          ],
          [
           "The Tribe"
          ],
          [
           "Family Blood"
          ],
          [
           "Break"
          ],
          [
           "Derren Brown: The Push"
          ],
          [
           "First Match"
          ],
          [
           "Point Blank"
          ],
          [
           "The Warning"
          ],
          [
           "The Princess Switch"
          ],
          [
           "Sanju"
          ],
          [
           "LEGO Marvel Super Heroes: Black Panther - Trouble in Wakanda"
          ],
          [
           "My Perfect Romance"
          ],
          [
           "The Drug King"
          ],
          [
           "Nigerian Prince"
          ],
          [
           "Sun Dogs"
          ],
          [
           "A Witches' Ball"
          ],
          [
           "Ittefaq"
          ],
          [
           "The Chase"
          ],
          [
           "Eerie"
          ],
          [
           "Going for Gold"
          ],
          [
           "Judwaa 2"
          ],
          [
           "The Milk System"
          ],
          [
           "Ronnie Coleman: The King"
          ],
          [
           "Nobody Speak: Trials of the Free Press"
          ],
          [
           "Bareilly Ki Barfi"
          ],
          [
           "Duck Duck Goose"
          ],
          [
           "Revenger"
          ],
          [
           "Little Boxes"
          ],
          [
           "Jerry Before Seinfeld"
          ],
          [
           "Norm Macdonald: Hitler's Dog, Gossip & Trickery"
          ],
          [
           "Mustang Island"
          ],
          [
           "The Laws of Thermodynamics"
          ],
          [
           "Edge of Fear"
          ],
          [
           "Nothing to Lose"
          ],
          [
           "Uncertain Glory"
          ],
          [
           "Expedition Happiness"
          ],
          [
           "Taramani"
          ],
          [
           "Step Sisters"
          ],
          [
           "Dovlatov"
          ],
          [
           "Hot Sweet Sour"
          ],
          [
           "SPF-18"
          ],
          [
           "Samouni Road"
          ],
          [
           "My Birthday Song"
          ],
          [
           "ReMastered: Tricky Dick & The Man in Black"
          ],
          [
           "Joe Rogan: Strange Times"
          ],
          [
           "Alaska Is a Drag"
          ],
          [
           "Rangoon"
          ],
          [
           "A Christmas Prince: The Royal Wedding"
          ],
          [
           "Something Huge"
          ],
          [
           "Trevor Noah: Son of Patricia"
          ],
          [
           "Raising the Bar"
          ],
          [
           "Pup Star: Better 2Gether"
          ],
          [
           "Jab Harry Met Sejal"
          ],
          [
           "Kuroko's Basketball the Movie: Last Game"
          ],
          [
           "Tottaa Pataaka Item Maal"
          ],
          [
           "Pihu"
          ],
          [
           "Isoken"
          ],
          [
           "The Little Vampire 3D"
          ],
          [
           "Armed to the Teeth"
          ],
          [
           "Spyder"
          ],
          [
           "Saving Capitalism"
          ],
          [
           "Carbone"
          ],
          [
           "Ali Wong: Hard Knock Wife"
          ],
          [
           "The Last Shaman"
          ],
          [
           "Feminists: What Were They Thinking?"
          ],
          [
           "Dany Boon: Des Hauts-De-France"
          ],
          [
           "QuiÃ©n te cantarÃ¡"
          ],
          [
           "Barbra: The Music ... The Mem'ries ... The Magic!"
          ],
          [
           "Russell Brand: Re:Birth"
          ],
          [
           "Katherine Ryan: In Trouble"
          ],
          [
           "The 3rd Eye"
          ],
          [
           "Small Crimes"
          ],
          [
           "Ee Nagaraniki Emaindi"
          ],
          [
           "Gun City"
          ],
          [
           "Craig Ferguson: Tickle Fight"
          ],
          [
           "El club de los buenos infieles"
          ],
          [
           "Deidra & Laney Rob a Train"
          ],
          [
           "Jagga Jasoos"
          ],
          [
           "Candy Jar"
          ],
          [
           "Christmas Wedding Planner"
          ],
          [
           "Parmanu: The Story of Pokhran"
          ],
          [
           "F.R.E.D.I."
          ],
          [
           "Roxanne, Roxanne"
          ],
          [
           "Rip Tide"
          ],
          [
           "Jeff Dunham: Relative Disaster"
          ],
          [
           "The Insomnia Club"
          ],
          [
           "Rodney Carrington: Here Comes the Truth"
          ],
          [
           "ReMastered: Who Shot the Sheriff"
          ],
          [
           "What We Started"
          ],
          [
           "Marc Maron: Too Real"
          ],
          [
           "Christina P: Mother Inferior"
          ],
          [
           "Baazaar"
          ],
          [
           "Getaway Plan"
          ],
          [
           "Bill Burr: Walk Your Way Out"
          ],
          [
           "Trevor Noah: Afraid of the Dark"
          ],
          [
           "The Plagues of Breslau"
          ],
          [
           "Qarib Qarib Singlle"
          ],
          [
           "Joy"
          ],
          [
           "Zoo"
          ],
          [
           "Forgive Us Our Debts"
          ],
          [
           "Derren Brown: Miracle"
          ],
          [
           "Angamaly Diaries"
          ],
          [
           "PerÃº: Tesoro Escondido"
          ],
          [
           "Dry Martina"
          ],
          [
           "Sara's Notebook"
          ],
          [
           "HiGH&LOW The Movie 2: End of Sky"
          ],
          [
           "Sand Storm"
          ],
          [
           "CIA: Comrade In America"
          ],
          [
           "The Art of Loving: Story of Michalina Wislocka"
          ],
          [
           "ReMastered: Who Killed Jam Master Jay?"
          ],
          [
           "Love Beats Rhymes"
          ],
          [
           "Burning Sands"
          ],
          [
           "Judd Apatow: The Return"
          ],
          [
           "Up Among the Stars"
          ],
          [
           "Sabrina"
          ],
          [
           "Jailbreak"
          ],
          [
           "Secrets in the Hot Spring"
          ],
          [
           "III Smoking Barrels"
          ],
          [
           "Iliza Shlesinger: Elder Millennial"
          ],
          [
           "Manto"
          ],
          [
           "The Skin of the Wolf"
          ],
          [
           "Being Napoleon"
          ],
          [
           "El testigo"
          ],
          [
           "All Good"
          ],
          [
           "Paradox"
          ],
          [
           "Monster Island"
          ],
          [
           "Invisible"
          ],
          [
           "Counterpunch"
          ],
          [
           "Weed the People"
          ],
          [
           "Dear Ex"
          ],
          [
           "Rory Scovel Tries Stand-Up for the First Time"
          ],
          [
           "Cycle"
          ],
          [
           "How to Stage a Coup"
          ],
          [
           "Qismat"
          ],
          [
           "Milada"
          ],
          [
           "Romina"
          ],
          [
           "The Most Assassinated Woman in the World"
          ],
          [
           "B. A. Pass 2"
          ],
          [
           "Kalushi : The Story of Solomon Mahlangu"
          ],
          [
           "Franco Escamilla: Por La AnÃ©cdota"
          ],
          [
           "Michael Bolton's Big, Sexy Valentine's Day Special"
          ],
          [
           "A Champion Heart"
          ],
          [
           "The Russian Revolution"
          ],
          [
           "On My Skin"
          ],
          [
           "Love per Square Foot"
          ],
          [
           "The Mansion"
          ],
          [
           "Lucid Dream"
          ],
          [
           "In the Family"
          ],
          [
           "Jefe"
          ],
          [
           "The Gift"
          ],
          [
           "Dear Son"
          ],
          [
           "Mission Kathmandu: The Adventures of Nelly & Simon"
          ],
          [
           "Baadshaho"
          ],
          [
           "Love.com"
          ],
          [
           "Ex-Shaman"
          ],
          [
           "Recovery Boys"
          ],
          [
           "Christmas with a Prince"
          ],
          [
           "Bayonet"
          ],
          [
           "Frat Star"
          ],
          [
           "A Sort of Family"
          ],
          [
           "Sudani from Nigeria"
          ],
          [
           "Kuntilanak"
          ],
          [
           "The Last Hour"
          ],
          [
           "Njan Prakashan"
          ],
          [
           "The Crossing"
          ],
          [
           "The Holiday Calendar"
          ],
          [
           "Cities of Last Things"
          ],
          [
           "Seeing Allred"
          ],
          [
           "The Grown-Ups"
          ],
          [
           "Christmas with a View"
          ],
          [
           "Paranormal Investigation"
          ],
          [
           "Carlos Ballarta: furia Ã±era"
          ],
          [
           "C/o Kancharapalem"
          ],
          [
           "Coin Heist"
          ],
          [
           "Semesta"
          ],
          [
           "Rajma Chawal"
          ],
          [
           "SofÃ­a NiÃ±o de Rivera: Natural Selection"
          ],
          [
           "Unbridled"
          ],
          [
           "The Mars Generation"
          ],
          [
           "Deranged"
          ],
          [
           "El Diesel"
          ],
          [
           "Time Share"
          ],
          [
           "The Wishing Tree"
          ],
          [
           "Overnight Republic"
          ],
          [
           "Been So Long"
          ],
          [
           "Gad Elmaleh: American Dream"
          ],
          [
           "Maz Jobrani: Immigrant"
          ],
          [
           "Love Jacked"
          ],
          [
           "Kartini: Princess of Java"
          ],
          [
           "Resurface"
          ],
          [
           "Laerte-se"
          ],
          [
           "Take the 10"
          ],
          [
           "Ladies First"
          ],
          [
           "Dismissal"
          ],
          [
           "Sunday's Illness"
          ],
          [
           "Target"
          ],
          [
           "Liberated: The New Sexual Revolution"
          ],
          [
           "Naam Shabana"
          ],
          [
           "Born Racer"
          ],
          [
           "The Girl Allergic to Wi-Fi"
          ],
          [
           "HiGH&LOW The Movie 3: Final Mission"
          ],
          [
           "Kevin James: Never Don't Give Up"
          ],
          [
           "Sylvia"
          ],
          [
           "Suzzanna: Buried Alive"
          ],
          [
           "The Doll 2"
          ],
          [
           "How to Get Over a Breakup"
          ],
          [
           "Cook Off"
          ],
          [
           "Weapon of Choice"
          ],
          [
           "All the Reasons to Forget"
          ],
          [
           "The Lost Brother"
          ],
          [
           "D.L. Hughley: Contrarian"
          ],
          [
           "Hometown Holiday"
          ],
          [
           "Can't Help Falling in Love"
          ],
          [
           "Blanche Gardin: I Talk to Myself"
          ],
          [
           "Fishtronaut: The Movie"
          ],
          [
           "Gad Gone Wild"
          ],
          [
           "Awe!"
          ],
          [
           "Pad Man"
          ],
          [
           "Jack Whitehall: At Large"
          ],
          [
           "Sparring"
          ],
          [
           "My Travel Buddy"
          ],
          [
           "Tiffany Haddish: She Ready! From the Hood to Hollywood!"
          ],
          [
           "Catching Feelings"
          ],
          [
           "Jen Kirkman: Just Keep Livin'?"
          ],
          [
           "Crossroads: One Two Jaga"
          ],
          [
           "Superlopez"
          ],
          [
           "The Birth Reborn 2"
          ],
          [
           "The Last Runaway"
          ],
          [
           "Soorma"
          ],
          [
           "Cristela Alonzo: Lower Classy"
          ],
          [
           "48 Christmas Wishes"
          ],
          [
           "The Maus"
          ],
          [
           "Bygones Be Bygones"
          ],
          [
           "Russell Howard: Recalibrate"
          ],
          [
           "The Girl From the Song"
          ],
          [
           "Manu"
          ],
          [
           "Goyo: The Boy General"
          ],
          [
           "Lucas Brothers: On Drugs"
          ],
          [
           "Coffee for All"
          ],
          [
           "Loudon Wainwright III: Surviving Twin"
          ],
          [
           "Ana e VitÃ³ria"
          ],
          [
           "King of Boys"
          ],
          [
           "Silence Is Welcome"
          ],
          [
           "Two Catalonias"
          ],
          [
           "No One Will Ever Know"
          ],
          [
           "Def Comedy Jam 25"
          ],
          [
           "Bon Cop Bad Cop 2"
          ],
          [
           "Jim Jefferies: This Is Me Now"
          ],
          [
           "Match"
          ],
          [
           "Mubarakan"
          ],
          [
           "Paskal"
          ],
          [
           "Stars in the Sky: A Hunting Story"
          ],
          [
           "Tattoo of Revenge"
          ],
          [
           "Pickpockets"
          ],
          [
           "El Potro: lo mejor del amor"
          ],
          [
           "Neevevaro"
          ],
          [
           "Judah Friedlander: America Is the Greatest Country in the United States"
          ],
          [
           "Aurora"
          ],
          [
           "Gunshot"
          ],
          [
           "Smaller and Smaller Circles"
          ],
          [
           "Todd Barry: Spicy Honey"
          ],
          [
           "Joshua: Teenager vs. Superpower"
          ],
          [
           "The Bros"
          ],
          [
           "5 Star Christmas"
          ],
          [
           "The Reservoir Game"
          ],
          [
           "Todo lo que serÃ­a Lucas Lauriente"
          ],
          [
           "DTC â€“Yukemuri Junjo Henâ€“ from HiGH&LOW"
          ],
          [
           "Hari Kondabolu: Warn Your Relatives"
          ],
          [
           "Alexis de Anda: Mea Culpa"
          ],
          [
           "Freej Al Taibeen"
          ],
          [
           "Gurgaon"
          ],
          [
           "Ani... Dr. Kashinath Ghanekar"
          ],
          [
           "Jim Norton: Mouthful of Shame"
          ],
          [
           "Jonaki"
          ],
          [
           "Rafinha Bastos: Ultimatum"
          ],
          [
           "A StoryBots Christmas"
          ],
          [
           "Lionheart"
          ],
          [
           "To Each, Her Own"
          ],
          [
           "Night of Knots"
          ],
          [
           "Love You to the Stars and Back"
          ],
          [
           "Marlon Wayans: Woke-ish"
          ],
          [
           "Ghost Hunting"
          ],
          [
           "Music Teacher"
          ],
          [
           "Poster Boys"
          ],
          [
           "Munafik 2"
          ],
          [
           "The Hows of Us"
          ],
          [
           "Marco Luque - We are together"
          ],
          [
           "Felipe Neto: My Life Makes No Sense"
          ],
          [
           "Aditi Mittal: Things They Wouldn't Let Me Say"
          ],
          [
           "Blessed Benefit"
          ],
          [
           "Malena Pichot: Estupidez compleja"
          ],
          [
           "Chief Daddy"
          ],
          [
           "Adhugo"
          ],
          [
           "Solo el amor"
          ],
          [
           "Hedefim Sensin"
          ],
          [
           "Deliha 2"
          ],
          [
           "Spivak"
          ],
          [
           "For Here or to Go?"
          ],
          [
           "DreamWorks Home: For the Holidays"
          ],
          [
           "Late Life: The Chien-Ming Wang Story"
          ],
          [
           "Listen"
          ],
          [
           "Aiyaary"
          ],
          [
           "Pulang"
          ],
          [
           "Alter Ego"
          ],
          [
           "Ayotzinapa: The Turtle's Pace"
          ],
          [
           "The Price of Success"
          ],
          [
           "I, Potro"
          ],
          [
           "Turkish Dance School"
          ],
          [
           "Vanjagar Ulagam"
          ],
          [
           "Verses of Love 2"
          ],
          [
           "Luciano Mellera: Infantiloide"
          ],
          [
           "My Travel Buddy 2"
          ],
          [
           "Alan SaldaÃ±a: mi vida de pobre"
          ],
          [
           "Vir Das: Abroad Understanding"
          ],
          [
           "Hantu Kak Limah"
          ],
          [
           "Back to Q82"
          ],
          [
           "Garbage"
          ],
          [
           "Teefa in Trouble"
          ],
          [
           "Potato Potahto"
          ],
          [
           "Joe Mande's Award-Winning Comedy Special"
          ],
          [
           "The Royal Hibiscus Hotel"
          ],
          [
           "Puriyaatha Puthir"
          ],
          [
           "Ryan Hamilton: Happy Face"
          ],
          [
           "Daniel Sosa: Sosafado"
          ],
          [
           "Fantastica"
          ],
          [
           "Food on the Go"
          ],
          [
           "AgustÃ­n AristarÃ¡n: Soy Rada"
          ],
          [
           "Grillo vs Grillo"
          ],
          [
           "Jim Gaffigan: Cinco"
          ],
          [
           "Free Rein: The Twelve Neighs of Christmas"
          ],
          [
           "My Ex & Whys"
          ],
          [
           "Pa Paandi"
          ],
          [
           "Penalty Kick"
          ],
          [
           "Noblemen"
          ],
          [
           "Brad Paisley's Comedy Rodeo"
          ],
          [
           "Love, Surreal and Odd"
          ],
          [
           "PacÃ­ficum"
          ],
          [
           "Mama's Boy"
          ],
          [
           "Seven Sundays"
          ],
          [
           "Puppy Star Christmas"
          ],
          [
           "Mo Amer: The Vagabond"
          ],
          [
           "Marriage Palace"
          ],
          [
           "Pahuna: The Little Visitors"
          ],
          [
           "Mahi NRI"
          ],
          [
           "Rodney King"
          ],
          [
           "Exes Baggage"
          ],
          [
           "Mauli"
          ],
          [
           "Tracy Morgan: Staying Alive"
          ],
          [
           "Voulez-vous rire avec moi ce soir?"
          ],
          [
           "La Leyenda del Diamante"
          ],
          [
           "Pup Star: World Tour"
          ],
          [
           "Shubh Aarambh"
          ],
          [
           "Chris D'Elia: Man on Fire"
          ],
          [
           "A Man for The Weekend"
          ],
          [
           "DeRay Davis: How to Act Black"
          ],
          [
           "El Especial de Alex FernÃ¡ndez, el Especial"
          ],
          [
           "Thug Life"
          ],
          [
           "Posesif"
          ],
          [
           "Merku Thodarchi Malai"
          ],
          [
           "Natalia Valdebenito: El especial"
          ],
          [
           "Jani DueÃ±as: Grandes fracasos de ayer y hoy"
          ],
          [
           "Arango y Sanint: RÃ­ase el show"
          ],
          [
           "Doob"
          ],
          [
           "Adel Karam: Live from Beirut"
          ],
          [
           "Love and Shukla"
          ],
          [
           "Alejandro RiaÃ±o: Especial de stand up"
          ],
          [
           "Birdshot"
          ],
          [
           "Kavin Jay : Everybody Calm Down!"
          ],
          [
           "Mau Nieto: viviendo sobrioâ€¦ desde el bar"
          ],
          [
           "Coco y Raulito: Carrusel de ternura"
          ],
          [
           "First Love"
          ],
          [
           "Fernando Sanjiao: Hombre"
          ],
          [
           "Ricardo Quevedo: Hay gente asÃ­"
          ],
          [
           "Si saben cÃ³mo me pongo Â¿Pa' quÃ© me invitan?"
          ],
          [
           "The Lost CafÃ©"
          ],
          [
           "ZoÃ©: Panoramas"
          ],
          [
           "Fabrizio Copano: solo pienso en mÃ­"
          ],
          [
           "Good Game: The Beginning"
          ],
          [
           "Santo cachÃ³n"
          ],
          [
           "Pinky Memsaab"
          ],
          [
           "Heaven Without People"
          ],
          [
           "Edmilson Filho: Notas, Comedy about Relationships"
          ],
          [
           "Hadithi za Kumekucha: Fatuma"
          ],
          [
           "Echcharikkai"
          ],
          [
           "Nathicharami"
          ],
          [
           "Ayana"
          ],
          [
           "Table Manners"
          ],
          [
           "Salam - The First ****** Nobel Laureate"
          ],
          [
           "Todd Glass: Act Happy"
          ],
          [
           "Lilli"
          ],
          [
           "Eve's Apple"
          ],
          [
           "Enissa Amani: Ehrenwort"
          ],
          [
           "Kingdom of Us"
          ],
          [
           "Aruna & Her Palate"
          ],
          [
           "Into the Wind"
          ],
          [
           "Baby Mamas"
          ],
          [
           "Lynne Koplitz: Hormonal Beast"
          ],
          [
           "Jindua"
          ],
          [
           "Yoo Byung Jae: Too Much Information"
          ],
          [
           "Sei"
          ],
          [
           "Christmas Catch"
          ],
          [
           "Project Papa"
          ],
          [
           "#FriendButMarried"
          ],
          [
           "Mr. Chandramouli"
          ],
          [
           "SebastiÃ¡n Marcelo Wainraich"
          ],
          [
           "Dhh"
          ],
          [
           "Three Words to Forever"
          ],
          [
           "In Line"
          ],
          [
           "Unexpectedly Yours"
          ],
          [
           "Next Enti?"
          ],
          [
           "Harith Iskander: I Told You So"
          ],
          [
           "Wedy Atkalam"
          ],
          [
           "Kanavu Variyam"
          ],
          [
           "Simplemente Manu NNa"
          ],
          [
           "For the Broken Hearted"
          ],
          [
           "King of Peking"
          ],
          [
           "BabamÄ±n Ceketi"
          ],
          [
           "Until Midnight"
          ],
          [
           "Fakkah Fuzz: Almost Banned"
          ],
          [
           "Vir Das: Losing It"
          ],
          [
           "What Did I Mess"
          ],
          [
           "Dilan 1990"
          ],
          [
           "Ascharya Fuck It"
          ],
          [
           "Fary Is the New Black"
          ],
          [
           "Brij Mohan Amar Rahe!"
          ],
          [
           "W. Kamau Bell: Private School Negro"
          ],
          [
           "Pandigai"
          ],
          [
           "The Bridge"
          ],
          [
           "Hajwala 2: Mysterious Mission"
          ],
          [
           "Satria Heroes: Revenge of the Darkness"
          ],
          [
           "Fan of Amoory"
          ],
          [
           "Bogda"
          ],
          [
           "Rise: Ini Kalilah"
          ],
          [
           "Meghnadbodh Rohoshyo"
          ],
          [
           "The Suit"
          ],
          [
           "Finally Found Someone"
          ],
          [
           "Super Monsters Save Halloween"
          ],
          [
           "Elf Pets: Santa's St. Bernards Save Christmas"
          ],
          [
           "Catch.er"
          ],
          [
           "Panoptic"
          ],
          [
           "Komola Rocket"
          ],
          [
           "Lara and the Beat"
          ],
          [
           "Si Doel the Movie"
          ],
          [
           "Bahasha"
          ],
          [
           "The Gentlemen"
          ],
          [
           "The Rental"
          ],
          [
           "Uncut Gems"
          ],
          [
           "365 Days"
          ],
          [
           "Rambo: Last Blood"
          ],
          [
           "Freaks"
          ],
          [
           "The King"
          ],
          [
           "I'm Thinking of Ending Things"
          ],
          [
           "The Devil All the Time"
          ],
          [
           "My Octopus Teacher"
          ],
          [
           "The Irishman"
          ],
          [
           "Synchronic"
          ],
          [
           "Hillbilly Elegy"
          ],
          [
           "21 Bridges"
          ],
          [
           "Marriage Story"
          ],
          [
           "The Trial of the Chicago 7"
          ],
          [
           "El Camino: A Breaking Bad Movie"
          ],
          [
           "Eurovision Song Contest: The Story of Fire Saga"
          ],
          [
           "The Call"
          ],
          [
           "In the Shadow of the Moon"
          ],
          [
           "Summerland"
          ],
          [
           "The Social Dilemma"
          ],
          [
           "Fantastic Fungi"
          ],
          [
           "Mank"
          ],
          [
           "6 Underground"
          ],
          [
           "I Care a Lot"
          ],
          [
           "His House"
          ],
          [
           "The Platform"
          ],
          [
           "The Forgotten Battle"
          ],
          [
           "Always Be My Maybe"
          ],
          [
           "Enola Holmes"
          ],
          [
           "Scary Stories to Tell in the Dark"
          ],
          [
           "Triple Frontier"
          ],
          [
           "Fast Color"
          ],
          [
           "The Midnight Sky"
          ],
          [
           "Official Secrets"
          ],
          [
           "I Am Mother"
          ],
          [
           "The Old Guard"
          ],
          [
           "The Outpost"
          ],
          [
           "Extraction"
          ],
          [
           "Occupation: Rainfall"
          ],
          [
           "Extremely Wicked, Shockingly Evil and Vile"
          ],
          [
           "#Alive"
          ],
          [
           "The Old Ways"
          ],
          [
           "The Half of It"
          ],
          [
           "After"
          ],
          [
           "Dolemite Is My Name"
          ],
          [
           "The Professor and the Madman"
          ],
          [
           "The Paper Tigers"
          ],
          [
           "Pieces of a Woman"
          ],
          [
           "Code 8"
          ],
          [
           "Jiu Jitsu"
          ],
          [
           "Bad Trip"
          ],
          [
           "The Wind"
          ],
          [
           "Five Feet Apart"
          ],
          [
           "Murder Mystery"
          ],
          [
           "The Water Man"
          ],
          [
           "Rebecca"
          ],
          [
           "Fyre"
          ],
          [
           "Fractured"
          ],
          [
           "Da 5 Bloods"
          ],
          [
           "The Highwaymen"
          ],
          [
           "The Disciple"
          ],
          [
           "Kiss the Ground"
          ],
          [
           "The Dirt"
          ],
          [
           "Ava"
          ],
          [
           "The Night Clerk"
          ],
          [
           "Ma Rainey's Black Bottom"
          ],
          [
           "Polar"
          ],
          [
           "Yes, God, Yes"
          ],
          [
           "The Prom"
          ],
          [
           "We Summon the Darkness"
          ],
          [
           "Someone Great"
          ],
          [
           "Tread"
          ],
          [
           "Radium Girls"
          ],
          [
           "Sweetheart"
          ],
          [
           "The Wrong Missy"
          ],
          [
           "David Attenborough: A Life on Our Planet"
          ],
          [
           "Skylines"
          ],
          [
           "The Laundromat"
          ],
          [
           "Over the Moon"
          ],
          [
           "The Two Popes"
          ],
          [
           "IO"
          ],
          [
           "All the Bright Places"
          ],
          [
           "Velvet Buzzsaw"
          ],
          [
           "The Occupant"
          ],
          [
           "Can You Keep a Secret?"
          ],
          [
           "PokÃ©mon the Movie: Secrets of the Jungle"
          ],
          [
           "The Red Sea Diving Resort"
          ],
          [
           "Crip Camp: A Disability Revolution"
          ],
          [
           "American Factory"
          ],
          [
           "The Wandering Earth"
          ],
          [
           "Wine Country"
          ],
          [
           "Between Two Ferns: The Movie"
          ],
          [
           "Avengement"
          ],
          [
           "The Wolf's Call"
          ],
          [
           "The Silence"
          ],
          [
           "A Shaun the Sheep Movie: Farmageddon"
          ],
          [
           "Atlantics"
          ],
          [
           "Last Breath"
          ],
          [
           "The Boy Who Harnessed the Wind"
          ],
          [
           "We Have Always Lived in the Castle"
          ],
          [
           "Spenser Confidential"
          ],
          [
           "Doom: Annihilation"
          ],
          [
           "Girl on the Third Floor"
          ],
          [
           "The Great Hack"
          ],
          [
           "Rocks"
          ],
          [
           "Ip Man 4: The Finale"
          ],
          [
           "Ophelia"
          ],
          [
           "After We Collided"
          ],
          [
           "The Last Blockbuster"
          ],
          [
           "In the Tall Grass"
          ],
          [
           "Paradise Hills"
          ],
          [
           "Dick Johnson Is Dead"
          ],
          [
           "American Murder: The Family Next Door"
          ],
          [
           "Rust Creek"
          ],
          [
           "Eli"
          ],
          [
           "I Lost My Body"
          ],
          [
           "Klaus"
          ],
          [
           "Fatima"
          ],
          [
           "Sword of Trust"
          ],
          [
           "The Sleepover"
          ],
          [
           "The Last Thing He Wanted"
          ],
          [
           "Rolling Thunder Revue: A Bob Dylan Story by Martin Scorsese"
          ],
          [
           "Lost Bullet"
          ],
          [
           "Vita & Virginia"
          ],
          [
           "The Vanished"
          ],
          [
           "The Reason I Jump"
          ],
          [
           "Children of the Sea"
          ],
          [
           "The Game Changers"
          ],
          [
           "Concrete Cowboy"
          ],
          [
           "Charlie Says"
          ],
          [
           "Mike Birbiglia: The New One"
          ],
          [
           "1BR"
          ],
          [
           "Bill Burr: Paper Tiger"
          ],
          [
           "The Silence of Others"
          ],
          [
           "Nobody Sleeps in the Woods Tonight"
          ],
          [
           "Calm with Horses"
          ],
          [
           "A Whisker Away"
          ],
          [
           "Lost Girls"
          ],
          [
           "We Can Be Heroes"
          ],
          [
           "Tell Me Who I Am"
          ],
          [
           "Violet Evergarden: The Movie"
          ],
          [
           "Paddleton"
          ],
          [
           "What Lies Below"
          ],
          [
           "Vampires vs. the Bronx"
          ],
          [
           "The Stronghold"
          ],
          [
           "The Swarm"
          ],
          [
           "The Life Ahead"
          ],
          [
           "The Kindness of Strangers"
          ],
          [
           "Captain Underpants: Epic Choice-o-rama"
          ],
          [
           "Sightless"
          ],
          [
           "Project Power"
          ],
          [
           "Rim of the World"
          ],
          [
           "Death of Me"
          ],
          [
           "A Fall from Grace"
          ],
          [
           "The Best of Enemies"
          ],
          [
           "Hubie Halloween"
          ],
          [
           "Secret Obsession"
          ],
          [
           "Ala Vaikunthapurramuloo"
          ],
          [
           "Unbreakable Kimmy Schmidt: Kimmy vs. the Reverend"
          ],
          [
           "Cadaver"
          ],
          [
           "The Paramedic"
          ],
          [
           "See You Yesterday"
          ],
          [
           "Ride Like a Girl"
          ],
          [
           "Miss Americana"
          ],
          [
           "Dave Chappelle: Sticks & Stones"
          ],
          [
           "The Babysitter: Killer Queen"
          ],
          [
           "To All the Boys: P.S. I Still Love You"
          ],
          [
           "The Forty-Year-Old Version"
          ],
          [
           "Triple Threat"
          ],
          [
           "The Willoughbys"
          ],
          [
           "Me Against You: Mr. S's Vendetta"
          ],
          [
           "Miles Davis: Birth of the Cool"
          ],
          [
           "Tall Girl"
          ],
          [
           "High Flying Bird"
          ],
          [
           "Patsy & Loretta"
          ],
          [
           "Altered Carbon: Resleeved"
          ],
          [
           "Taylor Tomlinson: Quarter-Life Crisis"
          ],
          [
           "2 Hearts"
          ],
          [
           "Coded Bias"
          ],
          [
           "Audrey"
          ],
          [
           "Wasp Network"
          ],
          [
           "School Life"
          ],
          [
           "Ghosts of War"
          ],
          [
           "The Fable"
          ],
          [
           "Night in Paradise"
          ],
          [
           "The Perfect Date"
          ],
          [
           "How High 2"
          ],
          [
           "Bigfoot Family"
          ],
          [
           "Barbie: Princess Adventure"
          ],
          [
           "This Changes Everything"
          ],
          [
           "Friendsgiving"
          ],
          [
           "Poms"
          ],
          [
           "Youth v Gov"
          ],
          [
           "Close"
          ],
          [
           "Making The Witcher"
          ],
          [
           "I Am Woman"
          ],
          [
           "Stand by Me Doraemon 2"
          ],
          [
           "Cuties"
          ],
          [
           "The Forest of Love"
          ],
          [
           "Jo Koy: Cominâ€™ In Hot"
          ],
          [
           "PokÃ©mon: Mewtwo Strikes Back - Evolution"
          ],
          [
           "The Stand In"
          ],
          [
           "The Boys in the Band"
          ],
          [
           "Let It Snow"
          ],
          [
           "The Decline"
          ],
          [
           "Disclosure"
          ],
          [
           "How I Became a Super Hero"
          ],
          [
           "The Coldest Game"
          ],
          [
           "Death to 2020"
          ],
          [
           "Pete Davidson: Alive from New York"
          ],
          [
           "Lying and Stealing"
          ],
          [
           "Becoming"
          ],
          [
           "Escaping the NXIVM Cult: A Mother's Fight to Save Her Daughter"
          ],
          [
           "Invader ZIM: Enter the Florpus"
          ],
          [
           "Athlete A"
          ],
          [
           "An Easy Girl"
          ],
          [
           "9to5: The Story of A Movement"
          ],
          [
           "Live Twice, Love Once"
          ],
          [
           "The Lost Husband"
          ],
          [
           "Made You Look: A True Story About Fake Art"
          ],
          [
           "Screwball"
          ],
          [
           "Holidate"
          ],
          [
           "The Wedding Guest"
          ],
          [
           "Then Came You"
          ],
          [
           "BrenÃ© Brown: The Call to Courage"
          ],
          [
           "Anthony Jeselnik: Fire in the Maternity Ward"
          ],
          [
           "John Mulaney & The Sack Lunch Bunch"
          ],
          [
           "Amy Schumer: Growing"
          ],
          [
           "Otherhood"
          ],
          [
           "Twin Murders: The Silence of the White City"
          ],
          [
           "Jingle Jangle: A Christmas Journey"
          ],
          [
           "Framing John DeLorean"
          ],
          [
           "A Cinderella Story: Christmas Wish"
          ],
          [
           "Inside Man: Most Wanted"
          ],
          [
           "Dance of the Forty One"
          ],
          [
           "The Kissing Booth 2"
          ],
          [
           "Definition Please"
          ],
          [
           "Unknown Origins"
          ],
          [
           "Coven"
          ],
          [
           "Falling Inn Love"
          ],
          [
           "Nate Bargatze: The Tennessee Kid"
          ],
          [
           "Dangerous Lies"
          ],
          [
           "Human Nature"
          ],
          [
           "Beats"
          ],
          [
           "A Secret Love"
          ],
          [
           "Earthquake Bird"
          ],
          [
           "LEGO Marvel Spider-Man: Vexed by Venom"
          ],
          [
           "The Hard Way"
          ],
          [
           "Cut Throat City"
          ],
          [
           "Tigertail"
          ],
          [
           "Knock Down the House"
          ],
          [
           "Jim Jefferies: Intolerant"
          ],
          [
           "Your Name Engraved Herein"
          ],
          [
           "Dolly Parton: Here I Am"
          ],
          [
           "Desperados"
          ],
          [
           "David Foster: Off the Record"
          ],
          [
           "Freaks â€“ You're One of Us"
          ],
          [
           "Michelle Wolf: Joke Show"
          ],
          [
           "The Edge of All We Know"
          ],
          [
           "Have a Good Trip: Adventures in Psychedelics"
          ],
          [
           "Sebastian Maniscalco: Stay Hungry"
          ],
          [
           "The Knight Before Christmas"
          ],
          [
           "Silver Skates"
          ],
          [
           "Time to Hunt"
          ],
          [
           "System Crasher"
          ],
          [
           "Homecoming: A Film by BeyoncÃ©"
          ],
          [
           "Nikki Glaser: Bangin'"
          ],
          [
           "Sergio"
          ],
          [
           "Brother"
          ],
          [
           "The Operative"
          ],
          [
           "ReMastered: The Two Killings of Sam Cooke"
          ],
          [
           "Love Wedding Repeat"
          ],
          [
           "Gather"
          ],
          [
           "The Show Must Go On: The Queen + Adam Lambert Story"
          ],
          [
           "Iron Fists and Kung Fu Kicks"
          ],
          [
           "Benchwarmers 2: Breaking Balls"
          ],
          [
           "I'm No Longer Here"
          ],
          [
           "Rocko's Modern Life: Static Cling"
          ],
          [
           "Dear Mother"
          ],
          [
           "Rising High"
          ],
          [
           "Uncorked"
          ],
          [
           "Undercover Brother 2"
          ],
          [
           "Love, Guaranteed"
          ],
          [
           "Pets United"
          ],
          [
           "Under the Eiffel Tower"
          ],
          [
           "Dragons: Rescue Riders: Secrets of the Songwing"
          ],
          [
           "All My Friends Are Dead"
          ],
          [
           "Holiday in the Wild"
          ],
          [
           "Bert Kreischer: Hey Big Boy"
          ],
          [
           "Ronny Chieng: Asian Comedian Destroys America!"
          ],
          [
           "The Edge of Democracy"
          ],
          [
           "Sextuplets"
          ],
          [
           "Legacy of Lies"
          ],
          [
           "M8 - When Death Rescues Life"
          ],
          [
           "Best Wishes, Warmest Regards: A Schitt's Creek Farewell"
          ],
          [
           "Go!"
          ],
          [
           "Seven"
          ],
          [
           "Miracle in Cell No. 7"
          ],
          [
           "Lady Driver"
          ],
          [
           "Captain Underpants: Mega Blissmas"
          ],
          [
           "Furie"
          ],
          [
           "Hard Kill"
          ],
          [
           "Work It"
          ],
          [
           "Ultras"
          ],
          [
           "Bethany Hamilton: Unstoppable"
          ],
          [
           "Jungle Beat: The Movie"
          ],
          [
           "The Binding"
          ],
          [
           "Residue"
          ],
          [
           "Feel the Beat"
          ],
          [
           "Debt Collectors"
          ],
          [
           "Ella Fitzgerald: Just One of Those Things"
          ],
          [
           "All Together Now"
          ],
          [
           "Coffee & Kareem"
          ],
          [
           "Fortune Feimster: Sweet & Salty"
          ],
          [
           "Tom Segura: Ball Hog"
          ],
          [
           "Dark Forces"
          ],
          [
           "Offering to the Storm"
          ],
          [
           "Elisa & Marcela"
          ],
          [
           "18 Presents"
          ],
          [
           "Rose Island"
          ],
          [
           "Oprah Winfrey Presents: When They See Us Now"
          ],
          [
           "Sky High"
          ],
          [
           "Funan"
          ],
          [
           "Circus of Books"
          ],
          [
           "Wheels of Fortune"
          ],
          [
           "The Grizzlies"
          ],
          [
           "Jo Koy: In His Elements"
          ],
          [
           "Bikram: Yogi, Guru, Predator"
          ],
          [
           "Jenny Slate: Stage Fright"
          ],
          [
           "The F**k-It List"
          ],
          [
           "Jerry Seinfeld: 23 Hours to Kill"
          ],
          [
           "ZZ Top: That Little Ol' Band from Texas"
          ],
          [
           "Super Deluxe"
          ],
          [
           "Villain"
          ],
          [
           "Oh, Ramona!"
          ],
          [
           "Larry the Cable Guy: Remain Seated"
          ],
          [
           "Seth Meyers: Lobby Baby"
          ],
          [
           "Svaha: The Sixth Finger"
          ],
          [
           "World Famous Lover"
          ],
          [
           "Bulbbul"
          ],
          [
           "Money Heist: The Phenomenon"
          ],
          [
           "Gold Statue"
          ],
          [
           "Burning Cane"
          ],
          [
           "Gabriel Iglesias: One Show Fits All"
          ],
          [
           "Into the Beat"
          ],
          [
           "Saaho"
          ],
          [
           "Game Over"
          ],
          [
           "A Kid from Coney Island"
          ],
          [
           "A Remarkable Tale"
          ],
          [
           "Michael McIntyre: Showman"
          ],
          [
           "Jezebel"
          ],
          [
           "Trouble"
          ],
          [
           "U Turn"
          ],
          [
           "Frankenstein's Monster's Monster, Frankenstein"
          ],
          [
           "Patria"
          ],
          [
           "Rising Phoenix"
          ],
          [
           "NiNoKuni"
          ],
          [
           "Mucho Mucho Amor: The Legend of Walter Mercado"
          ],
          [
           "The Main Event"
          ],
          [
           "Jack Whitehall: I'm Only Joking"
          ],
          [
           "Violet Evergarden: Eternity and the Auto Memories Doll"
          ],
          [
           "Operation Christmas Drop"
          ],
          [
           "Ek Ladki Ko Dekha Toh Aisa Laga"
          ],
          [
           "Dragon Rider"
          ],
          [
           "American Son"
          ],
          [
           "Only Mine"
          ],
          [
           "Best of Stand-up 2020"
          ],
          [
           "The Crimes That Bind"
          ],
          [
           "Rich in Love"
          ],
          [
           "The Christmas Chronicles: Part Two"
          ],
          [
           "Memories of a Teenager"
          ],
          [
           "The Beast"
          ],
          [
           "The Yin-Yang Master: Dream of Eternity"
          ],
          [
           "El Pepe, A Supreme Life"
          ],
          [
           "The Man Without Gravity"
          ],
          [
           "Cinderela Pop"
          ],
          [
           "Notes for My Son"
          ],
          [
           "Street Flow"
          ],
          [
           "Juanita"
          ],
          [
           "Intuition"
          ],
          [
           "Mrs. Serial Killer"
          ],
          [
           "A Land Imagined"
          ],
          [
           "The Last Days of American Crime"
          ],
          [
           "Ainu Mosir"
          ],
          [
           "37 Seconds"
          ],
          [
           "Jo Pil-ho: The Dawning Rage"
          ],
          [
           "The Ruthless"
          ],
          [
           "In Family I Trust"
          ],
          [
           "DNA"
          ],
          [
           "A Life of Speed: The Juan Manuel Fangio Story"
          ],
          [
           "A California Christmas"
          ],
          [
           "Super Me"
          ],
          [
           "Girls with Balls"
          ],
          [
           "4 latas"
          ],
          [
           "Seventeen"
          ],
          [
           "The Endless Trench"
          ],
          [
           "Menendez: The Day of the Lord"
          ],
          [
           "Brother in Love"
          ],
          [
           "#AnneFrank. Parallel Stories"
          ],
          [
           "The Influence"
          ],
          [
           "Kabir Singh"
          ],
          [
           "Bulbul Can Sing"
          ],
          [
           "Seized"
          ],
          [
           "Roped"
          ],
          [
           "Jarhead: Law of Return"
          ],
          [
           "The Last Laugh"
          ],
          [
           "Grand-Daddy Day Care"
          ],
          [
           "ReMastered: Devil at the Crossroads"
          ],
          [
           "Kardec"
          ],
          [
           "Marc Maron: End Times Fun"
          ],
          [
           "The Man Who Feels No Pain"
          ],
          [
           "Grass Is Greener"
          ],
          [
           "Airplane Mode"
          ],
          [
           "The Claus Family"
          ],
          [
           "Murder to Mercy - The Cyntoia Brown Story"
          ],
          [
           "Monster Run"
          ],
          [
           "Andhaghaaram"
          ],
          [
           "So My Grandma's a Lesbian!"
          ],
          [
           "Felix Lobrecht: Hype"
          ],
          [
           "Franco Escamilla: bienvenido al mundo"
          ],
          [
           "Walk. Ride. Rodeo."
          ],
          [
           "The Scary House"
          ],
          [
           "The 2nd"
          ],
          [
           "Out Of My League"
          ],
          [
           "LA Originals"
          ],
          [
           "Enter the Anime"
          ],
          [
           "Ramprasad Ki Tehrvi"
          ],
          [
           "Forensic"
          ],
          [
           "Badla"
          ],
          [
           "BLACKPINK: Light Up the Sky"
          ],
          [
           "Strain"
          ],
          [
           "The Three Deaths of Marisela Escobedo"
          ],
          [
           "Alice JÃºnior"
          ],
          [
           "Rogue Warfare: Death of a Nation"
          ],
          [
           "Jeff Dunham: Beside Himself"
          ],
          [
           "Asphalt Burning"
          ],
          [
           "Lingua Franca"
          ],
          [
           "Isi & Ossi"
          ],
          [
           "What We Wanted"
          ],
          [
           "Thackeray"
          ],
          [
           "Ni de coÃ±a"
          ],
          [
           "The Sky Is Pink"
          ],
          [
           "Chris D'Elia: No Pain"
          ],
          [
           "Luka Chuppi"
          ],
          [
           "All Day and a Night"
          ],
          [
           "The Fisherman's Diary"
          ],
          [
           "Bennett's War"
          ],
          [
           "Paris Is Us"
          ],
          [
           "Rattlesnake"
          ],
          [
           "Emicida: AmarElo - It's All for Yesterday"
          ],
          [
           "Travis Scott: Look Mom I Can Fly"
          ],
          [
           "Tom Papa: You're Doing Great!"
          ],
          [
           "Sarah Cooper: Everything's Fine"
          ],
          [
           "Blood Will Tell"
          ],
          [
           "Brave Blue World"
          ],
          [
           "Soni"
          ],
          [
           "A Babysitter's Guide to Monster Hunting"
          ],
          [
           "Too Handsome To Handle"
          ],
          [
           "Fearless"
          ],
          [
           "Justine"
          ],
          [
           "Dragon Quest: Your Story"
          ],
          [
           "ReMastered: The Miami Showband Massacre"
          ],
          [
           "Bobbleheads: The Movie"
          ],
          [
           "Dad Wanted"
          ],
          [
           "Good Sam"
          ],
          [
           "Aziz Ansari: Right Now"
          ],
          [
           "Katherine Ryan: Glitter Room"
          ],
          [
           "Quiet"
          ],
          [
           "Secrets of the Saqqara Tomb"
          ],
          [
           "Wish Upon a Unicorn"
          ],
          [
           "Ludo"
          ],
          [
           "Dolly Parton's Christmas on the Square"
          ],
          [
           "Xico's Journey"
          ],
          [
           "Holiday on Mars"
          ],
          [
           "Wanda Sykes: Not Normal"
          ],
          [
           "Midnight at the Magnolia"
          ],
          [
           "All the Freckles in the World"
          ],
          [
           "Grego Rossello: Disculpe las molestias"
          ],
          [
           "Hating Peter Tatchell"
          ],
          [
           "Who Would You Take to a Deserted Island?"
          ],
          [
           "Kidnapping Stella"
          ],
          [
           "Paradise Beach"
          ],
          [
           "I Am Vengeance: Retaliation"
          ],
          [
           "Black Beach"
          ],
          [
           "The Brave"
          ],
          [
           "Road to Roma"
          ],
          [
           "The Blue Elephant 2"
          ],
          [
           "Whitney Cummings: Can I Touch It?"
          ],
          [
           "Petta"
          ],
          [
           "Dying to Tell"
          ],
          [
           "Back of the Net"
          ],
          [
           "Urzila Carlson: Overqualified Loser"
          ],
          [
           "The (Silent) War"
          ],
          [
           "Our Planet: Behind the Scenes"
          ],
          [
           "Vikruthi"
          ],
          [
           "Berlin, Berlin"
          ],
          [
           "Maria"
          ],
          [
           "The Little Switzerland"
          ],
          [
           "You've Got This"
          ],
          [
           "Let's Dance"
          ],
          [
           "Kevin Hart: Zero F**ks Given"
          ],
          [
           "Asphalt Goddess"
          ],
          [
           "Kevin Hart: Irresponsible"
          ],
          [
           "Â¡Ay, mi madre!"
          ],
          [
           "Keeping the Bees"
          ],
          [
           "The Larva Island Movie"
          ],
          [
           "Chopsticks"
          ],
          [
           "Dragons: Rescue Riders: Hunt for the Golden Dragon"
          ],
          [
           "ariana grande: excuse me, i love you"
          ],
          [
           "Malang"
          ],
          [
           "Welcome to Sudden Death"
          ],
          [
           "Holiday Rush"
          ],
          [
           "Little Big Women"
          ],
          [
           "Christmas Crossfire"
          ],
          [
           "Calum von Moger: Unbroken"
          ],
          [
           "Despite Everything"
          ],
          [
           "Jimmy Carr: The Best of Ultimate Gold Greatest Hits"
          ],
          [
           "Happy Old Year"
          ],
          [
           "Shikara"
          ],
          [
           "Milestone"
          ],
          [
           "Rubaru Roshni"
          ],
          [
           "Ready to Mingle"
          ],
          [
           "Deadly Switch"
          ],
          [
           "ParchÃ­s: the Documentary"
          ],
          [
           "Double World"
          ],
          [
           "Psycho"
          ],
          [
           "Kalel, 15"
          ],
          [
           "Tell Me When"
          ],
          [
           "Shawn Mendes: In Wonder"
          ],
          [
           "Kaali Khuhi"
          ],
          [
           "Gunjan Saxena: The Kargil Girl"
          ],
          [
           "AK vs AK"
          ],
          [
           "A Christmas Prince: The Royal Baby"
          ],
          [
           "Eric Andre: Legalize Everything"
          ],
          [
           "Cargo"
          ],
          [
           "Article 15"
          ],
          [
           "Tragic Jungle"
          ],
          [
           "Malibu Rescue"
          ],
          [
           "The Black Godfather"
          ],
          [
           "Life Overtakes Me"
          ],
          [
           "Made in China"
          ],
          [
           "90 ML"
          ],
          [
           "99 Songs"
          ],
          [
           "Really Love"
          ],
          [
           "Kitty Love: An Homage to Cats"
          ],
          [
           "Living in Bondage: Breaking Free"
          ],
          [
           "Full Out 2: You Got This!"
          ],
          [
           "Hazel Brugger: Tropical"
          ],
          [
           "Evelyn"
          ],
          [
           "Just Another Christmas"
          ],
          [
           "Malibu Rescue: The Next Wave"
          ],
          [
           "High & Low: The Worst"
          ],
          [
           "The Boys in the Band: Something Personal"
          ],
          [
           "Dance Dreams: Hot Chocolate Nutcracker"
          ],
          [
           "Octonauts and the Great Barrier Reef"
          ],
          [
           "Alien Warfare"
          ],
          [
           "Jack Whitehall: Christmas with my Father"
          ],
          [
           "Pinkfong & Baby Shark's Space Adventure"
          ],
          [
           "The Stand at Paxton County"
          ],
          [
           "Shine Your Eyes"
          ],
          [
           "The Lockdown Plan"
          ],
          [
           "What the F* Is Going On?"
          ],
          [
           "Inhuman Kiss"
          ],
          [
           "Nate: A One Man Show"
          ],
          [
           "Ray Romano: Right Here, Around the Corner"
          ],
          [
           "Jai Mummy Di"
          ],
          [
           "The Unknown Saint"
          ],
          [
           "Spelling the Dream"
          ],
          [
           "Hire a Woman"
          ],
          [
           "The Crystal Calls - Making The Dark Crystal: Age of Resistance"
          ],
          [
           "A Road to Wellbeing"
          ],
          [
           "Panipat"
          ],
          [
           "Octonauts and the Caves of Sac Actun"
          ],
          [
           "Ken Jeong: You Complete Me, Ho"
          ],
          [
           "One-Way to Tomorrow"
          ],
          [
           "Ginny Weds Sunny"
          ],
          [
           "Merry Men 2: Another Mission"
          ],
          [
           "Ahaan"
          ],
          [
           "Simon Amstell: Set Free"
          ],
          [
           "Romeo Akbar Walter"
          ],
          [
           "Angela's Christmas Wish"
          ],
          [
           "Dolly Kitty and Those Twinkling Stars"
          ],
          [
           "Bridezilla"
          ],
          [
           "Father Soldier Son"
          ],
          [
           "AlelÃ­"
          ],
          [
           "The Magic School Bus Rides Again: Kids in Space"
          ],
          [
           "Shawn Mendes: Live in Concert"
          ],
          [
           "Firebrand"
          ],
          [
           "Serious Men"
          ],
          [
           "Furtive"
          ],
          [
           "Upstarts"
          ],
          [
           "House Arrest"
          ],
          [
           "Illegal Woman"
          ],
          [
           "Tootsies & The Fake"
          ],
          [
           "Sugar Rush"
          ],
          [
           "Varane Avashyamund"
          ],
          [
           "Colin Quinn: Red State, Blue State"
          ],
          [
           "The Rope Curse 2"
          ],
          [
           "Shimla Mirchi"
          ],
          [
           "Love"
          ],
          [
           "Santana"
          ],
          [
           "The Legacy of the Bones"
          ],
          [
           "Nneka the Pretty Serpent"
          ],
          [
           "The Most Dangerous Man in Europe"
          ],
          [
           "The Road to El Camino: Behind the Scenes of El Camino: A Breaking Bad Movie"
          ],
          [
           "Mutiny of the Worker Bees"
          ],
          [
           "Indoo Ki Jawani"
          ],
          [
           "Rogue Warfare: The Hunt"
          ],
          [
           "Once Again"
          ],
          [
           "Drive"
          ],
          [
           "A Second Chance: Rivals!"
          ],
          [
           "Eggnoid: Love & Time Portal"
          ],
          [
           "Almost Love"
          ],
          [
           "The Trap"
          ],
          [
           "Guillermo Vilas: Settling the Score"
          ],
          [
           "The 3rd Eye 2"
          ],
          [
           "Guatemala: Heart of the Mayan World"
          ],
          [
           "Krishna and His Leela"
          ],
          [
           "Raat Akeli Hai"
          ],
          [
           "The Spooky Tale of Captain Underpants Hack-a-Ween"
          ],
          [
           "Dogwashers"
          ],
          [
           "The Day I Lost My Shadow"
          ],
          [
           "Shanghai Fortress"
          ],
          [
           "Thiago Ventura: POKAS"
          ],
          [
           "Hunter in the Blue Side of Manchester"
          ],
          [
           "Sitara"
          ],
          [
           "Torbaaz"
          ],
          [
           "Sam Jay: 3 in the Morning"
          ],
          [
           "Feo pero Sabroso"
          ],
          [
           "Nothing to Lose 2"
          ],
          [
           "Manmadhudu 2"
          ],
          [
           "Kevin Hart's Guide to Black History"
          ],
          [
           "Crazy Awesome Teachers"
          ],
          [
           "ReMastered: The Lion's Share"
          ],
          [
           "ReMastered: Massacre at the Stadium"
          ],
          [
           "Iliza Shlesinger: Unveiled"
          ],
          [
           "Motichoor Chaknachoor"
          ],
          [
           "Any Crybabies Around?"
          ],
          [
           "Bulletproof 2"
          ],
          [
           "The Body"
          ],
          [
           "A Choo"
          ],
          [
           "Uyare"
          ],
          [
           "Eeb Allay Ooo!"
          ],
          [
           "Axone"
          ],
          [
           "Choked: Paisa Bolta Hai"
          ],
          [
           "Afonso Padilha: Classless"
          ],
          [
           "Irandam Ulagaporin Kadaisi Gundu"
          ],
          [
           "Antoine Griezmann: The Making of a Legend"
          ],
          [
           "Mundina Nildana"
          ],
          [
           "A Go! Go! Cory Carson Halloween"
          ],
          [
           "Go! The Unforgettable Party"
          ],
          [
           "Edoardo Ferrario: Temi Caldi"
          ],
          [
           "Sky Tour: The Movie"
          ],
          [
           "Tiffany Haddish: Black Mitzvah"
          ],
          [
           "Sillu Karupatti"
          ],
          [
           "The Lost Okoroshi"
          ],
          [
           "Kappela"
          ],
          [
           "Adam Devine: Best Time of Our Lives"
          ],
          [
           "Mo Gilligan: Momentum"
          ],
          [
           "Uncovered"
          ],
          [
           "London Hughes: To Catch A D*ck"
          ],
          [
           "Kandasamys: The Wedding"
          ],
          [
           "Velvet ColecciÃ³n: Grand Finale"
          ],
          [
           "Dark City Beneath the Beat"
          ],
          [
           "Redemption"
          ],
          [
           "Mi amigo Alexis"
          ],
          [
           "Citation"
          ],
          [
           "Whindersson Nunes: Adulto"
          ],
          [
           "Bhangra Paa Le"
          ],
          [
           "Anelka: Misunderstood"
          ],
          [
           "Fadily Camara: La plus drÃ´le de tes copines"
          ],
          [
           "Saverio Raimondo: Il Satiro Parlante"
          ],
          [
           "Ã’lÃ²tÅ«rÃ©"
          ],
          [
           "La Vocera"
          ],
          [
           "Money Trap"
          ],
          [
           "Rob Schneider: Asian Momma, Mexican Kids"
          ],
          [
           "Kill Me If You Dare"
          ],
          [
           "Seriously Single"
          ],
          [
           "Super Monsters: Vida's First Halloween"
          ],
          [
           "Alex FernÃ¡ndez: The Best Comedian in the World"
          ],
          [
           "Still Laugh-In: The Stars Celebrate"
          ],
          [
           "Asura Guru"
          ],
          [
           "Lift Like a Girl"
          ],
          [
           "Wanted - Matloubin"
          ],
          [
           "Francesco De Carlo: Cose di Questo Mondo"
          ],
          [
           "Gone"
          ],
          [
           "A Family Reunion Christmas"
          ],
          [
           "Mayday Life"
          ],
          [
           "Voiceless"
          ],
          [
           "Mujeres arriba"
          ],
          [
           "Ricardo Quevedo: los amargados somos mÃ¡s"
          ],
          [
           "Guna 369"
          ],
          [
           "RattleSnake: The Ahanna Story"
          ],
          [
           "LÃ©a & I"
          ],
          [
           "No andaba muerto, estaba de parranda"
          ],
          [
           "Hikaru Utada Laughter in the Dark Tour 2018"
          ],
          [
           "George Lopez: We'll Do It for Half"
          ],
          [
           "Spirit Riding Free: Spirit of Christmas"
          ],
          [
           "Maska"
          ],
          [
           "Class of '83"
          ],
          [
           "The Car: Road to Revenge"
          ],
          [
           "Vir Das: For India"
          ],
          [
           "Mike Epps: Only One Mike"
          ],
          [
           "Revenge of the Pontianak"
          ],
          [
           "Night on Earth: Shot in the Dark"
          ],
          [
           "Love and Fury"
          ],
          [
           "Thomas & Friends: Marvelous Machinery"
          ],
          [
           "The Path of the Anaconda"
          ],
          [
           "Aaviri"
          ],
          [
           "Chaman Bahar"
          ],
          [
           "Dorasani"
          ],
          [
           "Kaake Da Viyah"
          ],
          [
           "Yeh Ballet"
          ],
          [
           "Super Monsters Furever Friends"
          ],
          [
           "Super Monsters Back to School"
          ],
          [
           "Marjoun and the Flying Headscarf"
          ],
          [
           "True: Friendship Day"
          ],
          [
           "Hello, Privilege. It's Me, Chelsea"
          ],
          [
           "Bombay Rose"
          ],
          [
           "Thottappan"
          ],
          [
           "Luccas Neto em: Uma BabÃ¡ Muito Esquisita"
          ],
          [
           "I'm Leaving Now"
          ],
          [
           "Spirit Riding Free: Ride Along Adventure"
          ],
          [
           "Fan Girl"
          ],
          [
           "122"
          ],
          [
           "A Trash Truck Christmas"
          ],
          [
           "Yours Sincerely, Kanan Gill"
          ],
          [
           "The Zoya Factor"
          ],
          [
           "Mere Pyare Prime Minister"
          ],
          [
           "Daniel Sosa: Maleducado"
          ],
          [
           "Red Snow"
          ],
          [
           "Ibrahim: A Fate to Define"
          ],
          [
           "To Be of Service"
          ],
          [
           "It Takes a Lunatic"
          ],
          [
           "What are the Odds?"
          ],
          [
           "Omo Ghetto: The Saga"
          ],
          [
           "The App"
          ],
          [
           "Amit Tandon: Family Tandoncies"
          ],
          [
           "Belmonte"
          ],
          [
           "40 Sticks"
          ],
          [
           "An Unremarkable Christmas"
          ],
          [
           "Who's the Boss"
          ],
          [
           "Love Like the Falling Rain"
          ],
          [
           "Bombairiya"
          ],
          [
           "Hello, Love, Goodbye"
          ],
          [
           "Kilometers and Kilometers"
          ],
          [
           "Love for Sale 2"
          ],
          [
           "Liss Pereira: Reteniendo Liquidos"
          ],
          [
           "Los Tigres del Norte at Folsom Prison"
          ],
          [
           "Cops and Robbers"
          ],
          [
           "Sarvam Thaala Mayam"
          ],
          [
           "Miranda Sings Live... Your Welcome"
          ],
          [
           "Jeff Garlin: Our Man in Chicago"
          ],
          [
           "Hope Ranch"
          ],
          [
           "Isa Pa with Feelings"
          ],
          [
           "Kasanova"
          ],
          [
           "K. D."
          ],
          [
           "We Are One"
          ],
          [
           "Martin Matte: La vie, la mort... eh la la..!"
          ],
          [
           "Small Chops"
          ],
          [
           "Finding Agnes"
          ],
          [
           "Rhys Nicholson: Live at the Athenaeum"
          ],
          [
           "Perfume Imaginary Museum â€œTime Warpâ€"
          ],
          [
           "Pegasus"
          ],
          [
           "Kannum Kannum Kollaiyadithaal"
          ],
          [
           "GIMS: On the Record"
          ],
          [
           "Leyla Everlasting"
          ],
          [
           "Bigflo & Oli: Hip Hop Frenzy"
          ],
          [
           "27 Steps of May"
          ],
          [
           "Single Slipper Size - 7"
          ],
          [
           "Mallesham"
          ],
          [
           "Deon Cole: Cole Hearted"
          ],
          [
           "15-Aug"
          ],
          [
           "Sab el-Burumbah"
          ],
          [
           "Mehandi Circus"
          ],
          [
           "David Batra: Elephant in The Room"
          ],
          [
           "A New York Christmas Wedding"
          ],
          [
           "Sanitation Day"
          ],
          [
           "The Millions"
          ],
          [
           "One Day We'll Talk About Today"
          ],
          [
           "The Perfect Picture: Ten Years Later"
          ],
          [
           "The Beginning of Life 2: Outside"
          ],
          [
           "Fukrey Boyzzz: Space Mein Fukrapanti"
          ],
          [
           "All Because of You"
          ],
          [
           "Uriyadi 2"
          ],
          [
           "Guddiyan Patole"
          ],
          [
           "Albert  Pinto Ko Gussa Kyun Aata Hai?"
          ],
          [
           "Maniyarayile Ashokan"
          ],
          [
           "Chippa"
          ],
          [
           "4th Republic"
          ],
          [
           "A Tale of Two Kitchens"
          ],
          [
           "Mokalik (Mechanic)"
          ],
          [
           "The Body Remembers When the World Broke Open"
          ],
          [
           "2 Weeks in Lagos"
          ],
          [
           "Kids on the Block"
          ],
          [
           "Horrid Henry's Gross Day Out"
          ],
          [
           "The Knight and the Princess"
          ],
          [
           "Penalty"
          ],
          [
           "The 9th Precinct"
          ],
          [
           "Malaal"
          ],
          [
           "Evvarikee Cheppoddu"
          ],
          [
           "Nasha Natasha"
          ],
          [
           "Super Monsters Save Christmas"
          ],
          [
           "Luckee"
          ],
          [
           "In Vitro"
          ],
          [
           "Sincerely Yours, Dhaka"
          ],
          [
           "Kambili: The Whole 30 Yards"
          ],
          [
           "Saavat"
          ],
          [
           "Krutant"
          ],
          [
           "This Earth of Mankind"
          ],
          [
           "Holy Expectations"
          ],
          [
           "Classmates Minus"
          ],
          [
           "Masameer: The Movie"
          ],
          [
           "Sethum Aayiram Pon"
          ],
          [
           "The App That Stole Christmas"
          ],
          [
           "Ali & Alia"
          ],
          [
           "Time Out"
          ],
          [
           "Ave Maryam"
          ],
          [
           "Chico Bon Bon and the Very Berry Holiday"
          ],
          [
           "Uncle Naji in UAE"
          ],
          [
           "Tarung Sarung"
          ],
          [
           "Lola Igna"
          ],
          [
           "Vir Das: Outside in - The Lockdown Special"
          ],
          [
           "Kenny Sebastian: The Most Interesting Person in the Room"
          ],
          [
           "We Are Legends"
          ],
          [
           "Fate of Alakada"
          ],
          [
           "A Go! Go! Cory Carson Christmas"
          ],
          [
           "Your Excellency"
          ],
          [
           "Elevator Baby"
          ],
          [
           "Andre and His Olive Tree"
          ],
          [
           "Nenjamundu Nermaiyundu Odu Raja"
          ],
          [
           "Namaste Wahala"
          ],
          [
           "Super Monsters: Santa's Super Monster Helpers"
          ],
          [
           "High End Yaariyaan"
          ],
          [
           "Nimbe: The Movie"
          ],
          [
           "In Paradox"
          ],
          [
           "The Panti Sisters"
          ],
          [
           "Luccas Neto in: Children's Day"
          ],
          [
           "I'm Glad I Did"
          ],
          [
           "RK Nagar"
          ],
          [
           "Si Doel the Movie 2"
          ],
          [
           "My Stupid Boss 2"
          ],
          [
           "Mariposa"
          ],
          [
           "Kaagar"
          ],
          [
           "Four Sisters Before the Wedding"
          ],
          [
           "Carlos Almaraz: Playing with Fire"
          ],
          [
           "Bypass Road"
          ],
          [
           "Rakkhosh"
          ],
          [
           "Hamid"
          ],
          [
           "A Home with a View"
          ],
          [
           "Cemara's Family"
          ],
          [
           "David A. Arnold Fat Ballerina"
          ],
          [
           "Alone/Together"
          ],
          [
           "Between Maybes"
          ],
          [
           "Sur Sapata"
          ],
          [
           "Si Doel the Movie 3"
          ],
          [
           "Mama Drama"
          ],
          [
           "Tuna Girl"
          ],
          [
           "The Wedding Shaman"
          ],
          [
           "Dilan 1991"
          ],
          [
           "She Is"
          ],
          [
           "Bhai - Vyakti Ki Valli 2"
          ],
          [
           "Elf Pets: A Fox Cub's Christmas Tale"
          ],
          [
           "This Lady Called Life"
          ],
          [
           "One Take"
          ],
          [
           "#FriendButMarried 2"
          ],
          [
           "Luccas Neto in: Summer Camp"
          ],
          [
           "Girl's Revenge"
          ],
          [
           "Kolaiyuthir Kaalam"
          ],
          [
           "Sakaling Maging Tayo"
          ],
          [
           "Story of Kale: When Someone's in Love"
          ],
          [
           "Born Beautiful"
          ],
          [
           "Milea"
          ],
          [
           "Stunt School"
          ],
          [
           "The Adam Project"
          ],
          [
           "Operation Mincemeat"
          ],
          [
           "The Power of the Dog"
          ],
          [
           "Choose or Die"
          ],
          [
           "Metal Lords"
          ],
          [
           "The Bubble"
          ],
          [
           "White Hot: The Rise & Fall of Abercrombie & Fitch"
          ],
          [
           "Windfall"
          ],
          [
           "tick, tick... BOOM!"
          ],
          [
           "Don't Look Up"
          ],
          [
           "Apollo 10Â½:  A Space Age Childhood"
          ],
          [
           "Peter Rabbit 2: The Runaway"
          ],
          [
           "The Mystery of Marilyn Monroe: The Unheard Tapes"
          ],
          [
           "Black Crab"
          ],
          [
           "Bubble"
          ],
          [
           "The Lost Daughter"
          ],
          [
           "365 Days: This Day"
          ],
          [
           "The Mitchells vs. the Machines"
          ],
          [
           "Red Notice"
          ],
          [
           "The Alpinist"
          ],
          [
           "The Harder They Fall"
          ],
          [
           "Against the Ice"
          ],
          [
           "The House"
          ],
          [
           "Return to Space"
          ],
          [
           "The Weekend Away"
          ],
          [
           "Gangubai Kathiawadi"
          ],
          [
           "Along for the Ride"
          ],
          [
           "The Colony"
          ],
          [
           "Rescued by Ruby"
          ],
          [
           "The Takedown"
          ],
          [
           "Diana: The Musical"
          ],
          [
           "The Hand of God"
          ],
          [
           "The Unforgivable"
          ],
          [
           "The Guilty"
          ],
          [
           "Coming Home in the Dark"
          ],
          [
           "The Tinder Swindler"
          ],
          [
           "Till Death"
          ],
          [
           "Silverton Siege"
          ],
          [
           "Munich: The Edge of War"
          ],
          [
           "Texas Chainsaw Massacre"
          ],
          [
           "Passing"
          ],
          [
           "Downfall: The Case Against Boeing"
          ],
          [
           "Army of Thieves"
          ],
          [
           "Gunpowder Milkshake"
          ],
          [
           "Captain Nova"
          ],
          [
           "The Sparks Brothers"
          ],
          [
           "The Trip"
          ],
          [
           "Outlaws"
          ],
          [
           "Army of the Dead"
          ],
          [
           "14 Peaks: Nothing Is Impossible"
          ],
          [
           "Bo Burnham: Inside"
          ],
          [
           "Oxygen"
          ],
          [
           "The Shadow in My Eye"
          ],
          [
           "Like A Rolling Stone: The Life & Times of Ben Fong-Torres"
          ],
          [
           "Bigbug"
          ],
          [
           "Trust No One: The Hunt for the Crypto King"
          ],
          [
           "Kate"
          ],
          [
           "Worth"
          ],
          [
           "Today We Fix the World"
          ],
          [
           "Nightbooks"
          ],
          [
           "Furioza"
          ],
          [
           "Last Man Down"
          ],
          [
           "Rumspringa - Ein Amish in Berlin"
          ],
          [
           "No One Gets Out Alive"
          ],
          [
           "The Woman in the Window"
          ],
          [
           "Radhe Shyam"
          ],
          [
           "Honeymoon With My Mother"
          ],
          [
           "Home Team"
          ],
          [
           "The Turning Point"
          ],
          [
           "After We Fell"
          ],
          [
           "Hypnotic"
          ],
          [
           "Yaksha: Ruthless Operations"
          ],
          [
           "The Vault"
          ],
          [
           "The Taming of the Shrewd"
          ],
          [
           "The Dig"
          ],
          [
           "Aftermath"
          ],
          [
           "Taylor Tomlinson: Look at You"
          ],
          [
           "The Witcher: Nightmare of the Wolf"
          ],
          [
           "Prayers for the Stolen"
          ],
          [
           "There's Someone Inside Your House"
          ],
          [
           "Zone 414"
          ],
          [
           "Blood Red Sky"
          ],
          [
           "The Fable: The Killer Who Doesn't Kill"
          ],
          [
           "The Starling"
          ],
          [
           "Intrusion"
          ],
          [
           "My Little Pony: A New Generation"
          ],
          [
           "Cosmic Sin"
          ],
          [
           "Beast"
          ],
          [
           "Kingdom: Ashin of the North"
          ],
          [
           "The Summit of the Gods"
          ],
          [
           "Vivo"
          ],
          [
           "The Ice Road"
          ],
          [
           "Robin Robin"
          ],
          [
           "Fear Street: Part One - 1994"
          ],
          [
           "Brazen"
          ],
          [
           "Through My Window"
          ],
          [
           "Long Story Short"
          ],
          [
           "Night Teeth"
          ],
          [
           "A Cop Movie"
          ],
          [
           "Marmaduke"
          ],
          [
           "Love Hard"
          ],
          [
           "Stowaway"
          ],
          [
           "Things Heard & Seen"
          ],
          [
           "Fistful of Vengeance"
          ],
          [
           "Procession"
          ],
          [
           "Bruised"
          ],
          [
           "Space Sweepers"
          ],
          [
           "The Last Letter From Your Lover"
          ],
          [
           "The Pirates: The Last Royal Treasure"
          ],
          [
           "Dave Chappelle: The Closer"
          ],
          [
           "Yes Day"
          ],
          [
           "Bob Ross: Happy Accidents, Betrayal & Greed"
          ],
          [
           "Jim Gaffigan: Comedy Monster"
          ],
          [
           "The Wasteland"
          ],
          [
           "Fear Street: Part Two - 1978"
          ],
          [
           "The Lovebirds"
          ],
          [
           "Final Account"
          ],
          [
           "Awake"
          ],
          [
           "The God Committee"
          ],
          [
           "Malcolm & Marie"
          ],
          [
           "The White Tiger"
          ],
          [
           "Seaspiracy"
          ],
          [
           "Fatherhood"
          ],
          [
           "Moxie"
          ],
          [
           "Rurouni Kenshin: The Beginning"
          ],
          [
           "Britney vs. Spears"
          ],
          [
           "Ali Wong: Don Wong"
          ],
          [
           "Back to the Outback"
          ],
          [
           "Badhaai Do"
          ],
          [
           "Tyler Perry's A Madea Homecoming"
          ],
          [
           "Dancing on Glass"
          ],
          [
           "All Hail"
          ],
          [
           "Beckett"
          ],
          [
           "7 Prisoners"
          ],
          [
           "83"
          ],
          [
           "SAS: Red Notice"
          ],
          [
           "Dasvi"
          ],
          [
           "Fever Dream"
          ],
          [
           "America: The Motion Picture"
          ],
          [
           "The Perfect Family"
          ],
          [
           "Audible"
          ],
          [
           "Love and Leashes"
          ],
          [
           "Count Me In"
          ],
          [
           "My Best Friend Anne Frank"
          ],
          [
           "The Block Island Sound"
          ],
          [
           "Rita Moreno: Just a Girl Who Decided to Go for It"
          ],
          [
           "Sweet Girl"
          ],
          [
           "Restless"
          ],
          [
           "Rurouni Kenshin: The Final"
          ],
          [
           "Mishan Impossible"
          ],
          [
           "Riverdance: The Animated Adventure"
          ],
          [
           "Without Saying Goodbye"
          ],
          [
           "Schumacher"
          ],
          [
           "Wish Dragon"
          ],
          [
           "Green Snake"
          ],
          [
           "Blue Miracle"
          ],
          [
           "Jimmy Carr: His Dark Material"
          ],
          [
           "Good on Paper"
          ],
          [
           "The Royal Treatment"
          ],
          [
           "Nobody Sleeps in the Woods Tonight 2"
          ],
          [
           "Aileen Wuornos: American Boogeywoman"
          ],
          [
           "Aziz Ansari: Nightclub Comedian"
          ],
          [
           "Operation Varsity Blues: The College Admissions Scandal"
          ],
          [
           "Vengeance Is Mine, All Others Pay Cash"
          ],
          [
           "Single All the Way"
          ],
          [
           "Nate Bargatze: The Greatest Average American"
          ],
          [
           "Minnal Murali"
          ],
          [
           "Finding 'Ohana"
          ],
          [
           "To All the Boys: Always and Forever"
          ],
          [
           "He's All That"
          ],
          [
           "Misha and the Wolves"
          ],
          [
           "Never Back Down: Revolt"
          ],
          [
           "Mixtape"
          ],
          [
           "Untold: Malice at the Palace"
          ],
          [
           "Death to 2021"
          ],
          [
           "Jeff Foxworthy: The Good Old Days"
          ],
          [
           "Hilda and the Mountain King"
          ],
          [
           "40 Years Young"
          ],
          [
           "The Privilege"
          ],
          [
           "The River Runner"
          ],
          [
           "My Father's Violin"
          ],
          [
           "Extinct"
          ],
          [
           "Prey"
          ],
          [
           "Django & Django"
          ],
          [
           "Shiny_Flakes: The Teenage Drug Lord"
          ],
          [
           "Photocopier"
          ],
          [
           "Pray Away"
          ],
          [
           "Bordertown: The Mural Murders"
          ],
          [
           "A Boy Called Christmas"
          ],
          [
           "Tall Girl 2"
          ],
          [
           "Afterlife of the Party"
          ],
          [
           "The Seventh Day"
          ],
          [
           "Thunder Force"
          ],
          [
           "Cobalt Blue"
          ],
          [
           "A Castle for Christmas"
          ],
          [
           "Outside the Wire"
          ],
          [
           "The Loud House Movie"
          ],
          [
           "The Invisible Thread"
          ],
          [
           "Lead Me Home"
          ],
          [
           "Shaun the Sheep: The Flight Before Christmas"
          ],
          [
           "Trollhunters: Rise of the Titans"
          ],
          [
           "Operation Hyacinth"
          ],
          [
           "Grudge"
          ],
          [
           "Four to Dinner"
          ],
          [
           "Kuthiraivaal"
          ],
          [
           "More the Merrier"
          ],
          [
           "I Am All Girls"
          ],
          [
           "The Kissing Booth 3"
          ],
          [
           "Chris Rock Total Blackout: The Tamborine Extended Cut"
          ],
          [
           "PelÃ©"
          ],
          [
           "Etharkkum Thunindhavan"
          ],
          [
           "Memories of a Murderer: The Nilsen Tapes"
          ],
          [
           "Don't Kill Me"
          ],
          [
           "Found"
          ],
          [
           "Three Songs for Benazir"
          ],
          [
           "Brian Regan: On the Rocks"
          ],
          [
           "Ride or Die"
          ],
          [
           "Monster"
          ],
          [
           "Mobile Suit Gundam Hathaway"
          ],
          [
           "This Is the Night"
          ],
          [
           "Dhamaka"
          ],
          [
           "The Whole Truth"
          ],
          [
           "A Week Away"
          ],
          [
           "Crazy About Her"
          ],
          [
           "Below Zero"
          ],
          [
           "Ferry"
          ],
          [
           "Yara"
          ],
          [
           "The 8th Night"
          ],
          [
           "Skater Girl"
          ],
          [
           "Penguin Bloom"
          ],
          [
           "Sentinelle"
          ],
          [
           "Michela Giraud: The Truth, I Swear!"
          ],
          [
           "Seal Team"
          ],
          [
           "Deep"
          ],
          [
           "Marilyn's Eyes"
          ],
          [
           "The Devil Below"
          ],
          [
           "Still Out of My League"
          ],
          [
           "Stuck Together"
          ],
          [
           "Surviving Paradise: A Family Tale"
          ],
          [
           "Brother in Love 2"
          ],
          [
           "The Last Mercenary"
          ],
          [
           "Breaking Boundaries: The Science of Our Planet"
          ],
          [
           "Vicky and Her Mystery"
          ],
          [
           "Looop Lapeta"
          ],
          [
           "Why Did You Kill Me?"
          ],
          [
           "The Door Into Summer"
          ],
          [
           "Broken Idol: The Undoing of Diomedes DÃ­az"
          ],
          [
           "Anne+"
          ],
          [
           "Sooryavanshi"
          ],
          [
           "Game Changer"
          ],
          [
           "The Hand of God: Through the Eyes of Sorrentino"
          ],
          [
           "The Falls"
          ],
          [
           "The Last Forest"
          ],
          [
           "Escape the Undertaker"
          ],
          [
           "Blood Brothers: Malcolm X & Muhammad Ali"
          ],
          [
           "American Girl"
          ],
          [
           "Biking Borders - eine etwas andere Reise"
          ],
          [
           "Sounds Like Love"
          ],
          [
           "Love Like the Falling Petals"
          ],
          [
           "How I Fell in Love with a Gangster"
          ],
          [
           "Anonymously Yours"
          ],
          [
           "Major Grom: Plague Doctor"
          ],
          [
           "Forever Out of My League"
          ],
          [
           "The Minimalists: Less Is Now"
          ],
          [
           "Chappelle's Home Team - Earthquake: Legendary"
          ],
          [
           "Doctor"
          ],
          [
           "Amy Tan: Unintended Memoir"
          ],
          [
           "Dynasty Warriors"
          ],
          [
           "Hey! Sinamika"
          ],
          [
           "David and the Elves"
          ],
          [
           "Meskina"
          ],
          [
           "Forgive Us Our Trespasses"
          ],
          [
           "Battle: Freestyle"
          ],
          [
           "Security"
          ],
          [
           "Bright: Samurai Soul"
          ],
          [
           "Homunculus"
          ],
          [
           "UFO"
          ],
          [
           "7 Yards: The Chris Norton Story"
          ],
          [
           "Untold: Breaking Point"
          ],
          [
           "Autumn Girl"
          ],
          [
           "In Good Hands"
          ],
          [
           "A California Christmas: City Lights"
          ],
          [
           "Spoiled Brats"
          ],
          [
           "The Girl on the Train"
          ],
          [
           "Shyam Singha Roy"
          ],
          [
           "Phil Wang: Philly Philly Wang Wang"
          ],
          [
           "The Phantom"
          ],
          [
           "Lady Boss: The Jackie Collins Story"
          ],
          [
           "Murder by the Coast"
          ],
          [
           "Theo Von: Regular People"
          ],
          [
           "Je suis Karl"
          ],
          [
           "Madame Claude"
          ],
          [
           "Nicole Byer: BBW (Big Beautiful Weirdo)"
          ],
          [
           "The Getaway King"
          ],
          [
           "Father Christmas Is Back"
          ],
          [
           "Last Summer"
          ],
          [
           "A Family"
          ],
          [
           "Ms. Pat: Y'all Wanna Hear Something Crazy?"
          ],
          [
           "Jonas Brothers Family Roast"
          ],
          [
           "Red Dot"
          ],
          [
           "We Couldn't Become Adults"
          ],
          [
           "Heroes: Silence and Rock & Roll"
          ],
          [
           "Forever Rich"
          ],
          [
           "Baggio: The Divine Ponytail"
          ],
          [
           "Chandigarh Kare Aashiqui"
          ],
          [
           "Child of Kamiari Month"
          ],
          [
           "Cousins"
          ],
          [
           "New Gods: Nezha Reborn"
          ],
          [
           "Confessions of an Invisible Girl"
          ],
          [
           "Barbie: Big City, Big Dreams"
          ],
          [
           "Black Island"
          ],
          [
           "Michael Che: Shame the Devil"
          ],
          [
           "Lulli"
          ],
          [
           "The Seven Deadly Sins: Cursed by Light"
          ],
          [
           "The Princess Switch 3: Romancing the Star"
          ],
          [
           "Kongsi Raya"
          ],
          [
           "Biggie: I Got a Story to Tell"
          ],
          [
           "Donkeyhead"
          ],
          [
           "Camp Confidential: America's Secret Nazis"
          ],
          [
           "In Our Mothers' Gardens"
          ],
          [
           "Arlo the Alligator Boy"
          ],
          [
           "137 Shots"
          ],
          [
           "One"
          ],
          [
           "Mo Amer: Mohammed in Texas"
          ],
          [
           "Caught by a Wave"
          ],
          [
           "The Women and the Murderer"
          ],
          [
           "Adam by Eve: A Live in Animation"
          ],
          [
           "11M"
          ],
          [
           "Montford: The Chickasaw Rancher"
          ],
          [
           "Sex: Unzipped"
          ],
          [
           "Swallow"
          ],
          [
           "Paper Lives"
          ],
          [
           "Haseen Dillruba"
          ],
          [
           "AI Love You"
          ],
          [
           "Amina"
          ],
          [
           "In for a Murder"
          ],
          [
           "Fate: The Winx Saga - The Afterparty"
          ],
          [
           "Amandla"
          ],
          [
           "Sweet & Sour"
          ],
          [
           "The Soul"
          ],
          [
           "Love is Color Blind"
          ],
          [
           "Love Me Instead"
          ],
          [
           "Kapil Sharma: I'm Not Done Yet"
          ],
          [
           "The Last Paradiso"
          ],
          [
           "1000 Miles from Christmas"
          ],
          [
           "The Father Who Moves Mountains"
          ],
          [
           "Nail Bomber: Manhunt"
          ],
          [
           "Secret Magic Control Agency"
          ],
          [
           "Untold: Caitlyn Jenner"
          ],
          [
           "Most Eligible Bachelor"
          ],
          [
           "Lords of Scam"
          ],
          [
           "My Brother, My Sister"
          ],
          [
           "Xtreme"
          ],
          [
           "Ghost Lab"
          ],
          [
           "Carolin Kebekus: The Last Christmas Special"
          ],
          [
           "Just Short of Perfect"
          ],
          [
           "Puff: Wonders of the Reef"
          ],
          [
           "My Wonderful Life"
          ],
          [
           "Love Tactics"
          ],
          [
           "Roohi"
          ],
          [
           "Asakusa Kid"
          ],
          [
           "The House of Flowers: The Movie"
          ],
          [
           "Cat Burglar"
          ],
          [
           "Creating The Queen's Gambit"
          ],
          [
           "Octonauts: The Ring of Fire"
          ],
          [
           "The Land"
          ],
          [
           "Honey Girls"
          ],
          [
           "Gatao: The Last Stray"
          ],
          [
           "Resort to Love"
          ],
          [
           "Annaatthe"
          ],
          [
           "Hate by Dani Rovira"
          ],
          [
           "Man in Love"
          ],
          [
           "Meenakshi Sundareshwar"
          ],
          [
           "Just Say Yes"
          ],
          [
           "Ajeeb Daastaans"
          ],
          [
           "The Secret Diary of an Exchange Student"
          ],
          [
           "Carlos Ballarta: False Prophet"
          ],
          [
           "One Night in Paris"
          ],
          [
           "You vs. Wild: Out Cold"
          ],
          [
           "Headspace Unwind you Mind"
          ],
          [
           "Get the Grift"
          ],
          [
           "Dolly Parton: A MusiCares Tribute"
          ],
          [
           "Rabbids Invasion - Mission To Mars"
          ],
          [
           "And Tomorrow the Entire World"
          ],
          [
           "Squared Love"
          ],
          [
           "Dearest Boy"
          ],
          [
           "Thomas & Friends: All Engines Go - Race for the Sodor Cup"
          ],
          [
           "Accomplice"
          ],
          [
           "Double Dad"
          ],
          [
           "Dancing Queens"
          ],
          [
           "Searching for Sheela"
          ],
          [
           "This Little Love of Mine"
          ],
          [
           "JJ+E"
          ],
          [
           "Tony Parker: The Final Shot"
          ],
          [
           "Bankrolled"
          ],
          [
           "The Guide to the Perfect Family"
          ],
          [
           "Strip Down, Rise Up"
          ],
          [
           "Kadaseela Biriyani"
          ],
          [
           "The Characters of the Continent"
          ],
          [
           "Pagglait"
          ],
          [
           "A World Without"
          ],
          [
           "Get the Goat"
          ],
          [
           "Bartkowiak"
          ],
          [
           "Grumpy Christmas"
          ],
          [
           "Cinema Bandi"
          ],
          [
           "Into the Wind"
          ],
          [
           "This Is Not a Comedy"
          ],
          [
           "Crack: Cocaine, Corruption & Conspiracy"
          ],
          [
           "Zero to Hero"
          ],
          [
           "Irul"
          ],
          [
           "Making Malinche: A Documentary by Nacho Cano"
          ],
          [
           "Happiness Ever After"
          ],
          [
           "Wild Dog"
          ],
          [
           "Mo Gilligan: There's Mo to Life"
          ],
          [
           "Nayattu"
          ],
          [
           "Carnaval"
          ],
          [
           "Wish You"
          ],
          [
           "Kurup"
          ],
          [
           "Angeliena"
          ],
          [
           "The Guardian"
          ],
          [
           "Animals on the Loose: A You vs. Wild Interactive Movie"
          ],
          [
           "Emicida AmarElo Live in Sao Paulo"
          ],
          [
           "Only You"
          ],
          [
           "Lethal Love"
          ],
          [
           "The Misadventures of Hedi and Cokeman"
          ],
          [
           "Latte and the Magic Waterstone"
          ],
          [
           "Johnny Test's Ultimate Meatloaf Quest"
          ],
          [
           "Whindersson Nunes: My Own Show!"
          ],
          [
           "Cem YÄ±lmaz: Diamond Elite Platinum Plus"
          ],
          [
           "Sisters on Track"
          ],
          [
           "Sharkdogâ€™s Fintastic Halloween"
          ],
          [
           "Thimmarusu: Assignment Vali"
          ],
          [
           "Prime Time"
          ],
          [
           "Chief Daddy 2: Going for Broke"
          ],
          [
           "The Four of Us"
          ],
          [
           "June & Kopi"
          ],
          [
           "Thalaivii"
          ],
          [
           "Blue Dream: The Road to Wembley"
          ],
          [
           "Soy Rada: Serendipity"
          ],
          [
           "Have You Ever Seen Fireflies?"
          ],
          [
           "Hostage House"
          ],
          [
           "Convergence: Courage in a Crisis"
          ],
          [
           "Haroun"
          ],
          [
           "AngÃ¨le"
          ],
          [
           "A Perfect Fit"
          ],
          [
           "30-Mar"
          ],
          [
           "Super Monsters: Once Upon a Rhyme"
          ],
          [
           "Izla"
          ],
          [
           "Our Lady of San Juan, Four Centuries of Miracles"
          ],
          [
           "StarBeam: Beaming in the New Year"
          ],
          [
           "Ali & Ratu Ratu Queens"
          ],
          [
           "D.O.D.: Day of Destiny"
          ],
          [
           "Upcoming Summer"
          ],
          [
           "What Happened to Mr Cha?"
          ],
          [
           "Lokillo"
          ],
          [
           "Jagame Thandhiram"
          ],
          [
           "Private Network: Who Killed Manuel BuendÃ­a?"
          ],
          [
           "Kaaval"
          ],
          [
           "One Lagos Night"
          ],
          [
           "I Missed You"
          ],
          [
           "African America"
          ],
          [
           "Will You Marry?"
          ],
          [
           "Tughlaq Durbar"
          ],
          [
           "My Amanda"
          ],
          [
           "Geez & Ann"
          ],
          [
           "Laabam"
          ],
          [
           "Tribhanga"
          ],
          [
           "Trippinâ€™ with the Kandasamys"
          ],
          [
           "Madam Chief Minister"
          ],
          [
           "Little Big Mouth"
          ],
          [
           "A Naija Christmas"
          ],
          [
           "Slay"
          ],
          [
           "Sardar Ka Grandson"
          ],
          [
           "Sarbath"
          ],
          [
           "Lokillo: Nothing's the Same"
          ],
          [
           "Ankahi Kahaniya"
          ],
          [
           "Here and There"
          ],
          [
           "Devdas Brothers"
          ],
          [
           "Stuck Apart"
          ],
          [
           "C/O Kaadhal"
          ],
          [
           "Daiki Tsuneta: Tokyo Chaotic"
          ],
          [
           "A Faraway Land"
          ],
          [
           "Myriam Fares: The Journey"
          ],
          [
           "Lee Su-geun: The Sense Coach"
          ],
          [
           "Just in Time"
          ],
          [
           "Binti"
          ],
          [
           "The Tambour of Retribution"
          ],
          [
           "Tersanjung: The Movie"
          ],
          [
           "Mommy Issues"
          ],
          [
           "Loyiso Gola: Unlearning"
          ],
          [
           "Layla Majnun"
          ],
          [
           "Meeting Point"
          ],
          [
           "Tuesdays And Fridays"
          ],
          [
           "My Bride"
          ],
          [
           "The Heartbreak Club"
          ],
          [
           "Princess 'Daya'Reese"
          ],
          [
           "Time to Dance"
          ],
          [
           "Momshies! Your Soul is Mine"
          ],
          [
           "Fine Wine"
          ],
          [
           "Clash"
          ],
          [
           "Shadow Parties"
          ]
         ],
         "hovertemplate": "imdb_votes=%{x}<br>imdb_score=%{y}<br>runtime=%{marker.size}<br>title=%{customdata[0]}<br>release_year=%{marker.color}<extra></extra>",
         "legendgroup": "",
         "marker": {
          "color": [
           1976,
           1975,
           1979,
           1973,
           1971,
           1964,
           1980,
           1967,
           1966,
           1961,
           1979,
           1979,
           1980,
           1954,
           1958,
           1968,
           1977,
           1972,
           1963,
           1960,
           1956,
           1979,
           1953,
           1979,
           1966,
           1980,
           1954,
           1976,
           1969,
           1974,
           1975,
           1979,
           1980,
           1971,
           1959,
           1979,
           1962,
           1976,
           1978,
           1973,
           1986,
           1986,
           1984,
           1989,
           1990,
           1987,
           1983,
           1984,
           1990,
           1982,
           1989,
           1986,
           1987,
           1981,
           1981,
           1988,
           1987,
           1990,
           1982,
           1988,
           1990,
           1985,
           1982,
           1990,
           1989,
           1988,
           1986,
           1982,
           1989,
           1990,
           1990,
           1982,
           1988,
           1989,
           1987,
           1988,
           1988,
           1987,
           1984,
           1982,
           1984,
           1986,
           1986,
           1989,
           1982,
           1983,
           1995,
           1994,
           1996,
           1998,
           1997,
           1998,
           1998,
           1997,
           1997,
           1998,
           1998,
           1993,
           1997,
           1997,
           1992,
           1999,
           1999,
           1993,
           1995,
           1998,
           2000,
           2000,
           1993,
           1994,
           1993,
           2000,
           1995,
           1994,
           1997,
           1991,
           1993,
           1997,
           1991,
           2000,
           1998,
           1997,
           1997,
           1993,
           1995,
           1997,
           1998,
           1993,
           1999,
           1994,
           1998,
           1997,
           2000,
           1993,
           1996,
           1991,
           1998,
           1995,
           1993,
           1993,
           1998,
           1994,
           1993,
           1998,
           1999,
           1991,
           1998,
           1993,
           1997,
           1995,
           1991,
           1995,
           1998,
           1995,
           1998,
           1995,
           1992,
           1998,
           1999,
           1994,
           1991,
           2000,
           1998,
           1996,
           1994,
           1993,
           1991,
           1998,
           1993,
           1993,
           1996,
           2000,
           1991,
           1994,
           1999,
           1998,
           1993,
           1999,
           1996,
           1999,
           1993,
           1994,
           1991,
           1996,
           1997,
           1996,
           1994,
           1998,
           1995,
           2000,
           1999,
           1991,
           2008,
           2005,
           2010,
           2010,
           2010,
           2006,
           2007,
           2002,
           2001,
           2005,
           2007,
           2004,
           2010,
           2002,
           2001,
           2007,
           2003,
           2007,
           2009,
           2009,
           2003,
           2004,
           2003,
           2010,
           2009,
           2008,
           2002,
           2007,
           2010,
           2008,
           2007,
           2003,
           2010,
           2003,
           2010,
           2007,
           2005,
           2010,
           2003,
           2004,
           2003,
           2009,
           2002,
           2009,
           2006,
           2006,
           2003,
           2006,
           2001,
           2006,
           2005,
           2005,
           2002,
           2001,
           2008,
           2009,
           2006,
           2007,
           2003,
           2006,
           2001,
           2001,
           2006,
           2008,
           2005,
           2004,
           2005,
           2007,
           2010,
           2002,
           2009,
           2008,
           2009,
           2007,
           2003,
           2005,
           2010,
           2008,
           2004,
           2001,
           2006,
           2003,
           2005,
           2007,
           2010,
           2010,
           2009,
           2004,
           2005,
           2006,
           2004,
           2003,
           2005,
           2006,
           2001,
           2008,
           2005,
           2007,
           2006,
           2007,
           2008,
           2001,
           2009,
           2006,
           2010,
           2007,
           2010,
           2010,
           2009,
           2009,
           2010,
           2007,
           2008,
           2002,
           2009,
           2005,
           2006,
           2005,
           2002,
           2007,
           2009,
           2004,
           2009,
           2010,
           2001,
           2007,
           2006,
           2006,
           2008,
           2008,
           2009,
           2007,
           2007,
           2001,
           2006,
           2004,
           2010,
           2010,
           2007,
           2006,
           2006,
           2008,
           2008,
           2009,
           2005,
           2002,
           2009,
           2005,
           2006,
           2009,
           2010,
           2001,
           2009,
           2010,
           2004,
           2008,
           2010,
           2008,
           2009,
           2008,
           2010,
           2008,
           2010,
           2006,
           2008,
           2006,
           2008,
           2008,
           2007,
           2007,
           2004,
           2006,
           2008,
           2006,
           2004,
           2005,
           2008,
           2008,
           2009,
           2003,
           2007,
           2010,
           2010,
           2006,
           2008,
           2010,
           2006,
           2004,
           2001,
           2008,
           2006,
           2008,
           2009,
           2004,
           2005,
           2004,
           2007,
           2001,
           2005,
           2001,
           2010,
           2007,
           2004,
           2010,
           2008,
           2005,
           2007,
           2003,
           2009,
           2009,
           2004,
           2008,
           2006,
           2005,
           2010,
           2006,
           2007,
           2009,
           2009,
           2010,
           2009,
           2007,
           2008,
           2004,
           2006,
           2007,
           2008,
           2010,
           2004,
           2008,
           2009,
           2008,
           2010,
           2008,
           2009,
           2007,
           2002,
           2009,
           2010,
           2009,
           2007,
           2002,
           2006,
           2003,
           2003,
           2003,
           2008,
           2008,
           2001,
           2003,
           2002,
           2007,
           2008,
           2010,
           2003,
           2010,
           2008,
           2010,
           2007,
           2002,
           2010,
           2004,
           2009,
           2007,
           2006,
           2009,
           2004,
           2004,
           2010,
           2008,
           2008,
           2010,
           2001,
           2003,
           2003,
           2005,
           2010,
           2009,
           2007,
           2010,
           2007,
           2010,
           2008,
           2009,
           2006,
           2008,
           2009,
           2005,
           2007,
           2005,
           2010,
           2007,
           2005,
           2008,
           2004,
           2009,
           2003,
           2006,
           2007,
           2009,
           2005,
           2008,
           2009,
           2009,
           2006,
           2008,
           2004,
           2009,
           2010,
           2010,
           2004,
           2008,
           2010,
           2010,
           2008,
           2010,
           2006,
           2009,
           2010,
           2011,
           2011,
           2011,
           2012,
           2012,
           2012,
           2011,
           2011,
           2012,
           2011,
           2011,
           2012,
           2012,
           2011,
           2012,
           2011,
           2012,
           2011,
           2012,
           2012,
           2012,
           2011,
           2011,
           2011,
           2012,
           2011,
           2012,
           2011,
           2011,
           2011,
           2011,
           2011,
           2011,
           2011,
           2011,
           2011,
           2012,
           2012,
           2011,
           2011,
           2012,
           2012,
           2012,
           2012,
           2011,
           2012,
           2011,
           2012,
           2011,
           2012,
           2011,
           2012,
           2012,
           2011,
           2011,
           2012,
           2012,
           2011,
           2012,
           2011,
           2011,
           2012,
           2012,
           2011,
           2011,
           2012,
           2012,
           2011,
           2011,
           2012,
           2011,
           2011,
           2011,
           2012,
           2012,
           2012,
           2012,
           2012,
           2012,
           2012,
           2011,
           2011,
           2011,
           2011,
           2011,
           2012,
           2012,
           2011,
           2011,
           2012,
           2012,
           2011,
           2012,
           2012,
           2012,
           2012,
           2012,
           2012,
           2011,
           2012,
           2011,
           2011,
           2012,
           2012,
           2011,
           2011,
           2012,
           2012,
           2012,
           2012,
           2012,
           2011,
           2011,
           2011,
           2011,
           2012,
           2011,
           2012,
           2012,
           2011,
           2012,
           2012,
           2012,
           2012,
           2012,
           2012,
           2012,
           2012,
           2012,
           2012,
           2012,
           2012,
           2011,
           2011,
           2011,
           2012,
           2011,
           2011,
           2012,
           2011,
           2011,
           2011,
           2014,
           2014,
           2013,
           2013,
           2014,
           2013,
           2014,
           2013,
           2013,
           2014,
           2013,
           2013,
           2013,
           2014,
           2013,
           2014,
           2014,
           2014,
           2013,
           2013,
           2013,
           2013,
           2013,
           2013,
           2013,
           2013,
           2014,
           2013,
           2014,
           2014,
           2014,
           2014,
           2014,
           2014,
           2013,
           2013,
           2014,
           2014,
           2014,
           2014,
           2013,
           2014,
           2014,
           2013,
           2013,
           2013,
           2014,
           2014,
           2014,
           2013,
           2014,
           2014,
           2013,
           2013,
           2013,
           2013,
           2014,
           2014,
           2013,
           2014,
           2013,
           2013,
           2013,
           2014,
           2013,
           2013,
           2014,
           2014,
           2014,
           2014,
           2014,
           2013,
           2013,
           2014,
           2014,
           2013,
           2013,
           2013,
           2014,
           2014,
           2014,
           2013,
           2014,
           2014,
           2014,
           2014,
           2014,
           2014,
           2014,
           2014,
           2014,
           2013,
           2014,
           2013,
           2013,
           2013,
           2013,
           2014,
           2014,
           2014,
           2013,
           2014,
           2014,
           2014,
           2014,
           2013,
           2014,
           2014,
           2014,
           2013,
           2013,
           2013,
           2014,
           2014,
           2014,
           2014,
           2014,
           2013,
           2013,
           2014,
           2014,
           2013,
           2014,
           2014,
           2013,
           2013,
           2013,
           2014,
           2014,
           2013,
           2014,
           2014,
           2013,
           2014,
           2013,
           2014,
           2013,
           2013,
           2014,
           2013,
           2013,
           2014,
           2013,
           2013,
           2014,
           2013,
           2013,
           2013,
           2013,
           2014,
           2014,
           2014,
           2013,
           2013,
           2013,
           2013,
           2014,
           2013,
           2013,
           2014,
           2013,
           2013,
           2013,
           2014,
           2013,
           2014,
           2014,
           2013,
           2014,
           2013,
           2014,
           2014,
           2013,
           2014,
           2013,
           2014,
           2014,
           2013,
           2013,
           2014,
           2014,
           2014,
           2013,
           2014,
           2014,
           2014,
           2014,
           2013,
           2014,
           2013,
           2013,
           2014,
           2014,
           2013,
           2014,
           2014,
           2014,
           2013,
           2013,
           2013,
           2013,
           2014,
           2013,
           2014,
           2013,
           2016,
           2016,
           2015,
           2016,
           2016,
           2016,
           2016,
           2015,
           2016,
           2015,
           2015,
           2015,
           2015,
           2015,
           2016,
           2016,
           2015,
           2016,
           2016,
           2016,
           2015,
           2016,
           2015,
           2016,
           2016,
           2016,
           2015,
           2016,
           2015,
           2016,
           2016,
           2016,
           2015,
           2015,
           2015,
           2016,
           2016,
           2015,
           2016,
           2015,
           2016,
           2015,
           2016,
           2016,
           2015,
           2016,
           2016,
           2015,
           2016,
           2015,
           2015,
           2016,
           2016,
           2015,
           2015,
           2016,
           2015,
           2016,
           2015,
           2016,
           2016,
           2015,
           2016,
           2016,
           2016,
           2016,
           2016,
           2016,
           2016,
           2016,
           2016,
           2016,
           2016,
           2015,
           2015,
           2016,
           2015,
           2016,
           2016,
           2016,
           2016,
           2016,
           2016,
           2015,
           2015,
           2015,
           2016,
           2016,
           2015,
           2015,
           2016,
           2015,
           2016,
           2016,
           2016,
           2016,
           2016,
           2016,
           2016,
           2015,
           2015,
           2015,
           2016,
           2015,
           2016,
           2016,
           2016,
           2015,
           2016,
           2015,
           2016,
           2016,
           2015,
           2015,
           2015,
           2016,
           2015,
           2016,
           2016,
           2016,
           2016,
           2015,
           2016,
           2016,
           2015,
           2016,
           2015,
           2016,
           2016,
           2016,
           2016,
           2016,
           2016,
           2016,
           2015,
           2016,
           2015,
           2016,
           2015,
           2015,
           2016,
           2016,
           2015,
           2015,
           2016,
           2016,
           2015,
           2016,
           2015,
           2016,
           2015,
           2015,
           2015,
           2015,
           2016,
           2016,
           2016,
           2016,
           2016,
           2015,
           2015,
           2015,
           2015,
           2016,
           2016,
           2016,
           2015,
           2016,
           2016,
           2015,
           2016,
           2016,
           2016,
           2016,
           2015,
           2016,
           2015,
           2015,
           2015,
           2016,
           2015,
           2016,
           2016,
           2016,
           2016,
           2016,
           2015,
           2016,
           2016,
           2016,
           2015,
           2016,
           2015,
           2015,
           2016,
           2016,
           2016,
           2016,
           2016,
           2016,
           2016,
           2015,
           2016,
           2015,
           2016,
           2016,
           2016,
           2016,
           2015,
           2016,
           2015,
           2015,
           2016,
           2015,
           2016,
           2016,
           2016,
           2016,
           2016,
           2016,
           2016,
           2015,
           2016,
           2016,
           2015,
           2015,
           2015,
           2016,
           2016,
           2016,
           2016,
           2016,
           2015,
           2015,
           2016,
           2016,
           2016,
           2016,
           2015,
           2016,
           2015,
           2015,
           2016,
           2016,
           2015,
           2016,
           2016,
           2016,
           2016,
           2016,
           2016,
           2016,
           2016,
           2016,
           2016,
           2015,
           2015,
           2015,
           2016,
           2015,
           2016,
           2016,
           2016,
           2016,
           2016,
           2015,
           2015,
           2015,
           2015,
           2016,
           2016,
           2015,
           2015,
           2016,
           2015,
           2015,
           2016,
           2016,
           2016,
           2016,
           2015,
           2015,
           2015,
           2015,
           2016,
           2015,
           2015,
           2015,
           2016,
           2016,
           2015,
           2016,
           2016,
           2016,
           2016,
           2016,
           2016,
           2016,
           2016,
           2016,
           2016,
           2016,
           2016,
           2015,
           2015,
           2015,
           2016,
           2016,
           2016,
           2016,
           2016,
           2015,
           2015,
           2016,
           2015,
           2016,
           2015,
           2016,
           2016,
           2015,
           2015,
           2015,
           2016,
           2015,
           2015,
           2015,
           2015,
           2016,
           2016,
           2016,
           2015,
           2015,
           2016,
           2016,
           2015,
           2015,
           2016,
           2015,
           2016,
           2016,
           2016,
           2015,
           2016,
           2016,
           2015,
           2015,
           2016,
           2017,
           2018,
           2017,
           2017,
           2017,
           2018,
           2017,
           2017,
           2017,
           2017,
           2018,
           2018,
           2017,
           2018,
           2017,
           2018,
           2017,
           2017,
           2017,
           2017,
           2018,
           2017,
           2017,
           2017,
           2017,
           2018,
           2017,
           2018,
           2018,
           2017,
           2018,
           2017,
           2018,
           2017,
           2018,
           2017,
           2018,
           2017,
           2018,
           2017,
           2018,
           2017,
           2018,
           2017,
           2018,
           2018,
           2018,
           2018,
           2017,
           2018,
           2017,
           2018,
           2018,
           2018,
           2017,
           2018,
           2018,
           2017,
           2017,
           2017,
           2017,
           2017,
           2017,
           2018,
           2018,
           2018,
           2017,
           2018,
           2018,
           2018,
           2018,
           2018,
           2018,
           2018,
           2017,
           2018,
           2017,
           2018,
           2017,
           2018,
           2018,
           2018,
           2018,
           2018,
           2018,
           2017,
           2018,
           2018,
           2017,
           2018,
           2018,
           2018,
           2018,
           2018,
           2018,
           2018,
           2018,
           2018,
           2017,
           2018,
           2018,
           2017,
           2018,
           2017,
           2018,
           2017,
           2017,
           2017,
           2017,
           2018,
           2017,
           2017,
           2018,
           2017,
           2018,
           2017,
           2018,
           2017,
           2018,
           2018,
           2017,
           2018,
           2017,
           2017,
           2017,
           2018,
           2017,
           2017,
           2018,
           2017,
           2017,
           2018,
           2017,
           2017,
           2018,
           2018,
           2018,
           2017,
           2018,
           2017,
           2018,
           2018,
           2017,
           2018,
           2018,
           2017,
           2017,
           2018,
           2017,
           2018,
           2018,
           2017,
           2018,
           2017,
           2017,
           2017,
           2018,
           2017,
           2018,
           2017,
           2017,
           2018,
           2017,
           2017,
           2017,
           2018,
           2017,
           2017,
           2017,
           2018,
           2017,
           2017,
           2018,
           2017,
           2018,
           2017,
           2018,
           2017,
           2018,
           2017,
           2018,
           2017,
           2017,
           2017,
           2017,
           2017,
           2018,
           2018,
           2018,
           2018,
           2018,
           2018,
           2017,
           2017,
           2017,
           2017,
           2018,
           2018,
           2018,
           2018,
           2017,
           2018,
           2017,
           2018,
           2017,
           2017,
           2018,
           2018,
           2018,
           2018,
           2017,
           2017,
           2018,
           2017,
           2018,
           2018,
           2017,
           2017,
           2017,
           2017,
           2018,
           2017,
           2018,
           2017,
           2017,
           2018,
           2018,
           2017,
           2017,
           2018,
           2018,
           2018,
           2017,
           2017,
           2017,
           2017,
           2018,
           2018,
           2017,
           2018,
           2018,
           2018,
           2017,
           2017,
           2017,
           2018,
           2018,
           2017,
           2017,
           2017,
           2017,
           2017,
           2017,
           2018,
           2017,
           2018,
           2018,
           2017,
           2018,
           2018,
           2018,
           2018,
           2017,
           2018,
           2017,
           2018,
           2017,
           2018,
           2018,
           2017,
           2017,
           2017,
           2018,
           2018,
           2018,
           2018,
           2017,
           2018,
           2018,
           2017,
           2017,
           2018,
           2018,
           2017,
           2018,
           2017,
           2018,
           2018,
           2017,
           2017,
           2018,
           2017,
           2018,
           2018,
           2018,
           2017,
           2017,
           2018,
           2017,
           2018,
           2017,
           2017,
           2018,
           2017,
           2017,
           2018,
           2018,
           2018,
           2018,
           2018,
           2018,
           2017,
           2017,
           2018,
           2017,
           2017,
           2017,
           2018,
           2018,
           2018,
           2018,
           2017,
           2018,
           2018,
           2017,
           2018,
           2018,
           2018,
           2018,
           2017,
           2018,
           2018,
           2017,
           2018,
           2018,
           2017,
           2017,
           2018,
           2017,
           2018,
           2018,
           2017,
           2018,
           2018,
           2018,
           2018,
           2017,
           2017,
           2017,
           2017,
           2018,
           2018,
           2017,
           2017,
           2017,
           2018,
           2018,
           2018,
           2017,
           2018,
           2018,
           2017,
           2017,
           2018,
           2018,
           2017,
           2018,
           2018,
           2018,
           2017,
           2018,
           2017,
           2018,
           2017,
           2017,
           2017,
           2018,
           2017,
           2018,
           2018,
           2018,
           2018,
           2018,
           2018,
           2018,
           2018,
           2018,
           2017,
           2018,
           2018,
           2018,
           2018,
           2018,
           2018,
           2018,
           2017,
           2017,
           2017,
           2017,
           2018,
           2018,
           2017,
           2018,
           2018,
           2017,
           2017,
           2018,
           2018,
           2017,
           2017,
           2017,
           2017,
           2018,
           2018,
           2018,
           2017,
           2017,
           2017,
           2018,
           2018,
           2017,
           2017,
           2018,
           2018,
           2018,
           2018,
           2017,
           2017,
           2018,
           2017,
           2018,
           2017,
           2017,
           2017,
           2017,
           2018,
           2018,
           2017,
           2017,
           2018,
           2017,
           2017,
           2017,
           2018,
           2017,
           2018,
           2018,
           2018,
           2017,
           2018,
           2017,
           2017,
           2017,
           2018,
           2018,
           2017,
           2018,
           2017,
           2017,
           2018,
           2017,
           2018,
           2018,
           2017,
           2017,
           2017,
           2018,
           2017,
           2018,
           2018,
           2017,
           2017,
           2018,
           2017,
           2017,
           2017,
           2018,
           2017,
           2018,
           2018,
           2018,
           2018,
           2017,
           2017,
           2018,
           2018,
           2017,
           2017,
           2017,
           2017,
           2018,
           2017,
           2017,
           2017,
           2018,
           2018,
           2017,
           2018,
           2017,
           2018,
           2018,
           2018,
           2018,
           2018,
           2018,
           2018,
           2017,
           2017,
           2017,
           2018,
           2018,
           2017,
           2018,
           2017,
           2018,
           2017,
           2018,
           2018,
           2017,
           2017,
           2018,
           2017,
           2018,
           2017,
           2018,
           2018,
           2017,
           2017,
           2017,
           2018,
           2017,
           2018,
           2017,
           2017,
           2017,
           2018,
           2018,
           2018,
           2018,
           2017,
           2017,
           2018,
           2018,
           2017,
           2018,
           2017,
           2018,
           2018,
           2018,
           2017,
           2018,
           2018,
           2018,
           2018,
           2017,
           2018,
           2018,
           2018,
           2018,
           2017,
           2017,
           2018,
           2018,
           2017,
           2017,
           2018,
           2018,
           2017,
           2018,
           2017,
           2017,
           2017,
           2017,
           2017,
           2017,
           2018,
           2018,
           2017,
           2017,
           2018,
           2018,
           2017,
           2018,
           2018,
           2018,
           2017,
           2018,
           2017,
           2018,
           2017,
           2017,
           2018,
           2018,
           2017,
           2017,
           2018,
           2017,
           2018,
           2018,
           2017,
           2017,
           2017,
           2017,
           2017,
           2017,
           2018,
           2018,
           2018,
           2018,
           2018,
           2017,
           2017,
           2017,
           2017,
           2017,
           2017,
           2018,
           2018,
           2017,
           2017,
           2018,
           2018,
           2018,
           2017,
           2018,
           2018,
           2017,
           2017,
           2018,
           2017,
           2017,
           2018,
           2018,
           2018,
           2018,
           2018,
           2018,
           2017,
           2018,
           2018,
           2017,
           2017,
           2017,
           2017,
           2018,
           2017,
           2018,
           2018,
           2018,
           2017,
           2018,
           2017,
           2018,
           2017,
           2018,
           2018,
           2017,
           2018,
           2018,
           2018,
           2017,
           2018,
           2017,
           2018,
           2017,
           2018,
           2018,
           2017,
           2017,
           2017,
           2017,
           2018,
           2018,
           2018,
           2018,
           2018,
           2018,
           2018,
           2017,
           2017,
           2018,
           2017,
           2018,
           2018,
           2017,
           2018,
           2017,
           2018,
           2017,
           2018,
           2017,
           2018,
           2018,
           2017,
           2017,
           2018,
           2017,
           2018,
           2018,
           2017,
           2017,
           2018,
           2017,
           2017,
           2017,
           2018,
           2017,
           2018,
           2017,
           2017,
           2018,
           2017,
           2017,
           2018,
           2018,
           2017,
           2017,
           2017,
           2018,
           2017,
           2018,
           2018,
           2018,
           2017,
           2017,
           2017,
           2018,
           2018,
           2017,
           2018,
           2018,
           2018,
           2017,
           2017,
           2017,
           2017,
           2017,
           2017,
           2017,
           2018,
           2018,
           2018,
           2018,
           2017,
           2018,
           2017,
           2018,
           2017,
           2018,
           2018,
           2018,
           2018,
           2018,
           2018,
           2018,
           2018,
           2017,
           2017,
           2018,
           2018,
           2018,
           2017,
           2018,
           2018,
           2018,
           2018,
           2017,
           2018,
           2018,
           2018,
           2018,
           2017,
           2018,
           2017,
           2018,
           2018,
           2018,
           2017,
           2017,
           2018,
           2018,
           2018,
           2018,
           2018,
           2018,
           2018,
           2018,
           2018,
           2017,
           2017,
           2018,
           2018,
           2018,
           2017,
           2017,
           2018,
           2017,
           2018,
           2018,
           2018,
           2018,
           2018,
           2018,
           2018,
           2018,
           2018,
           2018,
           2017,
           2017,
           2018,
           2017,
           2018,
           2018,
           2018,
           2017,
           2018,
           2017,
           2018,
           2018,
           2017,
           2017,
           2018,
           2018,
           2018,
           2018,
           2019,
           2020,
           2019,
           2020,
           2019,
           2019,
           2019,
           2020,
           2020,
           2020,
           2019,
           2019,
           2020,
           2019,
           2019,
           2020,
           2019,
           2020,
           2020,
           2019,
           2020,
           2020,
           2019,
           2020,
           2019,
           2020,
           2020,
           2019,
           2020,
           2019,
           2020,
           2019,
           2019,
           2019,
           2020,
           2019,
           2019,
           2020,
           2020,
           2020,
           2020,
           2019,
           2020,
           2020,
           2020,
           2019,
           2019,
           2019,
           2020,
           2020,
           2019,
           2020,
           2020,
           2019,
           2019,
           2019,
           2020,
           2020,
           2019,
           2019,
           2020,
           2019,
           2020,
           2020,
           2019,
           2020,
           2020,
           2020,
           2019,
           2020,
           2020,
           2020,
           2019,
           2020,
           2020,
           2019,
           2020,
           2020,
           2020,
           2019,
           2020,
           2019,
           2019,
           2020,
           2019,
           2020,
           2019,
           2020,
           2019,
           2020,
           2019,
           2019,
           2019,
           2019,
           2019,
           2019,
           2019,
           2019,
           2019,
           2019,
           2019,
           2019,
           2020,
           2019,
           2019,
           2019,
           2019,
           2019,
           2019,
           2020,
           2020,
           2019,
           2019,
           2020,
           2020,
           2019,
           2019,
           2019,
           2019,
           2020,
           2019,
           2020,
           2020,
           2019,
           2020,
           2019,
           2020,
           2020,
           2019,
           2019,
           2020,
           2019,
           2019,
           2019,
           2019,
           2019,
           2020,
           2020,
           2020,
           2020,
           2020,
           2019,
           2020,
           2019,
           2020,
           2020,
           2020,
           2020,
           2020,
           2019,
           2020,
           2020,
           2020,
           2019,
           2020,
           2020,
           2019,
           2020,
           2019,
           2020,
           2020,
           2020,
           2020,
           2019,
           2019,
           2020,
           2019,
           2020,
           2020,
           2020,
           2019,
           2020,
           2020,
           2019,
           2019,
           2019,
           2019,
           2020,
           2020,
           2020,
           2020,
           2020,
           2019,
           2019,
           2020,
           2019,
           2020,
           2019,
           2019,
           2020,
           2020,
           2019,
           2020,
           2019,
           2020,
           2019,
           2020,
           2020,
           2020,
           2020,
           2019,
           2019,
           2019,
           2020,
           2020,
           2019,
           2020,
           2020,
           2020,
           2019,
           2020,
           2020,
           2019,
           2020,
           2019,
           2019,
           2020,
           2019,
           2020,
           2019,
           2020,
           2020,
           2019,
           2020,
           2019,
           2019,
           2019,
           2019,
           2019,
           2019,
           2019,
           2019,
           2020,
           2019,
           2019,
           2019,
           2020,
           2020,
           2020,
           2020,
           2020,
           2019,
           2019,
           2020,
           2019,
           2019,
           2020,
           2019,
           2019,
           2019,
           2020,
           2020,
           2019,
           2020,
           2020,
           2019,
           2020,
           2019,
           2020,
           2019,
           2020,
           2020,
           2019,
           2019,
           2020,
           2020,
           2019,
           2019,
           2019,
           2020,
           2019,
           2019,
           2019,
           2020,
           2020,
           2019,
           2019,
           2019,
           2019,
           2019,
           2020,
           2020,
           2020,
           2019,
           2020,
           2019,
           2019,
           2020,
           2020,
           2019,
           2020,
           2019,
           2019,
           2019,
           2020,
           2019,
           2020,
           2020,
           2019,
           2019,
           2020,
           2020,
           2019,
           2020,
           2020,
           2020,
           2019,
           2020,
           2020,
           2020,
           2020,
           2020,
           2019,
           2020,
           2020,
           2020,
           2020,
           2020,
           2020,
           2019,
           2020,
           2020,
           2019,
           2020,
           2019,
           2019,
           2020,
           2019,
           2020,
           2019,
           2019,
           2020,
           2020,
           2019,
           2019,
           2020,
           2019,
           2020,
           2019,
           2019,
           2020,
           2020,
           2020,
           2019,
           2019,
           2019,
           2020,
           2019,
           2019,
           2019,
           2019,
           2020,
           2020,
           2019,
           2020,
           2019,
           2019,
           2020,
           2019,
           2020,
           2020,
           2020,
           2019,
           2020,
           2019,
           2020,
           2019,
           2019,
           2020,
           2020,
           2020,
           2020,
           2019,
           2020,
           2020,
           2019,
           2019,
           2019,
           2020,
           2019,
           2019,
           2020,
           2020,
           2019,
           2020,
           2020,
           2019,
           2019,
           2019,
           2019,
           2020,
           2020,
           2020,
           2019,
           2019,
           2019,
           2019,
           2019,
           2020,
           2019,
           2019,
           2019,
           2019,
           2019,
           2020,
           2020,
           2019,
           2019,
           2019,
           2019,
           2019,
           2020,
           2019,
           2019,
           2020,
           2020,
           2020,
           2020,
           2020,
           2019,
           2020,
           2019,
           2019,
           2020,
           2020,
           2020,
           2020,
           2019,
           2019,
           2020,
           2019,
           2020,
           2020,
           2020,
           2019,
           2020,
           2019,
           2020,
           2020,
           2020,
           2020,
           2019,
           2020,
           2019,
           2020,
           2019,
           2020,
           2020,
           2019,
           2019,
           2019,
           2020,
           2019,
           2020,
           2020,
           2019,
           2019,
           2019,
           2020,
           2019,
           2020,
           2019,
           2019,
           2019,
           2020,
           2020,
           2019,
           2019,
           2019,
           2020,
           2020,
           2020,
           2020,
           2020,
           2020,
           2020,
           2019,
           2020,
           2019,
           2019,
           2020,
           2019,
           2019,
           2019,
           2020,
           2020,
           2019,
           2020,
           2019,
           2019,
           2019,
           2019,
           2019,
           2020,
           2019,
           2019,
           2019,
           2020,
           2019,
           2019,
           2020,
           2019,
           2020,
           2020,
           2019,
           2019,
           2019,
           2020,
           2019,
           2020,
           2020,
           2020,
           2020,
           2019,
           2020,
           2020,
           2019,
           2019,
           2019,
           2019,
           2020,
           2020,
           2019,
           2019,
           2019,
           2019,
           2020,
           2020,
           2019,
           2020,
           2020,
           2020,
           2020,
           2020,
           2019,
           2020,
           2019,
           2019,
           2020,
           2019,
           2019,
           2019,
           2019,
           2019,
           2019,
           2020,
           2020,
           2019,
           2020,
           2020,
           2019,
           2020,
           2020,
           2019,
           2020,
           2020,
           2020,
           2019,
           2019,
           2019,
           2020,
           2020,
           2020,
           2019,
           2019,
           2020,
           2019,
           2020,
           2020,
           2020,
           2019,
           2019,
           2020,
           2019,
           2020,
           2019,
           2020,
           2020,
           2019,
           2019,
           2019,
           2019,
           2020,
           2019,
           2019,
           2020,
           2019,
           2020,
           2020,
           2019,
           2020,
           2020,
           2019,
           2019,
           2020,
           2019,
           2019,
           2020,
           2019,
           2020,
           2020,
           2020,
           2020,
           2019,
           2020,
           2020,
           2019,
           2020,
           2020,
           2019,
           2019,
           2019,
           2019,
           2019,
           2019,
           2019,
           2020,
           2019,
           2019,
           2020,
           2020,
           2019,
           2020,
           2019,
           2019,
           2020,
           2020,
           2019,
           2020,
           2020,
           2019,
           2019,
           2019,
           2019,
           2020,
           2019,
           2019,
           2019,
           2019,
           2020,
           2020,
           2019,
           2020,
           2019,
           2020,
           2019,
           2020,
           2020,
           2019,
           2019,
           2019,
           2020,
           2019,
           2019,
           2020,
           2019,
           2019,
           2020,
           2020,
           2019,
           2019,
           2019,
           2020,
           2019,
           2020,
           2020,
           2019,
           2019,
           2020,
           2019,
           2020,
           2020,
           2019,
           2019,
           2019,
           2020,
           2019,
           2020,
           2019,
           2020,
           2019,
           2020,
           2019,
           2020,
           2020,
           2019,
           2019,
           2020,
           2019,
           2019,
           2020,
           2020,
           2019,
           2019,
           2020,
           2019,
           2020,
           2019,
           2020,
           2019,
           2020,
           2020,
           2019,
           2020,
           2019,
           2019,
           2020,
           2020,
           2020,
           2019,
           2019,
           2020,
           2019,
           2019,
           2020,
           2019,
           2019,
           2019,
           2020,
           2019,
           2019,
           2019,
           2019,
           2019,
           2020,
           2020,
           2019,
           2020,
           2020,
           2019,
           2019,
           2019,
           2019,
           2019,
           2019,
           2019,
           2019,
           2020,
           2019,
           2020,
           2019,
           2020,
           2020,
           2020,
           2020,
           2019,
           2019,
           2020,
           2019,
           2019,
           2019,
           2020,
           2019,
           2019,
           2019,
           2020,
           2019,
           2019,
           2019,
           2020,
           2019,
           2020,
           2020,
           2020,
           2020,
           2019,
           2020,
           2020,
           2020,
           2020,
           2019,
           2019,
           2019,
           2019,
           2019,
           2019,
           2019,
           2020,
           2020,
           2020,
           2019,
           2020,
           2019,
           2020,
           2020,
           2020,
           2019,
           2019,
           2019,
           2020,
           2019,
           2019,
           2019,
           2019,
           2019,
           2019,
           2019,
           2020,
           2019,
           2019,
           2019,
           2019,
           2019,
           2020,
           2019,
           2019,
           2019,
           2019,
           2020,
           2019,
           2019,
           2019,
           2019,
           2020,
           2020,
           2019,
           2020,
           2019,
           2019,
           2019,
           2020,
           2019,
           2020,
           2019,
           2020,
           2020,
           2019,
           2020,
           2020,
           2019,
           2019,
           2020,
           2019,
           2020,
           2020,
           2019,
           2019,
           2019,
           2019,
           2019,
           2020,
           2019,
           2019,
           2019,
           2020,
           2019,
           2020,
           2019,
           2019,
           2019,
           2019,
           2019,
           2019,
           2020,
           2019,
           2019,
           2019,
           2020,
           2020,
           2019,
           2019,
           2019,
           2019,
           2019,
           2019,
           2020,
           2020,
           2020,
           2019,
           2020,
           2019,
           2019,
           2020,
           2019,
           2020,
           2019,
           2022,
           2022,
           2021,
           2022,
           2022,
           2022,
           2022,
           2022,
           2021,
           2021,
           2022,
           2021,
           2022,
           2022,
           2022,
           2021,
           2022,
           2021,
           2021,
           2021,
           2021,
           2022,
           2022,
           2022,
           2022,
           2022,
           2022,
           2021,
           2022,
           2022,
           2021,
           2021,
           2021,
           2021,
           2021,
           2022,
           2021,
           2022,
           2022,
           2022,
           2021,
           2022,
           2021,
           2021,
           2021,
           2021,
           2021,
           2021,
           2021,
           2021,
           2021,
           2021,
           2021,
           2021,
           2022,
           2022,
           2021,
           2021,
           2022,
           2021,
           2021,
           2021,
           2022,
           2021,
           2021,
           2022,
           2022,
           2022,
           2021,
           2021,
           2021,
           2022,
           2021,
           2022,
           2021,
           2021,
           2022,
           2021,
           2021,
           2021,
           2021,
           2021,
           2021,
           2021,
           2021,
           2021,
           2021,
           2022,
           2021,
           2021,
           2021,
           2021,
           2021,
           2021,
           2022,
           2022,
           2021,
           2021,
           2021,
           2022,
           2021,
           2021,
           2021,
           2022,
           2021,
           2021,
           2021,
           2021,
           2022,
           2021,
           2021,
           2021,
           2021,
           2022,
           2021,
           2021,
           2021,
           2021,
           2021,
           2021,
           2021,
           2021,
           2021,
           2021,
           2021,
           2021,
           2022,
           2021,
           2022,
           2022,
           2022,
           2022,
           2021,
           2021,
           2021,
           2021,
           2022,
           2021,
           2021,
           2021,
           2021,
           2022,
           2021,
           2021,
           2021,
           2021,
           2021,
           2022,
           2021,
           2022,
           2021,
           2022,
           2021,
           2021,
           2021,
           2021,
           2021,
           2021,
           2022,
           2021,
           2021,
           2022,
           2021,
           2021,
           2021,
           2021,
           2021,
           2021,
           2021,
           2021,
           2021,
           2021,
           2021,
           2021,
           2021,
           2022,
           2021,
           2022,
           2022,
           2021,
           2022,
           2021,
           2021,
           2021,
           2021,
           2021,
           2021,
           2021,
           2021,
           2022,
           2021,
           2021,
           2021,
           2022,
           2021,
           2021,
           2021,
           2022,
           2021,
           2021,
           2021,
           2021,
           2021,
           2022,
           2021,
           2021,
           2021,
           2021,
           2021,
           2021,
           2022,
           2021,
           2021,
           2021,
           2021,
           2021,
           2021,
           2021,
           2021,
           2021,
           2021,
           2021,
           2021,
           2021,
           2021,
           2021,
           2021,
           2021,
           2021,
           2021,
           2021,
           2022,
           2021,
           2021,
           2021,
           2021,
           2021,
           2021,
           2022,
           2021,
           2021,
           2021,
           2021,
           2022,
           2021,
           2021,
           2022,
           2021,
           2021,
           2021,
           2021,
           2021,
           2021,
           2021,
           2021,
           2021,
           2021,
           2021,
           2022,
           2022,
           2021,
           2021,
           2022,
           2021,
           2022,
           2021,
           2021,
           2021,
           2022,
           2021,
           2021,
           2022,
           2022,
           2021,
           2021,
           2021,
           2022,
           2021,
           2021,
           2021,
           2022,
           2021,
           2021,
           2021,
           2021,
           2021,
           2021,
           2021,
           2021,
           2021,
           2021,
           2021,
           2021,
           2021,
           2021,
           2021,
           2021,
           2022,
           2021,
           2021,
           2021,
           2021,
           2021,
           2021,
           2021,
           2021,
           2021,
           2021,
           2021,
           2021,
           2021,
           2021,
           2021,
           2021,
           2021,
           2022,
           2021,
           2022,
           2021,
           2021,
           2021,
           2021,
           2021,
           2021,
           2021,
           2021,
           2022,
           2022,
           2021,
           2021,
           2021,
           2021,
           2021,
           2022,
           2021,
           2021,
           2021,
           2022,
           2021,
           2021,
           2021,
           2021,
           2022,
           2021,
           2021,
           2021,
           2021,
           2021,
           2021,
           2021,
           2021,
           2021,
           2021,
           2021,
           2021,
           2021,
           2021,
           2021,
           2022,
           2021,
           2021,
           2021,
           2022,
           2021,
           2021,
           2021,
           2021,
           2021,
           2021,
           2021,
           2021,
           2021,
           2021,
           2021,
           2021,
           2021,
           2021,
           2021,
           2021,
           2021,
           2021,
           2021,
           2021,
           2021,
           2021,
           2021,
           2021,
           2021,
           2021,
           2021,
           2021,
           2021,
           2021,
           2021,
           2021,
           2021,
           2021,
           2021,
           2021,
           2021,
           2021,
           2021,
           2021,
           2021,
           2021,
           2022,
           2021,
           2021,
           2021,
           2021,
           2021,
           2021,
           2021,
           2022,
           2021,
           2021,
           2021,
           2021,
           2021,
           2021,
           2021,
           2021,
           2021,
           2021,
           2021,
           2022,
           2021,
           2022,
           2021,
           2021,
           2021,
           2021,
           2021,
           2021,
           2021,
           2021,
           2021,
           2021,
           2021,
           2021,
           2021,
           2021,
           2021,
           2021,
           2021,
           2021,
           2021,
           2021,
           2021,
           2021,
           2021,
           2021,
           2021,
           2021,
           2021,
           2021,
           2021,
           2021,
           2021,
           2021,
           2021,
           2021,
           2021,
           2021,
           2021,
           2021,
           2021,
           2021,
           2021,
           2021,
           2021,
           2021,
           2021,
           2021,
           2021,
           2021,
           2021,
           2021,
           2021,
           2021,
           2021,
           2021,
           2021,
           2021,
           2021,
           2021,
           2021,
           2021,
           2021,
           2021,
           2021,
           2021,
           2021,
           2021,
           2021,
           2021,
           2021,
           2021,
           2021,
           2021,
           2021
          ],
          "coloraxis": "coloraxis",
          "size": [
           113,
           91,
           94,
           133,
           102,
           170,
           104,
           110,
           117,
           158,
           100,
           78,
           99,
           115,
           77,
           68,
           150,
           97,
           186,
           158,
           120,
           133,
           105,
           235,
           120,
           161,
           100,
           124,
           152,
           162,
           110,
           74,
           93,
           153,
           142,
           138,
           163,
           135,
           141,
           131,
           110,
           89,
           229,
           96,
           93,
           116,
           90,
           91,
           120,
           127,
           103,
           84,
           93,
           116,
           133,
           120,
           50,
           30,
           77,
           100,
           100,
           87,
           144,
           174,
           72,
           100,
           100,
           134,
           102,
           94,
           172,
           170,
           100,
           105,
           100,
           148,
           120,
           172,
           160,
           108,
           170,
           153,
           159,
           162,
           129,
           151,
           107,
           142,
           92,
           169,
           106,
           120,
           119,
           129,
           127,
           126,
           108,
           130,
           136,
           144,
           123,
           127,
           162,
           97,
           104,
           136,
           165,
           93,
           112,
           93,
           128,
           118,
           97,
           115,
           89,
           103,
           112,
           101,
           88,
           112,
           133,
           87,
           96,
           95,
           114,
           107,
           94,
           96,
           116,
           107,
           100,
           93,
           110,
           115,
           126,
           91,
           87,
           105,
           74,
           124,
           75,
           63,
           124,
           185,
           120,
           30,
           163,
           153,
           136,
           153,
           100,
           141,
           105,
           165,
           160,
           172,
           171,
           156,
           177,
           158,
           100,
           160,
           175,
           155,
           206,
           126,
           97,
           165,
           145,
           180,
           172,
           55,
           72,
           146,
           174,
           58,
           59,
           106,
           56,
           50,
           149,
           129,
           142,
           160,
           145,
           88,
           147,
           55,
           156,
           170,
           131,
           162,
           111,
           117,
           148,
           107,
           98,
           139,
           120,
           88,
           90,
           106,
           88,
           88,
           121,
           117,
           124,
           124,
           125,
           115,
           143,
           129,
           139,
           94,
           128,
           102,
           129,
           106,
           111,
           140,
           110,
           92,
           122,
           154,
           118,
           90,
           93,
           117,
           77,
           116,
           110,
           95,
           102,
           90,
           117,
           99,
           143,
           105,
           109,
           110,
           107,
           111,
           95,
           109,
           116,
           89,
           123,
           110,
           93,
           91,
           81,
           93,
           91,
           87,
           108,
           108,
           130,
           106,
           101,
           109,
           121,
           84,
           82,
           115,
           97,
           97,
           97,
           145,
           95,
           128,
           95,
           95,
           83,
           98,
           90,
           87,
           95,
           107,
           170,
           87,
           106,
           91,
           101,
           121,
           97,
           91,
           132,
           96,
           97,
           115,
           129,
           96,
           118,
           224,
           94,
           88,
           100,
           101,
           84,
           92,
           86,
           93,
           108,
           165,
           103,
           78,
           103,
           106,
           46,
           107,
           82,
           90,
           114,
           99,
           109,
           104,
           210,
           94,
           95,
           76,
           89,
           213,
           71,
           162,
           138,
           85,
           116,
           82,
           76,
           88,
           90,
           97,
           95,
           96,
           97,
           107,
           172,
           92,
           89,
           96,
           72,
           137,
           100,
           183,
           101,
           94,
           99,
           128,
           85,
           90,
           95,
           90,
           97,
           145,
           48,
           178,
           144,
           105,
           60,
           95,
           160,
           100,
           114,
           155,
           94,
           157,
           189,
           127,
           116,
           94,
           141,
           186,
           189,
           115,
           126,
           225,
           126,
           104,
           193,
           143,
           42,
           110,
           175,
           135,
           72,
           57,
           137,
           88,
           89,
           110,
           85,
           99,
           132,
           166,
           179,
           110,
           85,
           141,
           118,
           99,
           135,
           72,
           127,
           155,
           95,
           173,
           108,
           165,
           137,
           94,
           155,
           135,
           150,
           167,
           109,
           161,
           110,
           131,
           167,
           104,
           186,
           60,
           95,
           97,
           146,
           153,
           138,
           124,
           169,
           122,
           119,
           161,
           113,
           100,
           116,
           160,
           157,
           175,
           119,
           99,
           56,
           145,
           155,
           98,
           161,
           138,
           60,
           115,
           109,
           167,
           97,
           137,
           144,
           113,
           144,
           103,
           95,
           117,
           124,
           141,
           129,
           130,
           134,
           88,
           149,
           80,
           142,
           90,
           120,
           115,
           73,
           127,
           105,
           121,
           57,
           98,
           80,
           160,
           117,
           105,
           117,
           112,
           95,
           145,
           90,
           44,
           110,
           135,
           90,
           110,
           110,
           96,
           142,
           100,
           192,
           120,
           127,
           125,
           122,
           100,
           110,
           106,
           148,
           105,
           69,
           104,
           69,
           95,
           91,
           121,
           182,
           95,
           118,
           107,
           165,
           119,
           120,
           94,
           140,
           157,
           158,
           106,
           131,
           104,
           117,
           113,
           129,
           122,
           110,
           120,
           88,
           76,
           112,
           92,
           79,
           131,
           105,
           134,
           113,
           114,
           96,
           108,
           100,
           113,
           103,
           91,
           97,
           58,
           108,
           97,
           125,
           110,
           98,
           80,
           68,
           92,
           86,
           93,
           65,
           89,
           101,
           166,
           89,
           75,
           113,
           143,
           151,
           85,
           128,
           68,
           102,
           108,
           50,
           88,
           115,
           149,
           65,
           93,
           139,
           90,
           80,
           90,
           140,
           144,
           137,
           149,
           143,
           101,
           125,
           115,
           94,
           96,
           24,
           58,
           134,
           126,
           135,
           80,
           135,
           90,
           130,
           96,
           122,
           162,
           165,
           126,
           81,
           149,
           60,
           136,
           140,
           93,
           57,
           95,
           135,
           148,
           96,
           118,
           150,
           104,
           110,
           81,
           97,
           118,
           107,
           66,
           141,
           80,
           125,
           140,
           109,
           63,
           100,
           167,
           146,
           110,
           140,
           104,
           65,
           110,
           70,
           68,
           150,
           102,
           134,
           78,
           111,
           75,
           104,
           60,
           115,
           84,
           100,
           96,
           118,
           126,
           128,
           113,
           94,
           106,
           104,
           123,
           102,
           104,
           107,
           106,
           113,
           119,
           97,
           77,
           102,
           100,
           97,
           105,
           94,
           130,
           132,
           86,
           95,
           92,
           92,
           86,
           92,
           104,
           92,
           120,
           109,
           116,
           94,
           139,
           108,
           85,
           90,
           90,
           80,
           105,
           60,
           105,
           93,
           95,
           93,
           90,
           112,
           98,
           90,
           101,
           75,
           82,
           110,
           80,
           86,
           162,
           85,
           91,
           88,
           100,
           153,
           106,
           70,
           112,
           101,
           123,
           90,
           74,
           94,
           141,
           96,
           22,
           120,
           96,
           120,
           150,
           149,
           68,
           130,
           98,
           130,
           138,
           124,
           133,
           146,
           104,
           70,
           94,
           136,
           84,
           69,
           91,
           127,
           126,
           84,
           93,
           120,
           137,
           152,
           141,
           107,
           104,
           143,
           70,
           109,
           122,
           126,
           144,
           160,
           75,
           76,
           132,
           143,
           87,
           104,
           44,
           133,
           100,
           138,
           41,
           115,
           137,
           79,
           90,
           161,
           69,
           105,
           75,
           85,
           133,
           134,
           99,
           95,
           69,
           106,
           96,
           150,
           130,
           107,
           105,
           142,
           114,
           120,
           85,
           62,
           100,
           98,
           149,
           75,
           152,
           130,
           105,
           87,
           88,
           100,
           110,
           81,
           94,
           125,
           136,
           141,
           64,
           170,
           93,
           150,
           116,
           98,
           82,
           139,
           110,
           130,
           120,
           71,
           67,
           12,
           179,
           59,
           85,
           121,
           71,
           124,
           120,
           112,
           110,
           150,
           105,
           107,
           75,
           88,
           107,
           64,
           112,
           105,
           132,
           63,
           95,
           67,
           63,
           147,
           94,
           62,
           64,
           101,
           102,
           101,
           98,
           95,
           99,
           115,
           108,
           114,
           133,
           188,
           119,
           87,
           132,
           106,
           104,
           122,
           130,
           99,
           95,
           120,
           115,
           159,
           82,
           134,
           95,
           82,
           104,
           95,
           108,
           84,
           123,
           119,
           99,
           95,
           97,
           97,
           98,
           72,
           86,
           92,
           97,
           97,
           100,
           96,
           109,
           103,
           92,
           96,
           137,
           116,
           97,
           91,
           101,
           87,
           95,
           83,
           108,
           120,
           104,
           104,
           105,
           88,
           81,
           70,
           88,
           94,
           161,
           90,
           118,
           120,
           107,
           88,
           108,
           119,
           100,
           119,
           89,
           89,
           108,
           60,
           77,
           105,
           106,
           106,
           107,
           92,
           111,
           122,
           28,
           80,
           105,
           89,
           68,
           96,
           102,
           63,
           89,
           92,
           100,
           124,
           56,
           96,
           92,
           83,
           108,
           96,
           22,
           91,
           106,
           93,
           118,
           163,
           95,
           62,
           105,
           79,
           72,
           92,
           98,
           92,
           84,
           129,
           136,
           139,
           110,
           30,
           111,
           90,
           87,
           132,
           133,
           82,
           88,
           110,
           86,
           106,
           74,
           61,
           156,
           101,
           95,
           87,
           63,
           62,
           105,
           97,
           115,
           98,
           90,
           118,
           115,
           136,
           71,
           87,
           99,
           86,
           123,
           103,
           103,
           84,
           139,
           85,
           62,
           95,
           91,
           108,
           112,
           103,
           100,
           132,
           108,
           148,
           105,
           60,
           73,
           141,
           55,
           82,
           155,
           181,
           105,
           123,
           91,
           100,
           127,
           100,
           92,
           60,
           126,
           164,
           98,
           159,
           92,
           95,
           134,
           100,
           114,
           79,
           89,
           98,
           101,
           90,
           136,
           112,
           110,
           109,
           116,
           114,
           50,
           132,
           66,
           82,
           170,
           103,
           95,
           124,
           86,
           130,
           80,
           73,
           90,
           126,
           90,
           98,
           130,
           39,
           97,
           109,
           107,
           88,
           131,
           78,
           82,
           61,
           119,
           98,
           83,
           93,
           74,
           154,
           71,
           67,
           91,
           90,
           94,
           86,
           136,
           106,
           100,
           82,
           120,
           98,
           107,
           140,
           144,
           157,
           107,
           63,
           105,
           74,
           108,
           77,
           106,
           67,
           135,
           83,
           74,
           102,
           90,
           65,
           60,
           108,
           60,
           58,
           138,
           65,
           108,
           91,
           64,
           130,
           88,
           98,
           107,
           69,
           102,
           106,
           67,
           120,
           90,
           119,
           105,
           29,
           101,
           92,
           94,
           100,
           106,
           105,
           110,
           90,
           60,
           95,
           90,
           97,
           129,
           56,
           132,
           110,
           90,
           112,
           115,
           100,
           95,
           117,
           116,
           93,
           95,
           31,
           116,
           122,
           100,
           115,
           97,
           83,
           28,
           88,
           68,
           112,
           118,
           62,
           80,
           94,
           130,
           125,
           82,
           75,
           106,
           93,
           96,
           100,
           107,
           118,
           113,
           107,
           98,
           16,
           164,
           111,
           107,
           106,
           140,
           140,
           130,
           94,
           94,
           125,
           136,
           113,
           104,
           91,
           72,
           132,
           122,
           119,
           120,
           132,
           135,
           115,
           93,
           123,
           113,
           130,
           121,
           94,
           120,
           103,
           102,
           107,
           102,
           93,
           91,
           110,
           125,
           105,
           101,
           93,
           124,
           122,
           121,
           105,
           109,
           121,
           84,
           95,
           112,
           89,
           85,
           97,
           96,
           100,
           105,
           132,
           124,
           102,
           97,
           120,
           105,
           94,
           116,
           100,
           107,
           123,
           105,
           101,
           98,
           85,
           108,
           125,
           90,
           98,
           168,
           90,
           102,
           96,
           82,
           129,
           105,
           108,
           66,
           102,
           120,
           78,
           69,
           88,
           80,
           110,
           96,
           89,
           101,
           126,
           89,
           91,
           96,
           125,
           104,
           98,
           122,
           104,
           143,
           112,
           110,
           96,
           101,
           117,
           83,
           105,
           95,
           113,
           98,
           109,
           100,
           109,
           82,
           116,
           105,
           85,
           101,
           79,
           26,
           107,
           102,
           105,
           100,
           122,
           140,
           87,
           112,
           82,
           92,
           123,
           94,
           97,
           91,
           92,
           97,
           95,
           94,
           87,
           97,
           94,
           90,
           95,
           90,
           65,
           88,
           139,
           110,
           83,
           96,
           95,
           90,
           85,
           99,
           136,
           97,
           70,
           105,
           90,
           119,
           97,
           90,
           94,
           91,
           107,
           130,
           90,
           106,
           93,
           111,
           91,
           118,
           89,
           105,
           87,
           108,
           101,
           101,
           102,
           120,
           94,
           100,
           135,
           114,
           87,
           87,
           124,
           98,
           74,
           104,
           132,
           107,
           102,
           89,
           103,
           96,
           94,
           96,
           105,
           83,
           95,
           139,
           86,
           152,
           104,
           93,
           94,
           111,
           81,
           94,
           40,
           109,
           90,
           92,
           95,
           100,
           81,
           96,
           105,
           58,
           98,
           81,
           82,
           153,
           105,
           113,
           105,
           98,
           115,
           89,
           103,
           71,
           72,
           53,
           79,
           140,
           105,
           124,
           104,
           95,
           129,
           102,
           107,
           73,
           71,
           71,
           80,
           85,
           65,
           130,
           116,
           96,
           100,
           125,
           90,
           89,
           95,
           94,
           90,
           114,
           100,
           99,
           74,
           95,
           83,
           106,
           105,
           72,
           169,
           65,
           103,
           164,
           104,
           89,
           119,
           75,
           90,
           95,
           104,
           100,
           61,
           99,
           99,
           64,
           103,
           92,
           84,
           74,
           93,
           105,
           95,
           99,
           105,
           63,
           94,
           90,
           100,
           92,
           98,
           94,
           79,
           85,
           100,
           110,
           49,
           129,
           122,
           78,
           64,
           105,
           120,
           106,
           76,
           83,
           66,
           94,
           57,
           90,
           69,
           155,
           96,
           90,
           72,
           120,
           94,
           89,
           93,
           107,
           87,
           143,
           100,
           125,
           100,
           155,
           75,
           99,
           70,
           128,
           94,
           111,
           130,
           98,
           100,
           89,
           81,
           102,
           100,
           88,
           87,
           147,
           135,
           104,
           110,
           89,
           106,
           106,
           92,
           162,
           21,
           85,
           63,
           99,
           150,
           96,
           56,
           60,
           86,
           102,
           97,
           127,
           66,
           110,
           57,
           132,
           110,
           95,
           95,
           95,
           107,
           90,
           92,
           91,
           69,
           102,
           86,
           93,
           101,
           161,
           22,
           91,
           139,
           104,
           93,
           90,
           107,
           110,
           101,
           89,
           150,
           90,
           93,
           95,
           123,
           82,
           102,
           84,
           62,
           60,
           86,
           100,
           91,
           130,
           115,
           95,
           150,
           104,
           126,
           102,
           75,
           129,
           95,
           58,
           63,
           83,
           167,
           101,
           86,
           63,
           93,
           90,
           144,
           90,
           107,
           91,
           100,
           83,
           108,
           145,
           73,
           104,
           64,
           83,
           86,
           90,
           125,
           108,
           63,
           63,
           107,
           95,
           120,
           127,
           66,
           90,
           92,
           180,
           92,
           86,
           129,
           89,
           98,
           85,
           70,
           84,
           66,
           57,
           70,
           70,
           59,
           140,
           105,
           77,
           68,
           93,
           125,
           99,
           100,
           104,
           73,
           132,
           76,
           95,
           115,
           124,
           87,
           134,
           121,
           58,
           105,
           105,
           69,
           86,
           98,
           100,
           109,
           127,
           72,
           112,
           110,
           88,
           76,
           93,
           73,
           80,
           87,
           91,
           98,
           99,
           66,
           96,
           47,
           140,
           130,
           74,
           102,
           136,
           106,
           66,
           54,
           90,
           47,
           100,
           133,
           100,
           101,
           124,
           89,
           85,
           100,
           84,
           136,
           92,
           81,
           90,
           82,
           101,
           85,
           95,
           123,
           105,
           118,
           131,
           10,
           95,
           106,
           96,
           82,
           90,
           92,
           62,
           152,
           97,
           88,
           129,
           61,
           96,
           97,
           99,
           105,
           96,
           99,
           105,
           100,
           57,
           67,
           100,
           118,
           27,
           100,
           80,
           39,
           90,
           113,
           93,
           84,
           147,
           88,
           104,
           118,
           62,
           130,
           125,
           116,
           104,
           116,
           90,
           90,
           112,
           58,
           84,
           119,
           88,
           88,
           57,
           115,
           140,
           67,
           95,
           115,
           65,
           115,
           69,
           80,
           108,
           91,
           107,
           131,
           66,
           84,
           90,
           103,
           69,
           102,
           182,
           155,
           49,
           69,
           91,
           115,
           169,
           94,
           116,
           102,
           81,
           126,
           70,
           90,
           156,
           100,
           69,
           150,
           100,
           122,
           130,
           84,
           110,
           96,
           111,
           60,
           78,
           102,
           92,
           100,
           78,
           102,
           67,
           54,
           100,
           107,
           159,
           61,
           96,
           62,
           25,
           95,
           95,
           100,
           111,
           68,
           94,
           101,
           128,
           104,
           117,
           73,
           90,
           62,
           83,
           50,
           98,
           110,
           93,
           105,
           106,
           91,
           105,
           45,
           97,
           109,
           157,
           120,
           111,
           80,
           92,
           50,
           111,
           161,
           125,
           66,
           116,
           53,
           65,
           111,
           105,
           105,
           155,
           104,
           66,
           90,
           140,
           56,
           77,
           114,
           66,
           60,
           95,
           73,
           58,
           120,
           125,
           89,
           108,
           63,
           95,
           74,
           104,
           128,
           90,
           56,
           102,
           138,
           132,
           52,
           104,
           134,
           60,
           93,
           87,
           87,
           126,
           65,
           94,
           66,
           52,
           134,
           102,
           122,
           76,
           77,
           62,
           102,
           59,
           117,
           60,
           116,
           53,
           57,
           56,
           122,
           63,
           58,
           89,
           76,
           89,
           59,
           104,
           87,
           124,
           91,
           79,
           85,
           134,
           116,
           112,
           105,
           75,
           62,
           91,
           90,
           65,
           109,
           106,
           76,
           93,
           51,
           140,
           63,
           128,
           80,
           97,
           102,
           122,
           49,
           128,
           106,
           115,
           120,
           157,
           61,
           72,
           118,
           71,
           92,
           88,
           100,
           78,
           60,
           67,
           100,
           109,
           90,
           74,
           100,
           65,
           150,
           115,
           115,
           92,
           91,
           160,
           102,
           122,
           96,
           118,
           24,
           26,
           81,
           79,
           95,
           137,
           85,
           85,
           113,
           88,
           130,
           114,
           101,
           105,
           140,
           134,
           138,
           84,
           209,
           102,
           116,
           99,
           136,
           130,
           123,
           123,
           112,
           115,
           100,
           94,
           81,
           131,
           127,
           118,
           93,
           94,
           124,
           101,
           123,
           108,
           125,
           102,
           118,
           112,
           113,
           125,
           123,
           116,
           128,
           111,
           98,
           90,
           104,
           106,
           118,
           124,
           108,
           127,
           99,
           102,
           87,
           86,
           116,
           97,
           92,
           121,
           98,
           99,
           156,
           132,
           128,
           84,
           108,
           96,
           90,
           94,
           118,
           78,
           130,
           91,
           92,
           88,
           102,
           82,
           90,
           83,
           113,
           96,
           95,
           125,
           96,
           108,
           112,
           103,
           94,
           99,
           129,
           108,
           110,
           126,
           103,
           82,
           90,
           115,
           91,
           87,
           106,
           85,
           113,
           90,
           111,
           97,
           93,
           114,
           93,
           107,
           106,
           105,
           86,
           102,
           95,
           89,
           83,
           108,
           98,
           81,
           97,
           113,
           88,
           103,
           116,
           142,
           92,
           110,
           115,
           82,
           112,
           88,
           111,
           104,
           85,
           90,
           67,
           95,
           102,
           100,
           104,
           95,
           97,
           85,
           140,
           89,
           87,
           86,
           105,
           101,
           94,
           112,
           37,
           89,
           111,
           99,
           95,
           120,
           133,
           103,
           97,
           165,
           80,
           86,
           94,
           87,
           98,
           85,
           65,
           142,
           102,
           123,
           96,
           92,
           64,
           115,
           101,
           90,
           88,
           75,
           61,
           100,
           86,
           100,
           128,
           111,
           94,
           123,
           131,
           93,
           89,
           97,
           72,
           97,
           95,
           91,
           110,
           95,
           32,
           116,
           96,
           96,
           151,
           60,
           98,
           101,
           121,
           93,
           83,
           107,
           97,
           104,
           71,
           49,
           100,
           89,
           87,
           71,
           104,
           92,
           89,
           101,
           109,
           96,
           105,
           103,
           94,
           93,
           76,
           64,
           70,
           61,
           100,
           110,
           122,
           109,
           93,
           106,
           99,
           134,
           91,
           96,
           92,
           98,
           60,
           96,
           107,
           109,
           83,
           107,
           25,
           92,
           123,
           91,
           86,
           66,
           118,
           89,
           105,
           98,
           93,
           59,
           99,
           85,
           65,
           92,
           136,
           135,
           118,
           137,
           63,
           118,
           96,
           116,
           74,
           100,
           74,
           81,
           108,
           90,
           112,
           45,
           98,
           94,
           104,
           85,
           90,
           89,
           87,
           46,
           95,
           85,
           62,
           63,
           121,
           97,
           101,
           84,
           44,
           103,
           113,
           132,
           104,
           46,
           98,
           98,
           93,
           109,
           99,
           84,
           93,
           90,
           107,
           97,
           89,
           92,
           88,
           61,
           70,
           81,
           139,
           118,
           114,
           117,
           61,
           121,
           84,
           92,
           107,
           106,
           55,
           86,
           66,
           103,
           60,
           91,
           176,
           97,
           109,
           67,
           61,
           122,
           156,
           94,
           57,
           145,
           77,
           90,
           102,
           171,
           102,
           89,
           93,
           62,
           88,
           87,
           98,
           32,
           89,
           105,
           106,
           96,
           102,
           58,
           90,
           95,
           121,
           100,
           90,
           87,
           76,
           99,
           104,
           112,
           93,
           90,
           132,
           74,
           107,
           94,
           83,
           96,
           90,
           116,
           106,
           95,
           149,
           84,
           115,
           127,
           107,
           94,
           90,
           92,
           106,
           102,
           77,
           105,
           99,
           148,
           93,
           115,
           92,
           99,
           172,
           95,
           85,
           90,
           103,
           98,
           91,
           48,
           110,
           71,
           136,
           97,
           96,
           96,
           96,
           104,
           171,
           94,
           59,
           54,
           100,
           100,
           93,
           90,
           92,
           58,
           106,
           134,
           120,
           79,
           106,
           109,
           90,
           103,
           58,
           100,
           95,
           113,
           94,
           139,
           90,
           143,
           55,
           126,
           121,
           142,
           95,
           83,
           85,
           89,
           85,
           60,
           49,
           113,
           50,
           97,
           94,
           106,
           89,
           105,
           103,
           70,
           82,
           102,
           90,
           65,
           65,
           102,
           113,
           93,
           150,
           98,
           85,
           89,
           66,
           87,
           90,
           65,
           91,
           93,
           89,
           94,
           90,
           115,
           103,
           73,
           130,
           59,
           172,
           87,
           86,
           62,
           122,
           63,
           123,
           80,
           90,
           86,
           111,
           109,
           69,
           126,
           60,
           81,
           93,
           89,
           100,
           46,
           97,
           135,
           80,
           94,
           123,
           105,
           93,
           75,
           58,
           113,
           118,
           98,
           110,
           97,
           86,
           105,
           110,
           134,
           104,
           96,
           83,
           90,
           112,
           108,
           84,
           52,
           113,
           130,
           96,
           69,
           118,
           39,
           128,
           125,
           128,
           95,
           60,
           140,
           90,
           59,
           95,
           101,
           70,
           125,
           28,
           80,
           47,
           88,
           64,
           66,
           102,
           102,
           49,
           86,
           122,
           59,
           58,
           103,
           100,
           82,
           109,
           83,
           57,
           171,
           72,
           62,
           90,
           125,
           114,
           81,
           51,
           139,
           47,
           120,
           93,
           99,
           88,
           45,
           87,
           116,
           115,
           84,
           112,
           104,
           119,
           108,
           120,
           145,
           65,
           104,
           129,
           91,
           106,
           121,
           140,
           68,
           13,
           100,
           115,
           103,
           101,
           147,
           89,
           102,
           94,
           90,
           94,
           115,
           66,
           125,
           149,
           45,
           107,
           94,
           107,
           82,
           89,
           128,
           132,
           64,
           90,
           96,
           155,
           63,
           101,
           84,
           64,
           78,
           150,
           106,
           97,
           104,
           101,
           125,
           97,
           96,
           114,
           63,
           141,
           60,
           106,
           21,
           60,
           65,
           94,
           55,
           138,
           94,
           113,
           58,
           64,
           95,
           60,
           98,
           82,
           65,
           100,
           100,
           151,
           68,
           131,
           94,
           54,
           53,
           106,
           82,
           121,
           44,
           104,
           107,
           24,
           51,
           60,
           120,
           93,
           90,
           61,
           15,
           29,
           112,
           120,
           100,
           58,
           146,
           135,
           84,
           90,
           141,
           51,
           45,
           111,
           98,
           89,
           75,
           63,
           92,
           59,
           93,
           59,
           73,
           113,
           111,
           130,
           133,
           117,
           58,
           23,
           84,
           23,
           64,
           97,
           140,
           75,
           74,
           22,
           100,
           95,
           28,
           72,
           134,
           104,
           54,
           100,
           75,
           88,
           126,
           92,
           110,
           79,
           72,
           75,
           93,
           83,
           105,
           86,
           108,
           118,
           129,
           92,
           59,
           64,
           8,
           133,
           61,
           58,
           81,
           102,
           115,
           119,
           86,
           61,
           98,
           105,
           65,
           53,
           98,
           162,
           96,
           112,
           100,
           112,
           120,
           131,
           69,
           124,
           95,
           135,
           77,
           88,
           104,
           94,
           121,
           150,
           92,
           74,
           101,
           119,
           127,
           82,
           110,
           90,
           119,
           29,
           100,
           105,
           107,
           103,
           61,
           97,
           128,
           94,
           136,
           133,
           83,
           24,
           113,
           27,
           134,
           119,
           117,
           116,
           181,
           89,
           122,
           112,
           102,
           63,
           105,
           93,
           74,
           25,
           95,
           115,
           114,
           50,
           67,
           108,
           114,
           21,
           120,
           83,
           104,
           128,
           106,
           24,
           140,
           110,
           95,
           108,
           81,
           123,
           110,
           95,
           94,
           117,
           129,
           116,
           82,
           137,
           113,
           108,
           92,
           110,
           60,
           103,
           107,
           128,
           93,
           85,
           89,
           111,
           118,
           106,
           130,
           28,
           120,
           85,
           104,
           87,
           81,
           109,
           90,
           77,
           96,
           99,
           95,
           106,
           128,
           126,
           85,
           97,
           126,
           88,
           92,
           121,
           138,
           98,
           93,
           101,
           114,
           101,
           122,
           111,
           113,
           117,
           92,
           139,
           102,
           97,
           128,
           91,
           157,
           106,
           104,
           93,
           119,
           117,
           130,
           112,
           90,
           93,
           114,
           89,
           100,
           129,
           83,
           98,
           89,
           127,
           114,
           86,
           140,
           113,
           125,
           148,
           101,
           87,
           100,
           107,
           102,
           111,
           90,
           106,
           118,
           113,
           103,
           139,
           87,
           102,
           85,
           102,
           138,
           110,
           99,
           98,
           99,
           88,
           125,
           118,
           112,
           112,
           114,
           60,
           83,
           110,
           86,
           98,
           121,
           132,
           102,
           92,
           91,
           88,
           162,
           92,
           95,
           95,
           103,
           30,
           107,
           94,
           116,
           90,
           107,
           107,
           88,
           104,
           117,
           121,
           94,
           118,
           129,
           136,
           110,
           126,
           72,
           86,
           92,
           70,
           91,
           109,
           87,
           94,
           96,
           98,
           106,
           125,
           80,
           109,
           111,
           138,
           93,
           59,
           95,
           147,
           105,
           137,
           118,
           109,
           93,
           163,
           124,
           125,
           93,
           98,
           110,
           39,
           118,
           81,
           103,
           103,
           90,
           110,
           95,
           138,
           129,
           86,
           96,
           112,
           99,
           131,
           95,
           59,
           92,
           96,
           97,
           85,
           29,
           100,
           114,
           99,
           60,
           158,
           123,
           115,
           91,
           90,
           89,
           94,
           69,
           60,
           60,
           84,
           81,
           107,
           86,
           112,
           85,
           87,
           80,
           96,
           130,
           101,
           107,
           106,
           97,
           109,
           87,
           107,
           112,
           98,
           116,
           83,
           109,
           40,
           30,
           104,
           112,
           104,
           104,
           125,
           112,
           107,
           112,
           97,
           108,
           151,
           84,
           90,
           97,
           22,
           58,
           142,
           98,
           96,
           100,
           104,
           125,
           94,
           102,
           106,
           106,
           95,
           115,
           107,
           95,
           80,
           60,
           101,
           101,
           110,
           89,
           113,
           126,
           78,
           115,
           110,
           73,
           84,
           131,
           83,
           118,
           102,
           94,
           145,
           102,
           8,
           129,
           74,
           31,
           95,
           101,
           89,
           110,
           128,
           179,
           101,
           136,
           104,
           53,
           36,
           150,
           101,
           117,
           149,
           106,
           98,
           13,
           88,
           118,
           80,
           119,
           109,
           93,
           79,
           105,
           104,
           105,
           95,
           128,
           157,
           63,
           81,
           96,
           88,
           61,
           126,
           112,
           65,
           100,
           105,
           101,
           136,
           54,
           68,
           86,
           124,
           95,
           89,
           91,
           117,
           99,
           98,
           116,
           91,
           62,
           104,
           58,
           90,
           79,
           106,
           102,
           97,
           106,
           34,
           84,
           90,
           104,
           151,
           64,
           99,
           92,
           58,
           92,
           96,
           59,
           128,
           96,
           135,
           95,
           120,
           105,
           31,
           106,
           101,
           130,
           115,
           124,
           54,
           107,
           102,
           108,
           72,
           104,
           69,
           170,
           105,
           110,
           111,
           117,
           66,
           94,
           59,
           99,
           97,
           134,
           123,
           86,
           12,
           14,
           72,
           103,
           90,
           120,
           101,
           163,
           82,
           115,
           141,
           97,
           142,
           96,
           63,
           64,
           25,
           15,
           94,
           55,
           68,
           111,
           102,
           90,
           60,
           52,
           103,
           110,
           58,
           91,
           90,
           98,
           97,
           102,
           112,
           115,
           9,
           114,
           107,
           97,
           91,
           87,
           98,
           108,
           105,
           89,
           102,
           91,
           89,
           99,
           122,
           65,
           124,
           94,
           101,
           155,
           95,
           127,
           45,
           99,
           110,
           87,
           99,
           89,
           20,
           63,
           94,
           96,
           24,
           127,
           93,
           113,
           88,
           90,
           153,
           61,
           70,
           113,
           90,
           113,
           76,
           84,
           112,
           99,
           25,
           85,
           122,
           47,
           100,
           110,
           115,
           102,
           90,
           158,
           100,
           148,
           103,
           96,
           96,
           86,
           145,
           89,
           105,
           144,
           95,
           93,
           123,
           94,
           121,
           93,
           139,
           112,
           64,
           110,
           98,
           99,
           96,
           134,
           89,
           101,
           72,
           45,
           92,
           99,
           92,
           114,
           89,
           60,
           119,
           90,
           106,
           93,
           101,
           115,
           107,
           108,
           100,
           88,
           116
          ],
          "sizemode": "area",
          "sizeref": 0.5875,
          "symbol": "circle"
         },
         "mode": "markers",
         "name": "",
         "showlegend": false,
         "type": "scattergl",
         "x": [
          795222,
          530877,
          392419,
          391942,
          153463,
          94121,
          69053,
          111189,
          16168,
          50150,
          30277,
          5141,
          11329,
          42373,
          4385,
          1117,
          2416,
          411,
          2470,
          82,
          590,
          1689,
          231,
          943,
          225,
          25,
          1219,
          768,
          168,
          236,
          106,
          43,
          75,
          137,
          78,
          555,
          285,
          14,
          35,
          41,
          329656,
          392790,
          342335,
          212913,
          92647,
          723306,
          80945,
          230543,
          137549,
          44866,
          102212,
          14277,
          19646,
          8374,
          1242,
          1649,
          651,
          353,
          15186,
          901,
          448,
          6285,
          1210,
          8902,
          1522,
          494,
          209,
          1449,
          857,
          200,
          5273,
          154,
          144,
          643,
          357,
          92,
          380,
          68,
          297,
          149,
          241,
          65,
          122,
          188,
          1113,
          70,
          92224,
          1994599,
          217534,
          1346020,
          298168,
          267181,
          209258,
          288960,
          300073,
          103263,
          118811,
          149290,
          141308,
          361422,
          59086,
          180532,
          118479,
          57399,
          183638,
          181306,
          270231,
          167670,
          75244,
          9208,
          101939,
          64087,
          71062,
          57621,
          103459,
          79800,
          128179,
          142696,
          55499,
          130099,
          191722,
          51938,
          67761,
          60779,
          66127,
          64625,
          21382,
          33128,
          58726,
          30138,
          73269,
          34127,
          25432,
          11506,
          19829,
          3178,
          4247,
          4921,
          3085,
          678,
          5834,
          589,
          1564,
          51640,
          5943,
          195,
          28409,
          320,
          2825,
          1678,
          248,
          12512,
          4175,
          3056,
          129,
          3901,
          6199,
          3025,
          8454,
          18224,
          341,
          7556,
          3567,
          2837,
          20986,
          2177,
          365,
          7557,
          351,
          3490,
          2322,
          161,
          272,
          6465,
          5413,
          1092,
          166,
          987,
          115,
          74,
          784,
          998,
          198,
          2528,
          1212,
          718,
          142,
          65,
          248,
          4168,
          4230,
          66,
          280121,
          439027,
          2268288,
          263019,
          719717,
          644336,
          163878,
          92305,
          260975,
          465995,
          41052,
          193053,
          681286,
          263212,
          255099,
          329417,
          435503,
          627009,
          297525,
          620154,
          474176,
          215678,
          120400,
          247229,
          323939,
          441023,
          341888,
          611379,
          333378,
          228799,
          269043,
          429097,
          312538,
          240433,
          200354,
          128190,
          265023,
          120208,
          149218,
          47049,
          160449,
          226225,
          214461,
          72916,
          536858,
          148043,
          393998,
          67748,
          36361,
          26157,
          106755,
          144656,
          131999,
          104604,
          247039,
          357557,
          27797,
          26035,
          81971,
          139797,
          86492,
          91584,
          182612,
          221095,
          143670,
          175210,
          60693,
          118815,
          49599,
          58516,
          104166,
          111694,
          105938,
          242733,
          117986,
          146847,
          99192,
          224896,
          86395,
          35711,
          120188,
          140741,
          143998,
          64062,
          339626,
          87673,
          385782,
          23307,
          13034,
          114942,
          145981,
          121066,
          38445,
          72366,
          149082,
          94628,
          57894,
          146625,
          83129,
          78119,
          185430,
          111053,
          131564,
          30186,
          82623,
          89755,
          11973,
          49599,
          10210,
          33051,
          103673,
          188234,
          78039,
          53746,
          40289,
          54633,
          1780,
          8536,
          6948,
          11138,
          5382,
          49090,
          32837,
          13446,
          48818,
          4016,
          12831,
          3984,
          7585,
          32188,
          1683,
          42597,
          51945,
          73,
          61,
          6759,
          865,
          14272,
          1611,
          9957,
          3975,
          10834,
          263,
          1936,
          3507,
          3598,
          3284,
          4297,
          3940,
          11747,
          4346,
          71167,
          7451,
          2416,
          6249,
          604,
          3567,
          4473,
          3626,
          2862,
          3264,
          14944,
          907,
          36836,
          21963,
          2630,
          1789,
          1189,
          21799,
          4849,
          3813,
          22505,
          2151,
          118092,
          89085,
          5309,
          5824,
          2482,
          7683,
          68028,
          19556,
          10415,
          18466,
          312,
          17411,
          2558,
          19797,
          20611,
          1083,
          2256,
          9793,
          7884,
          2548,
          3422,
          6313,
          1826,
          4430,
          36291,
          778,
          2570,
          17494,
          23541,
          35142,
          5060,
          3028,
          13206,
          2609,
          2206,
          17136,
          4333,
          61797,
          26738,
          382,
          4736,
          5645,
          10528,
          8043,
          880,
          10206,
          11944,
          14380,
          2603,
          1224,
          8878,
          1120,
          21745,
          12468,
          12265,
          23076,
          3555,
          249,
          4231,
          5551,
          5588,
          30818,
          11934,
          8309,
          243,
          2139,
          5121,
          3922,
          2127,
          9897,
          20595,
          17029,
          15379,
          6309,
          11241,
          54,
          4203,
          16225,
          1641,
          63,
          44556,
          13,
          3140,
          2191,
          17555,
          314,
          8376,
          1876,
          200,
          30389,
          686,
          315,
          406,
          1153,
          373,
          7994,
          1115,
          3239,
          4166,
          2196,
          739,
          909,
          2077,
          4227,
          3148,
          344,
          522,
          274,
          2968,
          84,
          674,
          209,
          1000,
          708,
          3210,
          142,
          603,
          79,
          10139,
          904,
          595,
          2051,
          812,
          83,
          2693,
          493,
          2464,
          261,
          51,
          2718,
          203,
          664,
          1156,
          2608,
          302,
          430,
          108,
          1496,
          388,
          35,
          46,
          310,
          481,
          147,
          203,
          15,
          33734,
          507878,
          125883,
          1472668,
          566791,
          600392,
          413541,
          463276,
          325132,
          454917,
          300074,
          246008,
          141289,
          239367,
          262998,
          446531,
          697481,
          241111,
          252051,
          204959,
          12278,
          49101,
          114505,
          156144,
          129199,
          125098,
          25793,
          259696,
          96915,
          23287,
          69241,
          111483,
          85658,
          89316,
          83727,
          50431,
          6608,
          7002,
          58296,
          15889,
          4308,
          20194,
          10257,
          7370,
          10266,
          3398,
          2281,
          3511,
          8222,
          1818,
          75801,
          25639,
          1194,
          7051,
          16473,
          80643,
          918,
          1741,
          408,
          29578,
          5021,
          567,
          216,
          1756,
          21204,
          1936,
          376,
          52338,
          1018,
          1401,
          2272,
          7686,
          9522,
          3885,
          41752,
          22243,
          145,
          57449,
          14898,
          950,
          4118,
          504,
          97,
          25592,
          8414,
          35888,
          1333,
          2316,
          230,
          2165,
          14,
          927,
          1176,
          4490,
          4359,
          2625,
          1342,
          635,
          11665,
          3905,
          2617,
          490,
          1003,
          1178,
          5919,
          4445,
          334,
          2433,
          700,
          6754,
          347,
          167,
          2884,
          3708,
          5,
          1049,
          363,
          359,
          5411,
          407,
          16,
          202,
          2034,
          1871,
          1533,
          4312,
          296,
          12,
          286,
          41,
          53,
          278,
          254,
          292,
          129,
          170,
          112,
          309,
          330,
          391,
          138,
          63,
          111092,
          523686,
          586679,
          93314,
          748654,
          120475,
          51,
          75015,
          465254,
          327565,
          154049,
          491048,
          167549,
          120389,
          272334,
          118117,
          52233,
          102103,
          43149,
          75139,
          62183,
          21368,
          3634,
          114013,
          70814,
          100637,
          88708,
          49312,
          null,
          68790,
          54190,
          80733,
          76395,
          63007,
          39743,
          18793,
          24456,
          67243,
          28295,
          42137,
          49549,
          3953,
          55044,
          11488,
          41571,
          17433,
          54065,
          7789,
          7812,
          28204,
          13135,
          24845,
          17170,
          3284,
          1823,
          9942,
          7954,
          21514,
          7873,
          5482,
          23917,
          8949,
          1518,
          178012,
          9535,
          1444,
          2652,
          265,
          1671,
          11403,
          2570,
          1076,
          53293,
          574,
          1305,
          7103,
          14230,
          5635,
          54001,
          25344,
          533,
          3255,
          2105,
          8330,
          2598,
          3433,
          28370,
          64805,
          1696,
          2226,
          1950,
          6898,
          1057,
          1299,
          249,
          5372,
          36512,
          2257,
          2579,
          2870,
          11656,
          7179,
          14916,
          1285,
          11330,
          11059,
          480,
          128,
          10656,
          789,
          55489,
          7127,
          519,
          5407,
          3708,
          5370,
          4452,
          1069,
          21,
          12757,
          1967,
          21882,
          854,
          584,
          5019,
          3980,
          1876,
          1081,
          492,
          3357,
          13308,
          1649,
          2565,
          33714,
          183,
          365,
          150,
          22186,
          130,
          16302,
          24319,
          4315,
          38,
          3978,
          3888,
          5121,
          466,
          74,
          1128,
          443,
          424,
          43,
          5127,
          1007,
          313,
          172,
          1091,
          522,
          205,
          1548,
          479,
          28,
          515,
          4280,
          31,
          5018,
          211,
          8550,
          160,
          210,
          445,
          745,
          407,
          15,
          362,
          1165,
          228,
          null,
          47,
          249,
          234,
          2310,
          74,
          260,
          354,
          19,
          1050,
          3838,
          1079,
          374,
          95,
          873,
          874,
          13,
          118,
          195,
          10,
          9,
          54,
          33,
          6,
          458,
          108,
          23,
          14,
          125720,
          224900,
          233165,
          72460,
          152791,
          6,
          264884,
          151679,
          208185,
          58192,
          570138,
          143899,
          31385,
          175273,
          132821,
          120488,
          166288,
          75132,
          155997,
          55118,
          247192,
          14977,
          117333,
          123667,
          260693,
          14501,
          73854,
          18452,
          20377,
          86614,
          27125,
          34139,
          180805,
          19936,
          100705,
          45243,
          70542,
          17710,
          55806,
          32547,
          42763,
          53733,
          11243,
          34914,
          89912,
          58407,
          19275,
          5378,
          23588,
          80129,
          98127,
          99053,
          6496,
          13703,
          52925,
          42148,
          14882,
          38308,
          7665,
          7116,
          8512,
          54128,
          6029,
          17033,
          1513,
          38463,
          10764,
          180247,
          7985,
          14608,
          3542,
          21929,
          10646,
          22147,
          47935,
          23669,
          7804,
          7381,
          12474,
          45146,
          14356,
          4872,
          4349,
          41529,
          4065,
          1938,
          23969,
          20111,
          20541,
          10742,
          3994,
          7073,
          14491,
          896,
          20005,
          16180,
          1063,
          8644,
          8972,
          11963,
          6501,
          15428,
          9458,
          11180,
          5460,
          5057,
          1438,
          843,
          12918,
          4120,
          7860,
          11495,
          79075,
          2649,
          8471,
          3972,
          15656,
          865,
          7005,
          22466,
          15848,
          17447,
          563,
          7304,
          5722,
          3844,
          1364,
          2325,
          2610,
          645,
          25792,
          8826,
          3402,
          4140,
          38,
          3034,
          3893,
          614,
          2163,
          12886,
          5156,
          6586,
          3332,
          686,
          990,
          9739,
          1093,
          4335,
          5495,
          2173,
          2089,
          2279,
          12395,
          224,
          2519,
          4256,
          5393,
          5501,
          21,
          676,
          12441,
          26790,
          2965,
          899,
          1499,
          710,
          2722,
          372,
          2100,
          18,
          7701,
          5976,
          29819,
          3209,
          713,
          3508,
          6199,
          465,
          3357,
          11595,
          48,
          605,
          7900,
          1785,
          1820,
          4478,
          68,
          6981,
          6925,
          1408,
          21487,
          934,
          14968,
          1936,
          356,
          14380,
          1308,
          4570,
          973,
          297,
          1336,
          259,
          566,
          9145,
          3243,
          277,
          1212,
          1700,
          19834,
          221,
          34659,
          940,
          1358,
          17149,
          18681,
          1981,
          4341,
          1503,
          3281,
          299,
          1882,
          825,
          328,
          382,
          1158,
          24676,
          78,
          230,
          157,
          2667,
          1681,
          4787,
          1506,
          1824,
          503,
          1649,
          1692,
          737,
          758,
          525,
          6258,
          2572,
          232,
          775,
          674,
          644,
          279,
          12816,
          738,
          2374,
          353,
          3310,
          983,
          498,
          328,
          5612,
          1910,
          1395,
          4447,
          699,
          1647,
          6167,
          2865,
          928,
          1517,
          1273,
          307,
          1036,
          1248,
          697,
          864,
          274,
          5031,
          2586,
          3247,
          3137,
          1971,
          297,
          75,
          1483,
          47,
          275,
          1463,
          10261,
          543,
          855,
          3170,
          688,
          3620,
          239,
          294,
          121,
          39,
          30,
          113,
          1884,
          3524,
          1511,
          998,
          62,
          382,
          681,
          273,
          74,
          1891,
          2237,
          117,
          749,
          88,
          294,
          1479,
          828,
          8920,
          177,
          303,
          371,
          76,
          98,
          67,
          272,
          491,
          368,
          204,
          50,
          1535,
          32,
          160,
          67,
          282,
          220,
          12,
          59,
          30,
          188,
          256,
          473,
          23,
          183,
          874,
          250,
          121,
          502,
          267,
          33,
          365,
          399,
          157,
          539864,
          75653,
          619645,
          240408,
          165817,
          107701,
          128600,
          277165,
          92788,
          193208,
          28196,
          51513,
          149604,
          30444,
          2176,
          141528,
          116305,
          30785,
          83961,
          35406,
          153508,
          23327,
          21,
          120311,
          112487,
          51038,
          48672,
          17226,
          10234,
          104894,
          11118,
          170351,
          102759,
          55549,
          18165,
          129883,
          9862,
          16482,
          27622,
          21632,
          325194,
          42808,
          69834,
          40254,
          21843,
          25500,
          28933,
          31042,
          47971,
          13290,
          86953,
          48215,
          51781,
          101175,
          42722,
          34009,
          44917,
          60982,
          31620,
          47676,
          27052,
          25593,
          24733,
          42608,
          37340,
          19023,
          21540,
          15750,
          14983,
          30499,
          14081,
          36500,
          123377,
          14037,
          91560,
          41508,
          33579,
          15683,
          19951,
          52657,
          49880,
          5457,
          74,
          14492,
          25223,
          5686,
          12035,
          3190,
          24468,
          33206,
          5020,
          4348,
          12124,
          34788,
          16610,
          11167,
          54750,
          17716,
          49478,
          11785,
          7104,
          9154,
          33246,
          35458,
          4209,
          10490,
          83519,
          183841,
          7496,
          81639,
          13708,
          22854,
          11561,
          3986,
          29773,
          29804,
          7534,
          27003,
          60870,
          4277,
          13476,
          18523,
          2725,
          47025,
          25934,
          15038,
          1933,
          45972,
          5073,
          18618,
          16459,
          6008,
          2596,
          950,
          4181,
          7387,
          29565,
          19140,
          30611,
          21164,
          1285,
          1065,
          28911,
          3909,
          3172,
          1208,
          3320,
          7696,
          9108,
          88359,
          13098,
          14098,
          7344,
          7586,
          11841,
          4908,
          1281,
          17871,
          30698,
          4197,
          3352,
          6873,
          3826,
          2904,
          22594,
          17194,
          2233,
          3849,
          20430,
          4158,
          7968,
          9954,
          10466,
          6540,
          942,
          8451,
          14046,
          11971,
          11406,
          13360,
          5519,
          3106,
          8112,
          21009,
          12825,
          19493,
          14013,
          4544,
          3634,
          9273,
          7566,
          2556,
          7904,
          7005,
          2189,
          6254,
          7248,
          21202,
          6047,
          33769,
          6251,
          2289,
          5566,
          4263,
          5434,
          1593,
          27208,
          71182,
          14876,
          150,
          25582,
          5384,
          4246,
          7734,
          4611,
          16964,
          6555,
          5922,
          7333,
          3139,
          9442,
          4397,
          1327,
          11311,
          5509,
          5598,
          2178,
          736,
          4715,
          2105,
          14146,
          2427,
          12740,
          7383,
          3711,
          7120,
          2646,
          1160,
          2435,
          4824,
          4488,
          4082,
          4426,
          15541,
          314,
          3064,
          5096,
          1594,
          2465,
          1436,
          3410,
          3228,
          16603,
          21481,
          19366,
          2671,
          5293,
          18484,
          738,
          3020,
          4255,
          3467,
          4153,
          2747,
          2642,
          7206,
          10428,
          3909,
          2287,
          2881,
          300,
          32573,
          1276,
          4684,
          18453,
          303,
          3524,
          984,
          3333,
          1337,
          6482,
          2512,
          5934,
          679,
          17305,
          2519,
          6816,
          4708,
          1208,
          322,
          3695,
          2284,
          38319,
          4139,
          4649,
          11693,
          1322,
          1803,
          1414,
          1076,
          19456,
          1330,
          11281,
          2655,
          4674,
          2504,
          674,
          1786,
          2065,
          9816,
          4219,
          945,
          984,
          4026,
          3210,
          743,
          1622,
          2328,
          3619,
          2307,
          4653,
          440,
          8587,
          4303,
          3147,
          848,
          10725,
          1564,
          7425,
          5143,
          117,
          5048,
          43835,
          5407,
          4367,
          602,
          20675,
          4087,
          6283,
          2360,
          32814,
          1610,
          2607,
          2934,
          4953,
          9139,
          2846,
          4465,
          3647,
          2831,
          292,
          3287,
          10320,
          7090,
          5713,
          3306,
          311,
          2195,
          3460,
          2067,
          6093,
          444,
          2271,
          827,
          6893,
          24046,
          2240,
          1697,
          940,
          2778,
          2893,
          8519,
          1874,
          2367,
          4959,
          9753,
          922,
          457,
          1711,
          17034,
          1603,
          3718,
          2627,
          2934,
          1144,
          3637,
          2242,
          14184,
          6278,
          27650,
          52227,
          551,
          3012,
          3103,
          383,
          2284,
          376,
          12095,
          2957,
          2297,
          537,
          10517,
          525,
          3730,
          4092,
          23011,
          3686,
          4252,
          1971,
          5643,
          2868,
          522,
          2726,
          3124,
          23016,
          943,
          4483,
          1605,
          4460,
          1974,
          2450,
          5122,
          160,
          282,
          1463,
          4300,
          386,
          4690,
          10658,
          479,
          3970,
          1545,
          234,
          20501,
          2445,
          8051,
          2411,
          306,
          1687,
          634,
          10230,
          3157,
          2550,
          4874,
          1865,
          2196,
          91,
          2854,
          448,
          1193,
          2165,
          1373,
          7948,
          2817,
          3819,
          995,
          642,
          1887,
          10092,
          4950,
          5913,
          23771,
          1010,
          3173,
          3421,
          1274,
          497,
          164,
          1381,
          2126,
          1916,
          941,
          5270,
          1850,
          7123,
          5121,
          4942,
          8203,
          1293,
          96,
          1573,
          1031,
          5901,
          515,
          965,
          2699,
          396,
          3492,
          3064,
          3690,
          768,
          1057,
          2828,
          1321,
          496,
          1712,
          1445,
          749,
          123,
          4033,
          4222,
          3019,
          124,
          210,
          1416,
          711,
          728,
          763,
          903,
          332,
          6143,
          821,
          479,
          172,
          3037,
          1302,
          2282,
          1076,
          475,
          309,
          302,
          2102,
          395,
          642,
          9159,
          8187,
          2592,
          3575,
          23297,
          1073,
          20,
          388,
          434,
          4783,
          737,
          245,
          714,
          1627,
          549,
          659,
          694,
          4159,
          651,
          522,
          4304,
          null,
          9985,
          1615,
          1338,
          251,
          4544,
          1652,
          212,
          6562,
          2638,
          111,
          1815,
          237,
          498,
          989,
          11,
          437,
          2762,
          92,
          4632,
          1100,
          1028,
          840,
          2142,
          511,
          286,
          688,
          3130,
          25,
          973,
          3484,
          496,
          1502,
          6712,
          256,
          290,
          636,
          1448,
          126,
          894,
          534,
          1972,
          337,
          162,
          523,
          1690,
          606,
          994,
          889,
          133,
          72,
          396,
          4967,
          25269,
          2094,
          614,
          6656,
          526,
          552,
          1281,
          634,
          3574,
          5,
          719,
          5103,
          845,
          1103,
          6331,
          3973,
          1587,
          1750,
          1073,
          799,
          830,
          385,
          94,
          604,
          404,
          101,
          677,
          135,
          1096,
          4126,
          3984,
          7,
          3906,
          2964,
          333,
          112,
          1179,
          723,
          809,
          1436,
          603,
          593,
          234,
          840,
          1531,
          616,
          767,
          35,
          108,
          55,
          837,
          101,
          9,
          2191,
          1071,
          1324,
          251,
          214,
          156,
          1444,
          1726,
          1282,
          531,
          1390,
          219,
          684,
          1541,
          1654,
          2695,
          76,
          245,
          330,
          665,
          360,
          269,
          65,
          68,
          4384,
          2554,
          732,
          605,
          149,
          465,
          227,
          4671,
          594,
          55,
          204,
          362,
          493,
          2113,
          258,
          603,
          1516,
          3217,
          68,
          1697,
          677,
          94,
          1004,
          3569,
          208,
          498,
          276,
          1032,
          921,
          98,
          212,
          211,
          121,
          129,
          2381,
          5633,
          572,
          1725,
          280,
          274,
          151,
          3216,
          126,
          987,
          456,
          248,
          799,
          180,
          397,
          83,
          601,
          267,
          362,
          1202,
          43,
          48,
          207,
          121,
          1720,
          11,
          427,
          73,
          48,
          920,
          1810,
          82,
          71,
          42,
          1863,
          144,
          933,
          69,
          781,
          232,
          80,
          39,
          149,
          57,
          104,
          216,
          24,
          77,
          33,
          1796,
          53,
          521,
          1249,
          20,
          8,
          307,
          316,
          128,
          43,
          414,
          366,
          278,
          86,
          194,
          887,
          765,
          42,
          63,
          417,
          275,
          53,
          64,
          1428,
          35,
          695,
          234,
          105,
          320,
          109,
          34,
          178,
          159,
          172,
          17,
          144,
          50,
          94,
          364,
          854,
          717,
          56,
          1238,
          695,
          3294,
          904,
          132,
          3759,
          770,
          285,
          36,
          91,
          69,
          35,
          52,
          40,
          491,
          1608,
          229,
          27,
          95,
          30,
          59,
          1017,
          146,
          415,
          23,
          314049,
          29201,
          261956,
          80198,
          95013,
          34111,
          119020,
          79921,
          122321,
          51232,
          371209,
          28617,
          40703,
          64117,
          290643,
          170728,
          216847,
          91043,
          29450,
          49894,
          6052,
          79674,
          7890,
          71244,
          168919,
          128172,
          38870,
          207877,
          26368,
          54166,
          160806,
          73859,
          124218,
          6194,
          81513,
          45200,
          87891,
          155135,
          31819,
          192132,
          14122,
          91162,
          37199,
          5708,
          34959,
          52180,
          59836,
          44418,
          4144,
          47795,
          38850,
          8502,
          23979,
          8078,
          61878,
          120532,
          3641,
          40447,
          44715,
          70860,
          50236,
          88714,
          2471,
          6607,
          47603,
          53131,
          14600,
          50275,
          87080,
          14496,
          26197,
          10056,
          21501,
          2861,
          1659,
          8074,
          38647,
          31180,
          7971,
          49391,
          21562,
          120871,
          33724,
          28355,
          59491,
          16939,
          16049,
          1817,
          28051,
          7264,
          21415,
          29840,
          20836,
          31193,
          15426,
          17236,
          43732,
          13267,
          9306,
          5447,
          36805,
          7063,
          85270,
          9200,
          9823,
          22838,
          4552,
          30694,
          10357,
          29571,
          5350,
          54391,
          22298,
          6390,
          26355,
          11136,
          34477,
          31531,
          141480,
          3032,
          3558,
          10198,
          14716,
          6550,
          9264,
          3767,
          10011,
          802,
          2622,
          19708,
          8517,
          4256,
          1815,
          11983,
          10649,
          2048,
          11304,
          5396,
          9353,
          21040,
          14401,
          14215,
          5631,
          13419,
          8125,
          9627,
          9422,
          6710,
          14021,
          3515,
          80,
          8113,
          83973,
          23651,
          6041,
          15029,
          16441,
          47588,
          21011,
          14839,
          5211,
          9608,
          12092,
          10663,
          3865,
          19151,
          25687,
          37462,
          37072,
          4940,
          11115,
          17878,
          362,
          1771,
          23071,
          8514,
          1000,
          6030,
          3595,
          3365,
          2217,
          1867,
          10136,
          2563,
          9701,
          1689,
          6484,
          37913,
          1097,
          2609,
          442,
          1507,
          2782,
          6085,
          18,
          24063,
          442,
          2205,
          3594,
          30030,
          2460,
          986,
          5384,
          3380,
          14938,
          21515,
          8675,
          5301,
          5047,
          10411,
          38301,
          4072,
          5596,
          6305,
          426,
          5656,
          10544,
          4911,
          228,
          6492,
          4578,
          4111,
          1678,
          61924,
          5480,
          12356,
          1516,
          3547,
          3498,
          3812,
          11048,
          5251,
          18274,
          2287,
          null,
          3927,
          4236,
          30310,
          157,
          6732,
          4598,
          19091,
          1798,
          16731,
          1541,
          5122,
          4334,
          14154,
          290,
          3171,
          2521,
          3540,
          12418,
          2764,
          5628,
          1467,
          10030,
          552,
          5809,
          1571,
          2288,
          7578,
          1295,
          17762,
          5774,
          5392,
          12699,
          7013,
          1629,
          9619,
          1054,
          6099,
          2231,
          20033,
          196,
          1923,
          1146,
          947,
          7727,
          3820,
          1195,
          4905,
          5414,
          670,
          17092,
          2677,
          992,
          175,
          6126,
          15053,
          1913,
          3077,
          14605,
          8380,
          3307,
          608,
          1357,
          2723,
          29,
          46939,
          1463,
          155,
          2731,
          19728,
          12828,
          4831,
          705,
          983,
          4145,
          570,
          10749,
          4230,
          413,
          4182,
          13469,
          949,
          2848,
          586,
          6215,
          4593,
          3739,
          20019,
          2341,
          3465,
          916,
          4571,
          777,
          2012,
          469,
          7367,
          1268,
          5866,
          5061,
          1692,
          13680,
          3243,
          8854,
          258,
          2542,
          3762,
          3130,
          11654,
          3419,
          52,
          630,
          1793,
          1313,
          18554,
          7297,
          536,
          1159,
          1219,
          1304,
          3187,
          268,
          2166,
          102,
          1659,
          3296,
          3251,
          2279,
          1468,
          4503,
          11329,
          4288,
          1522,
          6904,
          3013,
          601,
          3912,
          2616,
          29280,
          778,
          4281,
          4647,
          1867,
          2485,
          1046,
          912,
          1509,
          2336,
          2613,
          19630,
          1289,
          11227,
          231,
          2647,
          2096,
          6071,
          3106,
          1020,
          1854,
          9721,
          1527,
          3219,
          3189,
          3940,
          6239,
          988,
          5778,
          1503,
          3639,
          30949,
          384,
          2173,
          1391,
          null,
          5692,
          864,
          2691,
          1501,
          1906,
          7700,
          1322,
          2567,
          1999,
          2693,
          391,
          3679,
          1122,
          250,
          221,
          2341,
          3712,
          8494,
          2593,
          1800,
          1627,
          5283,
          4813,
          27130,
          6319,
          25,
          1641,
          532,
          370,
          1077,
          2279,
          671,
          8221,
          1773,
          3334,
          377,
          8551,
          1772,
          11162,
          3627,
          616,
          858,
          1410,
          8487,
          1472,
          4527,
          844,
          1708,
          815,
          772,
          2752,
          4067,
          523,
          1706,
          704,
          2780,
          1353,
          349,
          1058,
          2890,
          5111,
          1920,
          320,
          6189,
          176,
          37528,
          2675,
          534,
          564,
          1790,
          5296,
          1269,
          25,
          743,
          2466,
          5957,
          2225,
          3048,
          1544,
          1320,
          646,
          9475,
          1732,
          9778,
          336,
          680,
          366,
          670,
          1672,
          1544,
          533,
          2032,
          1245,
          1273,
          1381,
          3342,
          168,
          4437,
          394,
          803,
          635,
          4689,
          153,
          2540,
          10149,
          null,
          2705,
          2253,
          1359,
          828,
          4885,
          2201,
          2160,
          15026,
          613,
          584,
          2326,
          1303,
          535,
          4064,
          4075,
          262,
          964,
          2016,
          1207,
          34423,
          14048,
          6704,
          2491,
          2906,
          32336,
          902,
          1220,
          1341,
          45,
          4298,
          571,
          2254,
          807,
          445,
          106,
          504,
          415,
          768,
          4476,
          818,
          487,
          356,
          339,
          131,
          3460,
          930,
          74,
          1069,
          313,
          null,
          172,
          1717,
          346,
          1654,
          935,
          1092,
          716,
          30,
          528,
          23,
          5438,
          177,
          2368,
          4819,
          4699,
          64,
          321,
          797,
          5728,
          1434,
          7522,
          51,
          929,
          371,
          81,
          316,
          278,
          7390,
          320,
          860,
          1633,
          196,
          474,
          90,
          2721,
          716,
          339,
          1492,
          1485,
          977,
          8674,
          118,
          202,
          1356,
          475,
          6075,
          570,
          980,
          7559,
          375,
          85,
          1087,
          1590,
          650,
          586,
          218,
          1562,
          17570,
          201,
          597,
          239,
          2345,
          190,
          43,
          5,
          17828,
          504,
          169,
          651,
          693,
          1332,
          438,
          628,
          771,
          1664,
          2774,
          155,
          609,
          3321,
          357,
          3522,
          1532,
          2182,
          5333,
          194,
          960,
          1128,
          363,
          52,
          138,
          130,
          1036,
          956,
          1723,
          172,
          3212,
          946,
          434,
          21,
          318,
          226,
          8,
          138,
          171,
          341,
          958,
          348,
          353,
          3120,
          46,
          51,
          774,
          54,
          14221,
          716,
          1737,
          1258,
          37,
          139,
          582,
          316,
          208,
          616,
          110,
          18,
          216,
          122,
          31,
          468,
          96,
          19,
          101,
          215,
          102,
          81,
          444,
          122,
          1433,
          5571,
          1082,
          1232,
          295,
          267,
          290,
          25,
          15,
          269,
          95,
          6732,
          195,
          73,
          1312,
          71,
          29,
          37,
          22,
          1972,
          608,
          366,
          36,
          108,
          60,
          366,
          5530,
          212,
          948,
          2378,
          635,
          71,
          154,
          29,
          90,
          170,
          832,
          50,
          1329,
          250,
          376,
          99,
          139,
          36,
          200,
          418,
          1033,
          1538,
          549,
          94,
          170,
          null,
          1231,
          418,
          422,
          229,
          332,
          43,
          1750,
          92,
          102,
          30,
          155,
          296,
          23,
          1727,
          6647,
          207,
          7453,
          118,
          466,
          3073,
          1036,
          883,
          273,
          483,
          543,
          196,
          1111,
          17,
          38,
          1116,
          48,
          18,
          14,
          217,
          880,
          704,
          1968,
          1235,
          1087,
          29,
          145,
          148,
          731,
          33,
          349,
          47,
          375,
          859,
          521,
          1036,
          404,
          299,
          57,
          44,
          null,
          653,
          37,
          166,
          104,
          729,
          26,
          1543,
          2233,
          343,
          734,
          33,
          45,
          479,
          39,
          59,
          189,
          183,
          256,
          987,
          193,
          54,
          48,
          43,
          73,
          201,
          366,
          1536,
          25,
          1513,
          57,
          145,
          264,
          12,
          1387,
          137,
          182,
          451,
          700,
          64,
          172,
          58,
          999,
          184,
          1189,
          294,
          750,
          71,
          451,
          172,
          45,
          130,
          8,
          140,
          158,
          1047,
          6,
          195,
          98,
          62,
          52,
          300,
          52,
          190,
          398,
          73,
          270,
          118,
          547,
          1123,
          156603,
          1972,
          158487,
          14911,
          19689,
          20080,
          1184,
          17218,
          96418,
          498447,
          4932,
          10714,
          2233,
          17101,
          2468,
          56650,
          10739,
          100787,
          255356,
          7192,
          57549,
          18057,
          12270,
          3270,
          20207,
          44045,
          1432,
          7434,
          6417,
          1768,
          1189,
          30235,
          101975,
          113483,
          4049,
          57606,
          19029,
          2122,
          26781,
          45810,
          13553,
          9428,
          71036,
          40888,
          960,
          4416,
          19706,
          3722,
          166882,
          22858,
          44074,
          36803,
          8270,
          19,
          6986,
          3850,
          57689,
          12745,
          782,
          8278,
          3383,
          10906,
          257,
          13913,
          70886,
          21328,
          1503,
          16320,
          9,
          12339,
          14887,
          2486,
          21511,
          630,
          71915,
          15125,
          1707,
          41508,
          1729,
          14421,
          3878,
          44006,
          1282,
          11733,
          15464,
          3468,
          12284,
          19332,
          4890,
          4458,
          17650,
          37401,
          1533,
          74672,
          11224,
          7902,
          4664,
          16890,
          1626,
          276,
          48521,
          44054,
          29915,
          5985,
          1076,
          13968,
          24659,
          16302,
          2882,
          24903,
          23141,
          5674,
          1549,
          3782,
          58277,
          25460,
          950,
          20828,
          3761,
          35760,
          58190,
          29604,
          34661,
          24003,
          7958,
          6612,
          1828,
          7328,
          15032,
          3447,
          585,
          2840,
          25253,
          6444,
          23781,
          17719,
          13140,
          1682,
          6165,
          46,
          null,
          3820,
          1654,
          3731,
          7558,
          711,
          30580,
          3704,
          8367,
          321,
          1700,
          2125,
          21558,
          24712,
          2181,
          6432,
          4274,
          11401,
          8127,
          3436,
          1349,
          1964,
          7993,
          464,
          14862,
          1295,
          24681,
          9819,
          24232,
          23474,
          2303,
          482,
          3000,
          7532,
          14315,
          374,
          2146,
          215,
          3900,
          1572,
          3049,
          2393,
          7084,
          873,
          4529,
          2815,
          2714,
          2074,
          20838,
          3916,
          8223,
          4248,
          40788,
          952,
          11727,
          41562,
          1893,
          1432,
          null,
          1448,
          4614,
          2802,
          4185,
          2913,
          150,
          3080,
          5704,
          15536,
          286,
          4169,
          9968,
          3123,
          1611,
          1145,
          null,
          601,
          1808,
          5574,
          1331,
          556,
          39620,
          3073,
          4465,
          5435,
          18840,
          10748,
          4205,
          3181,
          4180,
          9792,
          7726,
          54,
          1240,
          1380,
          1215,
          4093,
          729,
          6699,
          551,
          589,
          8276,
          2534,
          1789,
          4170,
          4057,
          594,
          144,
          1295,
          75199,
          109,
          7,
          1413,
          385,
          394,
          906,
          1032,
          888,
          2023,
          350,
          2152,
          1541,
          11715,
          368,
          4027,
          414,
          14590,
          307,
          2079,
          2759,
          687,
          826,
          null,
          313,
          1935,
          800,
          2632,
          728,
          258,
          2400,
          486,
          2325,
          2231,
          5361,
          14348,
          10903,
          561,
          709,
          383,
          2054,
          729,
          889,
          3282,
          500,
          973,
          5622,
          2774,
          2158,
          125,
          1579,
          13156,
          655,
          641,
          993,
          4296,
          12303,
          633,
          474,
          3045,
          966,
          258,
          2697,
          957,
          1356,
          865,
          5618,
          41,
          4934,
          202,
          null,
          124,
          1079,
          767,
          2672,
          568,
          1265,
          1158,
          173,
          796,
          681,
          395,
          175,
          11804,
          25771,
          529,
          289,
          1394,
          69,
          356,
          2387,
          2676,
          465,
          2472,
          3950,
          1302,
          1483,
          3385,
          2086,
          3948,
          2384,
          3125,
          568,
          882,
          4273,
          1367,
          97,
          952,
          743,
          540,
          3436,
          9912,
          1090,
          836,
          null,
          577,
          126,
          444,
          154,
          244,
          5586,
          9400,
          419,
          1623,
          17141,
          1910,
          5620,
          868,
          116,
          74,
          102,
          132,
          722,
          226,
          null,
          3095,
          3059,
          240,
          56,
          361,
          1262,
          1672,
          1327,
          2393,
          1658,
          1364,
          306,
          1632,
          634,
          1265,
          56,
          9133,
          336,
          1727,
          1165,
          348,
          2416,
          749,
          321,
          3260,
          792,
          3021,
          31,
          153,
          2248,
          215,
          6780,
          885,
          804,
          11582,
          1156,
          319,
          928,
          43,
          64,
          215,
          624,
          938,
          24,
          186,
          6680,
          195,
          35,
          1473,
          1757,
          133,
          954,
          529,
          30439,
          722,
          73,
          4934,
          826,
          252,
          62,
          493,
          557,
          96,
          38,
          105,
          79,
          32,
          1185,
          37,
          439,
          349,
          66,
          11596,
          220,
          1462,
          15,
          243,
          63,
          56,
          1566,
          301,
          285,
          777,
          2888,
          366,
          1744,
          170,
          336,
          101,
          4496,
          262,
          51,
          853,
          48,
          50,
          10418,
          339,
          15,
          133,
          153,
          38,
          43,
          118,
          966,
          205,
          38,
          202,
          272,
          423,
          758,
          281,
          188,
          45,
          950,
          26,
          39,
          32,
          9
         ],
         "xaxis": "x",
         "y": [
          8.3,
          8.199999999999998,
          8,
          8.1,
          7.7,
          7.8,
          5.8,
          7.7,
          7.3,
          7.5,
          7.6,
          8.1,
          6.9,
          7.5,
          7.5,
          7.2,
          7.5,
          6.2,
          7.6,
          6.4,
          6.7,
          7.2,
          6.8,
          9,
          6.7,
          2.1,
          7.4,
          7.2,
          6.9,
          6.5,
          6.5,
          6.2,
          7.8,
          6.2,
          6.7,
          6.2,
          6.8,
          4.6,
          4.2,
          5.1,
          6.9,
          8.1,
          8.3,
          7.7,
          6.7,
          8.3,
          6.7,
          7.4,
          7.8,
          6.6,
          6.5,
          6.7,
          7.6,
          4.9,
          7.2,
          7.3,
          7.2,
          6,
          7.9,
          6,
          6,
          8,
          7.7,
          7.6,
          8.1,
          6.7,
          7,
          6.5,
          7.2,
          5.6,
          6.6,
          8.699999999999998,
          7.1,
          6.5,
          6.3,
          5.1,
          5.8,
          4.8,
          6.1,
          6.3,
          6.2,
          6.1,
          5.2,
          5.4,
          7.3,
          6.3,
          6.5,
          8.8,
          7,
          8.6,
          7.8,
          7.1,
          6.7,
          7.3,
          7.7,
          6.5,
          6.6,
          6.4,
          7.1,
          7.5,
          7.2,
          7.3,
          6.9,
          7.5,
          7.1,
          6.8,
          7.2,
          6.5,
          6,
          4.5,
          7.2,
          6.6,
          5.6,
          7.3,
          4.8,
          6.9,
          6.5,
          5.7,
          6,
          5.8,
          5.4,
          8,
          5.2,
          5.6,
          5.9,
          6.2,
          7,
          4.7,
          6.4,
          4.5,
          4.7,
          4.7,
          6.5,
          6.5,
          6.6,
          4.5,
          7.9,
          6.8,
          8.5,
          7,
          7.9,
          6.4,
          6.7,
          7.6,
          7.8,
          5.9,
          7.5,
          4.7,
          7.1,
          4,
          7.2,
          8.1,
          7.6,
          7.6,
          4.8,
          5.4,
          6.5,
          6.2,
          6.2,
          7.6,
          5.5,
          6.1,
          6.4,
          5.5,
          7.5,
          5.4,
          6.9,
          5.5,
          6.6,
          7.8,
          4.5,
          7.3,
          6.6,
          6.6,
          6.1,
          7.8,
          7.8,
          5.9,
          6.7,
          8.199999999999998,
          6.1,
          6.5,
          4.5,
          7.9,
          6.7,
          6.9,
          3.6,
          6.2,
          5,
          6,
          4.6,
          5.9,
          7.1,
          6.5,
          8.8,
          6.6,
          8.1,
          8,
          7.2,
          6.6,
          6.5,
          6.6,
          6.1,
          7,
          7.8,
          7.7,
          7.5,
          7.2,
          8,
          8,
          7,
          7.6,
          7.6,
          7.2,
          6.7,
          5.9,
          7.6,
          6.6,
          7.1,
          8.1,
          7.6,
          7,
          7.6,
          7.8,
          6.8,
          7.3,
          6.3,
          6.7,
          7.3,
          7.1,
          7.3,
          5.8,
          6.3,
          6.9,
          6.7,
          6.3,
          8,
          6.8,
          6.3,
          6.2,
          6.5,
          5.9,
          6.7,
          6.8,
          7,
          5.7,
          6.8,
          6.5,
          5,
          6.5,
          4,
          5.8,
          5.6,
          5.9,
          6.4,
          8,
          7.3,
          5.8,
          5.5,
          6,
          5.4,
          5.1,
          5.1,
          6.7,
          5.5,
          7.4,
          5.7,
          7.3,
          5.2,
          7.1,
          5.9,
          6.3,
          5.1,
          6.2,
          6.1,
          6.2,
          6.5,
          5.5,
          8.4,
          4.8,
          6.8,
          6.6,
          6.1,
          6.6,
          5.1,
          5.8,
          7.6,
          6.5,
          5.5,
          5.9,
          6,
          5.9,
          6.6,
          8.1,
          6.2,
          5.8,
          6.9,
          5.6,
          8.4,
          5.6,
          7.6,
          6.7,
          7.5,
          8.3,
          7.4,
          5.5,
          4.9,
          6.4,
          7.6,
          6.3,
          6.9,
          3.6,
          7.5,
          5.4,
          5.6,
          7.4,
          7.4,
          6.7,
          7.1,
          8,
          5.6,
          7.5,
          3.9,
          6.7,
          7.9,
          4.8,
          6.5,
          6.6,
          5.9,
          5.1,
          6.9,
          5.8,
          6.4,
          4.5,
          6.3,
          7,
          6.1,
          6.6,
          6.6,
          6.4,
          7.9,
          6.3,
          7.4,
          8.1,
          7.3,
          7.4,
          7.1,
          4.4,
          6.9,
          6.8,
          7,
          5.4,
          5.9,
          6.5,
          6.2,
          7.1,
          7.7,
          7,
          7.6,
          7,
          6.9,
          7.2,
          6.6,
          7.1,
          7.2,
          8.1,
          8.1,
          4.7,
          8,
          5.4,
          6.1,
          7.9,
          7.5,
          7.3,
          7.4,
          8.699999999999998,
          7.7,
          7.1,
          6,
          8.4,
          7.4,
          6.6,
          6.6,
          5.1,
          7.7,
          8,
          6.6,
          7.2,
          5.5,
          8,
          7.6,
          7.2,
          7.4,
          7.7,
          7,
          5.3,
          7.4,
          6.3,
          6.1,
          7.6,
          7.4,
          7.5,
          8,
          7.4,
          7.3,
          7.4,
          7.2,
          6.9,
          7.6,
          7.4,
          7.1,
          7.1,
          6.3,
          5,
          6.8,
          7.3,
          6.3,
          7.1,
          6.9,
          7.4,
          7.8,
          7.8,
          6.3,
          6.8,
          7.5,
          5.3,
          7.6,
          7.4,
          6.2,
          4.4,
          6.6,
          5.7,
          7.5,
          7.3,
          7.2,
          8.699999999999998,
          7.8,
          6.5,
          7.7,
          7.6,
          8.3,
          6.1,
          8.1,
          7,
          6.9,
          8.1,
          7,
          5.6,
          6.8,
          7.1,
          8,
          8.4,
          7.2,
          5.2,
          7.9,
          5.2,
          2.9,
          5.2,
          5.1,
          8.4,
          5.6,
          5.5,
          6.9,
          8,
          5.3,
          6.4,
          4.3,
          7.3,
          5.2,
          3.5,
          7,
          5.6,
          6.4,
          4.8,
          6.5,
          2.9,
          6.7,
          4.8,
          5.6,
          6.5,
          6.4,
          6.4,
          6.3,
          7.1,
          7.3,
          5.9,
          6.3,
          5.6,
          7.7,
          6.6,
          4.3,
          8.4,
          5.5,
          6.7,
          4.8,
          7.4,
          5.2,
          3.4,
          5.4,
          5.5,
          6.7,
          7,
          6.4,
          6.5,
          7.7,
          6.3,
          6.4,
          5.7,
          6.1,
          6.5,
          7.4,
          5.4,
          7.4,
          7.1,
          8.4,
          7.4,
          7.7,
          7.7,
          8.199999999999998,
          7.5,
          7.8,
          6.8,
          5.8,
          6.2,
          6.4,
          6.2,
          7.4,
          7.7,
          6,
          6.2,
          6.6,
          7.5,
          7,
          5.9,
          6.6,
          6.4,
          5.9,
          7.4,
          6.8,
          6,
          4.1,
          6.2,
          5.4,
          5.6,
          5.4,
          3.3,
          6.4,
          8.199999999999998,
          7.8,
          7.1,
          8,
          5.7,
          6.8,
          7.7,
          8.199999999999998,
          7.4,
          7.1,
          7.2,
          7.4,
          6.3,
          6.5,
          8.1,
          5.8,
          8,
          7.7,
          6.8,
          8.1,
          6.3,
          5.9,
          6.6,
          7.6,
          7.1,
          7,
          6.7,
          6.5,
          7.7,
          6.1,
          7.8,
          7.1,
          4.7,
          7,
          7.4,
          7.5,
          6.6,
          5,
          7.3,
          5.9,
          5.4,
          8.1,
          6,
          7.3,
          6.4,
          5.2,
          6.6,
          4.6,
          7.3,
          8.199999999999998,
          5.3,
          5.2,
          6.9,
          6.9,
          6.7,
          6.7,
          5.1,
          4.2,
          5.8,
          2,
          6.9,
          5.5,
          7.2,
          6.6,
          5.1,
          7.2,
          6,
          6.3,
          6.2,
          8.1,
          5.1,
          6,
          5.2,
          5.8,
          4.5,
          5.3,
          5.6,
          7.2,
          9,
          3.2,
          6.3,
          6.3,
          6.4,
          3.9,
          7.5,
          5.9,
          6.1,
          4.3,
          5.1,
          5,
          7.1,
          7.8,
          5.2,
          7.8,
          8,
          3.8,
          7,
          6.3,
          6.7,
          6.4,
          6.3,
          5.9,
          6.7,
          5.3,
          4.9,
          6.3,
          7.2,
          7.8,
          8,
          7.5,
          8,
          6.7,
          7.2,
          5.7,
          8.1,
          7.8,
          7.4,
          7.5,
          6.5,
          6.5,
          6.5,
          6.4,
          6.3,
          7.2,
          5.3,
          6.3,
          6.4,
          5.2,
          6.9,
          7.2,
          3.5,
          6.3,
          6.6,
          4.8,
          6.3,
          6.8,
          5.4,
          5.1,
          5.5,
          5.7,
          7.1,
          5.8,
          6.9,
          6.3,
          5.7,
          5.6,
          5.6,
          8,
          7.5,
          8.3,
          5.3,
          7.1,
          6,
          5.6,
          7.3,
          6.4,
          7.1,
          8.199999999999998,
          5.2,
          8,
          7.6,
          7.8,
          8.3,
          4.6,
          6.9,
          6,
          5.8,
          8.1,
          7.3,
          8.199999999999998,
          6.5,
          6.4,
          6.1,
          6.8,
          6,
          8.199999999999998,
          7.7,
          6.6,
          6.1,
          7.6,
          6.5,
          6.6,
          7.5,
          6.8,
          8.1,
          6.9,
          4,
          6.4,
          7.3,
          6.5,
          7.6,
          7.2,
          7.6,
          8.199999999999998,
          6.7,
          7.6,
          7.9,
          6.3,
          5,
          6.4,
          7.8,
          6.6,
          7.8,
          7.1,
          6.9,
          3.9,
          6.9,
          7,
          6.8,
          6.2,
          8,
          5.3,
          7.6,
          4.8,
          6.9,
          7.2,
          8,
          4.6,
          5.4,
          8,
          6,
          7.2,
          6.7,
          6.8,
          6.8,
          6,
          7,
          7.8,
          7.1,
          6.4,
          5.8,
          7.2,
          7.3,
          6.5,
          7.4,
          5.1,
          7.9,
          7.3,
          6.2,
          7.5,
          5,
          6.4,
          5.4,
          7.1,
          7.3,
          5.3,
          7.7,
          4.5,
          7,
          6.7,
          5.8,
          5.4,
          6.4,
          7.3,
          7.3,
          6.6,
          6.4,
          7.8,
          5.9,
          7.3,
          5.5,
          6.7,
          6.7,
          6.4,
          6.3,
          6.2,
          5.9,
          5.1,
          4.5,
          6.1,
          7.4,
          5.3,
          5.2,
          1.7,
          7.2,
          5.2,
          6.4,
          3.9,
          5.6,
          8.3,
          6.7,
          5.8,
          6.3,
          7.8,
          7.3,
          6.9,
          6.3,
          5.5,
          2.9,
          5.5,
          5.7,
          6.2,
          7.4,
          4.9,
          7,
          2.6,
          6.6,
          7.1,
          6.9,
          8.6,
          3.8,
          4,
          7.4,
          8.5,
          4.8,
          7.1,
          8.6,
          6.1,
          6,
          5.1,
          8.1,
          7.8,
          7.6,
          6.8,
          7,
          7.1,
          5.3,
          7.5,
          7.1,
          7.1,
          5.4,
          7.8,
          6.5,
          7.1,
          6.9,
          6.3,
          7.3,
          7.2,
          8.1,
          5.9,
          6.3,
          6.8,
          6.9,
          8,
          6.6,
          7.3,
          7.1,
          5.5,
          6,
          6.6,
          7.5,
          6.8,
          7,
          7.1,
          6.4,
          6.6,
          6.2,
          7.3,
          8.3,
          6.4,
          6.3,
          6.3,
          5.3,
          6.8,
          8.199999999999998,
          6.1,
          6.3,
          6.1,
          6.2,
          4.3,
          7.7,
          6.5,
          6.7,
          7.3,
          7.6,
          6,
          4.8,
          5.3,
          7.2,
          6.5,
          5.9,
          7.2,
          7,
          5.9,
          7.3,
          7.6,
          6.3,
          5.5,
          8.4,
          6.1,
          6.3,
          5.6,
          5.5,
          5.7,
          6.1,
          4.8,
          5.8,
          4.1,
          5.8,
          6.3,
          5.7,
          8.4,
          6.7,
          7.6,
          6.9,
          5.8,
          7.4,
          6.9,
          6.7,
          5.3,
          7.8,
          6.2,
          5.4,
          4.6,
          5.7,
          6.3,
          6.4,
          7.3,
          5.9,
          6,
          5.5,
          7,
          5.5,
          5.9,
          4.1,
          6.5,
          5.4,
          6,
          6.1,
          5.2,
          7.4,
          5.6,
          7.5,
          8.199999999999998,
          7.4,
          7.9,
          5.7,
          6.7,
          5.7,
          5.3,
          5.9,
          4.5,
          6.1,
          6.6,
          6.6,
          7.5,
          6.8,
          6.8,
          5.8,
          6,
          6.6,
          7.7,
          5.3,
          4.1,
          6.7,
          7.9,
          5.5,
          7.9,
          5.6,
          7.4,
          6.4,
          4.9,
          7.2,
          5.1,
          5.7,
          6.8,
          7.4,
          3.6,
          6.7,
          5.6,
          7.8,
          7.4,
          6.2,
          7.7,
          5.7,
          7.4,
          6.1,
          7.7,
          6.2,
          6.4,
          7.1,
          5.6,
          7.4,
          5.8,
          7.3,
          6,
          5.9,
          6.2,
          6.7,
          5.4,
          5.4,
          7.1,
          6.3,
          7.8,
          5.9,
          6.7,
          7.5,
          7,
          7,
          7.1,
          5.6,
          7.7,
          5.8,
          6.9,
          7.3,
          6.2,
          6.7,
          6,
          5.3,
          7.5,
          6.6,
          4.4,
          7.6,
          7.3,
          6.3,
          5,
          7.4,
          6.1,
          5.8,
          5.5,
          3.7,
          6.3,
          6.1,
          6.5,
          5.9,
          7.9,
          6.2,
          6.6,
          6.1,
          5.8,
          5.1,
          8.1,
          5.8,
          6.6,
          7,
          7.2,
          5.1,
          1.9,
          5,
          6.5,
          7.3,
          6.5,
          2.8,
          7.1,
          2.7,
          7.4,
          7.2,
          7.3,
          5.4,
          6.8,
          6.2,
          6.3,
          5.4,
          6.8,
          5.3,
          6,
          7.8,
          6.7,
          6.6,
          5.9,
          7.5,
          5.4,
          6.8,
          7,
          5,
          7.2,
          5.9,
          7.7,
          7.3,
          5.2,
          6.5,
          5.5,
          7.5,
          4.7,
          7.3,
          6.6,
          3.6,
          5.6,
          7.1,
          7.4,
          5.1,
          6.4,
          7.5,
          6.6,
          4.8,
          6.6,
          4.5,
          4.8,
          6.5,
          5.9,
          5.2,
          5.6,
          4.4,
          6.2,
          7.2,
          6.6,
          4.7,
          6.8,
          5.4,
          6.8,
          6.4,
          8.6,
          5,
          6.6,
          6.4,
          6.7,
          6.1,
          4.5,
          6.5,
          7.3,
          7.4,
          4.8,
          5.7,
          6.1,
          5.5,
          5.5,
          5.5,
          5.5,
          7.2,
          6.4,
          6.7,
          1.5,
          6,
          5.8,
          4.4,
          5.2,
          6.3,
          5.2,
          6.9,
          6.6,
          5.1,
          7.6,
          7.2,
          6.8,
          6.7,
          6.5,
          6.9,
          6.9,
          4.8,
          5.7,
          6.3,
          7.1,
          4.3,
          4.5,
          5,
          6.4,
          6.6,
          3.7,
          4.8,
          2.7,
          5.6,
          6.5,
          5.3,
          4.5,
          5.8,
          6.2,
          5.4,
          6,
          5.1,
          5.4,
          2.1,
          5.1,
          6.3,
          6.1,
          6.2,
          6,
          6,
          5.3,
          8,
          6.9,
          7.8,
          7.7,
          7.4,
          7,
          7.4,
          7.4,
          6.3,
          7.4,
          7.3,
          5,
          7.3,
          6.4,
          6.6,
          7.3,
          7.3,
          5.2,
          7.3,
          6.2,
          7.7,
          6.3,
          6.8,
          6.8,
          7,
          6.3,
          7.9,
          5.5,
          5.9,
          6.5,
          6,
          8,
          5.5,
          6.9,
          6.8,
          6.5,
          7.1,
          6.8,
          6.8,
          7.9,
          6.6,
          7,
          6.9,
          6.2,
          6.4,
          6.9,
          6,
          5.9,
          6.9,
          4.8,
          6.4,
          6.4,
          5.8,
          7.1,
          6.3,
          6.9,
          7.3,
          6.2,
          5.8,
          7.4,
          6.5,
          7.7,
          6.2,
          6.1,
          5.5,
          7.2,
          5.3,
          6.7,
          7,
          5.2,
          5.5,
          5.6,
          7.1,
          7.6,
          8.199999999999998,
          6.1,
          6.2,
          6.7,
          6.4,
          7.4,
          6.5,
          5.8,
          6.2,
          5.7,
          6.2,
          6.1,
          8.1,
          6.2,
          6.4,
          6.5,
          7.4,
          5.7,
          6.4,
          5.4,
          5.5,
          6.6,
          6.6,
          7.5,
          5.6,
          5.3,
          6.7,
          5.8,
          6.8,
          6.8,
          5.9,
          6.2,
          4.5,
          6.3,
          6.5,
          5.9,
          7,
          6.3,
          6.4,
          6.2,
          5.4,
          7.4,
          5.5,
          7.5,
          6.5,
          5,
          5.8,
          7.9,
          6.2,
          6.8,
          6.3,
          4.3,
          4.2,
          6,
          5.9,
          5.7,
          6.3,
          5.9,
          7.4,
          7.5,
          6.9,
          5.2,
          6.6,
          5.5,
          5.8,
          6.6,
          7.9,
          7.6,
          7.4,
          5.3,
          6.1,
          6.5,
          6.2,
          7.9,
          6.2,
          8.199999999999998,
          5.7,
          6.3,
          5.8,
          5.9,
          3.4,
          6.3,
          7.5,
          7.2,
          4.8,
          5.2,
          5.8,
          5.2,
          7.4,
          7.6,
          6,
          5.2,
          6.2,
          6.4,
          7.6,
          5,
          6.6,
          5.4,
          6.7,
          6.1,
          6.2,
          6,
          7.1,
          5.7,
          6.4,
          6.9,
          5.9,
          7.7,
          5.6,
          5.7,
          7,
          5.2,
          6.6,
          6.3,
          6.9,
          6.9,
          6.2,
          7.1,
          5.1,
          7.1,
          6.8,
          6,
          4.2,
          6.1,
          4.8,
          3.2,
          5.9,
          4.4,
          6.1,
          6.7,
          7.1,
          7.4,
          5.2,
          7,
          6.8,
          6.2,
          6.4,
          6.1,
          6.3,
          7.4,
          6.7,
          6.6,
          4.9,
          6.2,
          7.4,
          7.5,
          6.4,
          5.1,
          6.6,
          6.7,
          5.3,
          7,
          8.5,
          7.4,
          8.3,
          7.3,
          6.3,
          5.9,
          4.7,
          6.9,
          6.9,
          8.199999999999998,
          6.6,
          6.9,
          6.8,
          5.8,
          7.6,
          7.9,
          5.4,
          6.4,
          8,
          8,
          7.5,
          3.1,
          7.4,
          7.3,
          5.6,
          7.8,
          5.2,
          5.2,
          5.4,
          7.6,
          8.3,
          6.8,
          7.4,
          6.9,
          6.6,
          5.6,
          6.7,
          5,
          6,
          6.6,
          5.9,
          5.5,
          6,
          7.2,
          5.5,
          8.1,
          5.8,
          5.6,
          7,
          7.5,
          4.5,
          5.5,
          6.2,
          5.5,
          7,
          6.3,
          7.1,
          6.3,
          6.3,
          5.6,
          6.6,
          6.1,
          4,
          5.6,
          7.5,
          5.5,
          5.8,
          5.9,
          7.1,
          5.7,
          7.1,
          7,
          5.9,
          6.2,
          5.7,
          5.3,
          5.2,
          4.4,
          5.4,
          6,
          6.9,
          7.1,
          5.5,
          7.5,
          5.7,
          6.1,
          6.5,
          7.4,
          5.2,
          6.7,
          6,
          7.1,
          5.5,
          7.3,
          3.9,
          5.4,
          7.7,
          5.9,
          5.6,
          6.8,
          6.4,
          5.2,
          5.1,
          8.1,
          5.3,
          6.3,
          6.7,
          7.3,
          6.5,
          6.3,
          7.2,
          5.9,
          5.2,
          5,
          7.6,
          5.7,
          6.4,
          6.4,
          7.4,
          6.4,
          5.7,
          5.2,
          6.7,
          7.3,
          5.8,
          6.3,
          7.2,
          4.6,
          6.5,
          6.8,
          5.4,
          7,
          6.8,
          6.6,
          7.2,
          5.9,
          6.3,
          6.5,
          7.7,
          7.9,
          6.4,
          7.2,
          6.2,
          5.5,
          5.4,
          5.7,
          5.8,
          7.2,
          6.9,
          3,
          7,
          4,
          7.5,
          6.8,
          5.3,
          6.2,
          5.8,
          4.2,
          5.8,
          7.5,
          6.4,
          5.7,
          5.9,
          6,
          7.7,
          5.6,
          4.6,
          6.2,
          5.8,
          6.2,
          5.2,
          7.2,
          6.6,
          4.6,
          4.8,
          3.6,
          7,
          7,
          6.5,
          7.5,
          5.7,
          5.7,
          5.9,
          7,
          7.4,
          6.2,
          6,
          4.5,
          2.3,
          6.2,
          5.9,
          7.5,
          5.4,
          6.4,
          6.1,
          3.2,
          6.7,
          5.6,
          7.1,
          7.3,
          6.5,
          5.7,
          5.3,
          4.4,
          7.3,
          5.5,
          4.4,
          5,
          7.7,
          7.6,
          6.7,
          6.6,
          5.4,
          7.9,
          6.3,
          6.8,
          6.5,
          7.3,
          6.6,
          6.9,
          6.2,
          6.9,
          7.5,
          6.5,
          7,
          5.1,
          5.8,
          7.9,
          6.3,
          6.6,
          5.5,
          6,
          6.4,
          5.8,
          4.3,
          7.6,
          4.9,
          6.2,
          5.5,
          6.4,
          6.2,
          4.5,
          6.9,
          7.1,
          7.2,
          6.4,
          6.5,
          5.6,
          7.2,
          7.2,
          5.9,
          7.1,
          6.6,
          5.7,
          6.2,
          6.5,
          8,
          6.1,
          5.8,
          5.9,
          7.1,
          6.8,
          6.4,
          7.1,
          6.5,
          5.4,
          6,
          6.2,
          6.2,
          4.2,
          5.4,
          6,
          6.6,
          7.2,
          7.3,
          5.8,
          5.5,
          8.1,
          6.5,
          3.9,
          4.7,
          6,
          6.7,
          7.3,
          7.3,
          6.7,
          8.199999999999998,
          6.1,
          8.1,
          6.3,
          2.3,
          5.3,
          2.2,
          6.5,
          6.9,
          6.7,
          5.9,
          6.5,
          7.3,
          7.2,
          4.6,
          6.1,
          7.7,
          5.4,
          8.1,
          6.5,
          5.1,
          5,
          5.8,
          7.1,
          6.7,
          5.2,
          5.7,
          3.6,
          6.3,
          8.199999999999998,
          4.6,
          6.3,
          7.6,
          7.5,
          5.7,
          6.2,
          7.2,
          7.6,
          5.1,
          3.7,
          7.2,
          9,
          4.8,
          7.3,
          5.7,
          6.9,
          5.1,
          6.5,
          3.5,
          4.5,
          5.9,
          5.7,
          5.8,
          5.4,
          7.2,
          6.7,
          5.9,
          7.6,
          7.1,
          7,
          4.7,
          3.9,
          5,
          6.9,
          3.9,
          6,
          6.2,
          6.1,
          6.3,
          7.7,
          6.1,
          4.7,
          5.5,
          5.2,
          6.1,
          6.1,
          4.8,
          6.2,
          6.5,
          6.6,
          5,
          7.2,
          7.9,
          7.5,
          6.9,
          7.8,
          7.9,
          6.9,
          6.4,
          6.1,
          6.6,
          5.8,
          6.7,
          6.6,
          5.4,
          6.6,
          5.9,
          7.4,
          6.4,
          3.9,
          4.7,
          6.2,
          7.4,
          5.6,
          8,
          6.7,
          5.5,
          5.6,
          7.1,
          6.4,
          6.1,
          4.6,
          6.4,
          6.2,
          6.6,
          6.6,
          7.3,
          4.1,
          5.6,
          6.8,
          7.3,
          4.9,
          5.4,
          5.2,
          6.9,
          7.8,
          4.3,
          6.8,
          6.6,
          6.8,
          7.2,
          6.1,
          4.5,
          6,
          6.9,
          6.8,
          6.5,
          4.9,
          5.8,
          6.5,
          8.5,
          7,
          6.8,
          6.5,
          5.7,
          5.7,
          5.4,
          5.4,
          7.6,
          6.5,
          7.1,
          6.2,
          5.5,
          6.3,
          6.7,
          4.4,
          4.4,
          4.3,
          6.6,
          5.7,
          4.7,
          5.9,
          4.7,
          6.2,
          4.7,
          5.6,
          6.8,
          4.9,
          7.2,
          6.6,
          5.2,
          6.7,
          5.7,
          7.4,
          5.8,
          6.2,
          5.7,
          6,
          5.9,
          7.5,
          5.8,
          6.3,
          6.9,
          5.6,
          6,
          3.4,
          7.3,
          4.1,
          6.1,
          5.5,
          6.6,
          7.3,
          5.4,
          3.6,
          6.3,
          6.1,
          5.2,
          7.1,
          6.7,
          6.2,
          7.4,
          3.7,
          5.6,
          5.7,
          5.6,
          6.5,
          6.1,
          7.7,
          3.6,
          7.3,
          6.2,
          7.5,
          5.9,
          5.8,
          6.4,
          5.6,
          6.1,
          6.8,
          3.4,
          3.8,
          6.8,
          6.5,
          4,
          6.1,
          6.6,
          5.7,
          7.4,
          8.6,
          5.1,
          4.8,
          4,
          6.2,
          5.5,
          7.3,
          4.9,
          6.6,
          5.9,
          6.7,
          6.6,
          6,
          6.3,
          6.3,
          4.6,
          6.4,
          6.8,
          5,
          4.4,
          4.8,
          6.3,
          7.6,
          5.2,
          7.6,
          6.3,
          7.2,
          7.4,
          5.1,
          7.8,
          5.1,
          5.7,
          5.9,
          5.5,
          7,
          7.2,
          4.2,
          6.6,
          6.2,
          6.5,
          5.3,
          4.2,
          5.3,
          6.3,
          6.9,
          5.1,
          6.4,
          7.9,
          6.8,
          6.1,
          6.8,
          4.6,
          4.6,
          5.8,
          6.4,
          5.5,
          6.7,
          6.4,
          4.9,
          6.9,
          4.3,
          7,
          7.1,
          7,
          5.4,
          5.8,
          7,
          6.4,
          6.3,
          5.6,
          4,
          4.4,
          5.9,
          7.2,
          5.1,
          6.3,
          5.4,
          5.7,
          5.4,
          5.3,
          4.5,
          6.2,
          7.4,
          6.7,
          6.9,
          7,
          7.8,
          5.7,
          7.4,
          3.3,
          6.1,
          6.7,
          7.3,
          6.6,
          7.1,
          8.1,
          7.8,
          6.2,
          6.7,
          6.6,
          7.9,
          7.7,
          7.3,
          6.5,
          7.1,
          6.2,
          7,
          7.6,
          7.4,
          6.8,
          6.1,
          6.3,
          6.5,
          7,
          7.1,
          6.8,
          6.6,
          6.2,
          6.4,
          6,
          5.6,
          7.3,
          6.7,
          6.6,
          6.8,
          6.7,
          5.6,
          6.7,
          6.3,
          5.4,
          6.9,
          5.2,
          7.2,
          7.2,
          6.3,
          7,
          6.1,
          2.9,
          6.5,
          5.5,
          7.2,
          6,
          5.4,
          6,
          7.2,
          6.4,
          6.5,
          6.9,
          7.1,
          8.199999999999998,
          6.9,
          5.4,
          5.5,
          6.9,
          6.3,
          6.1,
          5.9,
          5.2,
          6.2,
          7.1,
          6.2,
          5.8,
          5.7,
          9,
          4.7,
          6.3,
          6.3,
          7.6,
          4.7,
          6.5,
          5.7,
          6.4,
          5.3,
          6.4,
          6.6,
          7.7,
          7.4,
          5.9,
          5.4,
          6.1,
          6.5,
          6.9,
          5.3,
          6.8,
          6.7,
          7.7,
          7.6,
          5.6,
          6.2,
          3.7,
          4.7,
          7.1,
          7.4,
          7,
          6.6,
          5,
          6.7,
          5.4,
          5.3,
          7.4,
          7.2,
          5.9,
          5.8,
          7.5,
          8.1,
          6.6,
          6.3,
          5.6,
          4.3,
          7.6,
          6.3,
          5.7,
          5.7,
          7.5,
          6.5,
          7.8,
          6.3,
          5.9,
          7.7,
          5.8,
          8.1,
          8,
          4.9,
          6.8,
          6.7,
          6.1,
          4.7,
          7.6,
          8.3,
          7.1,
          4.3,
          5.7,
          6.9,
          5.3,
          6.8,
          6.4,
          6.4,
          5.5,
          6,
          5.2,
          4.4,
          5.8,
          7.3,
          5.2,
          4.4,
          7.5,
          7,
          5.1,
          5.7,
          5.2,
          7,
          7.4,
          8.4,
          5.8,
          6,
          7.2,
          5.6,
          6.3,
          1.7,
          7.4,
          5.2,
          6.2,
          6.8,
          6.5,
          7.4,
          6.2,
          6.7,
          7.1,
          5.9,
          6.5,
          5.5,
          6.5,
          6.7,
          5.8,
          3,
          5.8,
          5.4,
          7.6,
          4.4,
          6,
          6.9,
          5.7,
          6.8,
          6.6,
          7.7,
          3.3,
          6.3,
          7.3,
          5.7,
          4.7,
          6.8,
          5.8,
          6,
          8.199999999999998,
          5.8,
          6.2,
          6.8,
          6.1,
          5.4,
          6.8,
          5.3,
          7.4,
          7.6,
          5.6,
          7.4,
          7.2,
          6.1,
          7,
          7.1,
          6.1,
          5.8,
          6.9,
          7.7,
          7.2,
          7.4,
          5.4,
          6.1,
          5.3,
          6.5,
          6.5,
          5.3,
          5.6,
          6.8,
          5.7,
          5.5,
          6.1,
          6.4,
          5.6,
          7.6,
          5.3,
          7.7,
          6.3,
          7.8,
          5.9,
          5.6,
          4.8,
          4.8,
          6.6,
          7.1,
          7.2,
          7.3,
          7.3,
          5.2,
          6.9,
          5.4,
          7.2,
          6.6,
          6.8,
          7.1,
          5.5,
          7.1,
          6.3,
          7.8,
          7.4,
          6.1,
          6.2,
          6.7,
          5.7,
          7.2,
          5.5,
          7.8,
          7.8,
          6.6,
          4.1,
          7.3,
          6.9,
          5.8,
          5.9,
          6.4,
          3.4,
          5.6,
          3.7,
          5.4,
          5.1,
          5.8,
          6.1,
          7,
          7.4,
          7.2,
          4.4,
          5,
          7,
          8.6,
          5.9,
          7.5,
          8.199999999999998,
          5.8,
          5.3,
          5.6,
          3.4,
          6.1,
          6.2,
          7.4,
          5.5,
          4.8,
          6.5,
          6.3,
          5.7,
          6.9,
          6.5,
          5.1,
          6.9,
          7.3,
          2.7,
          6.2,
          6.6,
          6.9,
          7,
          7.8,
          5.6,
          6.9,
          7.1,
          5.3,
          7.5,
          5.4,
          6.7,
          5.8,
          5.1,
          6.7,
          7.5,
          8.4,
          5.9,
          4.8,
          6.6,
          7.4,
          6.2,
          5,
          6.5,
          7.4,
          6.2,
          5.5,
          7.2,
          5.3,
          5.5,
          7,
          7,
          5.3,
          7.1,
          6.9,
          5.8,
          4.3,
          5.8,
          7.2,
          8.1,
          6.1,
          7.3,
          4.8,
          6.6,
          7.4,
          5.8,
          5.6,
          5.6,
          5.8,
          4.6,
          5.4,
          6.7,
          6,
          6,
          6.5,
          5.2,
          6.4,
          7.1,
          5.8,
          4.5,
          6.4,
          6.4,
          6,
          5.5,
          5.3,
          6.2,
          3.7,
          6.6,
          7.4,
          6.3,
          6.2,
          6.2,
          6,
          6.9,
          5.8,
          5.8,
          3.9,
          5.9,
          7.2,
          7.2,
          4.9,
          7.1,
          6.5,
          4.5,
          7.2,
          7,
          5.2,
          5.4,
          5.6,
          5.6,
          4.9,
          7,
          6.1,
          6.8,
          7.3,
          7.1,
          5.1,
          5.5,
          6.3,
          5.2,
          7.7,
          4.3,
          5.8,
          7,
          6.4,
          5.4,
          3.8,
          6.1,
          7.2,
          2.6,
          7.5,
          6.8,
          7.8,
          7.5,
          5.6,
          8.1,
          6.8,
          3.4,
          6.9,
          5.1,
          6.5,
          6.4,
          5.9,
          5.3,
          2.8,
          7.5,
          5.9,
          6.3,
          5.9,
          6.4,
          6,
          4.6,
          4.6,
          8.5,
          6.3,
          7.2,
          5.5,
          6.1,
          6.7,
          7.1,
          5.4,
          6.8,
          4.9,
          6.7,
          6.5,
          7,
          2.4,
          5.7,
          5.7,
          7.5,
          6.7,
          6.4,
          7.2,
          5.4,
          7.6,
          5.2,
          5.1,
          2.7,
          7.2,
          5.8,
          5.2,
          4.5,
          7.6,
          5.3,
          4.9,
          4.6,
          3.4,
          5.6,
          5,
          7.6,
          8.199999999999998,
          6.5,
          7.3,
          6.8,
          5.1,
          6.3,
          5.6,
          8.4,
          7.4,
          3.8,
          5,
          4.8,
          5.8,
          5.9,
          6,
          4.9,
          6.5,
          3.9,
          5.8,
          5.1,
          6.5,
          5.2,
          6.3,
          6.6,
          4.3,
          4.9,
          7.2,
          4.8,
          6.3,
          5.3,
          7.3,
          7.2,
          3.3,
          6.6,
          8.699999999999998,
          5.9,
          4.5,
          6.8,
          6.1,
          6.2,
          7.3,
          5.7,
          6.5,
          3.5,
          5.6,
          6.9,
          5.3,
          6.1,
          5.6,
          8.199999999999998,
          5.6,
          5,
          7.4,
          5,
          6.3,
          3.4,
          7.1,
          6,
          5.2,
          5.3,
          4.6,
          6.4,
          7.2,
          6.7,
          4.7,
          6.6,
          7.2,
          7,
          6.6,
          2.6,
          6,
          5.1,
          6.4,
          6.4,
          6.5,
          7.5,
          6.4,
          6.6,
          7.2,
          3.6,
          6.5,
          6.9,
          7.4,
          7.6,
          6.2,
          5.4,
          6.2,
          5.7,
          5.6,
          5.7,
          6.4,
          7,
          6.5,
          6.6,
          7.1,
          5.5,
          6.1,
          7.3,
          6.3,
          5.9,
          7.1,
          5.1,
          6.8,
          5.1,
          6.7,
          5.5,
          6.2,
          5.9,
          6.7,
          6.9,
          7.6,
          4.7,
          4.6,
          7,
          3.9,
          6.3,
          3.8,
          6.8,
          7.1,
          4,
          3,
          3.1,
          7,
          3.7,
          4.7,
          6.2,
          5.7,
          4.3,
          7.1,
          5.3,
          6.6,
          5.6,
          7.3,
          6,
          5.8,
          6.1,
          4.3,
          6.4,
          5.8,
          8,
          7,
          6.4,
          4.3,
          3.8,
          4.8,
          5.5,
          6.2,
          6.9,
          7.2,
          6.5,
          5.8,
          6,
          3.5,
          5.5,
          5.4,
          8.1,
          7.2,
          6.9,
          5.7,
          6.9,
          7.2,
          6.5,
          6.2,
          6.3,
          5,
          6.4,
          8.8,
          6.2,
          8,
          5.8,
          7.5,
          5.9,
          6.3,
          4.8,
          4.7,
          6,
          7.2,
          6.7,
          6,
          5.1,
          6.1,
          7,
          6.2,
          6.4,
          5.7,
          5.6,
          5.5,
          7.2,
          6,
          5.5,
          4.4,
          4.4,
          5.9,
          6.2,
          5.2,
          3.2,
          7.8,
          7.2,
          6.3,
          7.1,
          5.8,
          6.7,
          6.8,
          3.8,
          7.3,
          6.7,
          5.3,
          6.5,
          5.2,
          8.3,
          5.7,
          5.2,
          5.8,
          5.8,
          4,
          7.7,
          4.7,
          5.3,
          7.8,
          6.8,
          6.1,
          6.8,
          4,
          7,
          5.8,
          5,
          7.5,
          5.7,
          6.2,
          6.8,
          6.8,
          4.5,
          6.2,
          6.9,
          3,
          6.5,
          5.9,
          6.7,
          6.2,
          5.5,
          7.2,
          4.2,
          6.8,
          6.1,
          4.6,
          7.5,
          7.3,
          6.6,
          5.3,
          7.2,
          2.7,
          7,
          6.1,
          6.7,
          3.2,
          5.6,
          4.9,
          4.5,
          7.4,
          6.4,
          7,
          6.4,
          7,
          6.9,
          7.6,
          5.5,
          5.9,
          4.3,
          7.9,
          6.7,
          8.5,
          4.6,
          6.5,
          2.9,
          4.9,
          7.6,
          6.5,
          6.3,
          7.7,
          6.8,
          3.7,
          6.7,
          8.1,
          8.4,
          8.3,
          6.9,
          5.8,
          5.5,
          7.4,
          5.9,
          5.3,
          3.3,
          5.5,
          7.4,
          6.2,
          8.1,
          7.8,
          4.2,
          7.1,
          7,
          5.5,
          4.7,
          6.4,
          6.2,
          6.5,
          6.2,
          7,
          6.6,
          5.7,
          6.1,
          5.9,
          5.3,
          5.6,
          5.9,
          7.2,
          6.4,
          4.8,
          4.7,
          7.7,
          6.9,
          6.6,
          6.6,
          6.4,
          6.9,
          5.2,
          7.1,
          5.9,
          7.2,
          3.7,
          5,
          5.9,
          7,
          5.9,
          5,
          6.3,
          7.2,
          6.5,
          6.2,
          5.1,
          7,
          6.3,
          6.6,
          6.9,
          6.6,
          6.1,
          5.2,
          4.5,
          5.8,
          5.9,
          5,
          5.6,
          2.5,
          8.4,
          5.1,
          7,
          6.6,
          7.7,
          6.2,
          6.3,
          7.5,
          5.4,
          4.9,
          7.7,
          5.9,
          7.8,
          7.4,
          6.8,
          6.2,
          7.4,
          6.7,
          6.3,
          6.1,
          7.1,
          6.8,
          5.8,
          7.8,
          4.7,
          6.8,
          5.9,
          6.9,
          2.8,
          5.7,
          2.6,
          7.1,
          6.4,
          5.5,
          6.4,
          4.4,
          6.7,
          6.9,
          6.9,
          4.7,
          6.7,
          4.7,
          5.6,
          5.7,
          7.5,
          7.2,
          7.3,
          6.2,
          6.2,
          5.6,
          6.5,
          6.7,
          2.5,
          7.6,
          6.3,
          8,
          6.5,
          6.5,
          6.8,
          7.3,
          5.6,
          7,
          6,
          5.4,
          7.1,
          5.7,
          4.3,
          7.4,
          7.1,
          6.3,
          5.7,
          7.2,
          5.8,
          6.1,
          6.8,
          4.8,
          6.7,
          7.4,
          6.4,
          6,
          5.5,
          7.8,
          6.9,
          6.9,
          5.7,
          7.8,
          8.699999999999998,
          6.5,
          7.3,
          7.9,
          5.4,
          6.3,
          6.2,
          6.8,
          6.2,
          5.7,
          6.2,
          5,
          5.3,
          5.3,
          5.7,
          6.9,
          5.8,
          6,
          7,
          4.6,
          5.3,
          6.2,
          6.4,
          4.6,
          7.1,
          5.3,
          7.3,
          7.2,
          7.3,
          4.8,
          4.9,
          6.1,
          6.8,
          6.3,
          5.3,
          6.8,
          2.5,
          6.8,
          7.2,
          7.5,
          6.7,
          5.6,
          7.2,
          6.2,
          4,
          5.4,
          6.5,
          5.6,
          7,
          3,
          6.3,
          5.6,
          5.3,
          4.5,
          7.2,
          6.1,
          6.5,
          6.6,
          6,
          8,
          5.7,
          6.9,
          6.8,
          4.6,
          6.7,
          6,
          7.1,
          4.8,
          5.8,
          6.6,
          7.1,
          8.1,
          6.6,
          6.7,
          7.4,
          6.4,
          6.5,
          6.5,
          7.3,
          5.6,
          5.5,
          5.6,
          5.6,
          7.1,
          7.4,
          5.2,
          8,
          5.4,
          5.6,
          6.2,
          5.3,
          6.3,
          6.8,
          6.2,
          5.3,
          7.7,
          5.5,
          5.8,
          7.2,
          6.7,
          5.5,
          5.7,
          7.4,
          7.2,
          6.8,
          6.6,
          7.1,
          5.6,
          5.2,
          3.9,
          3.6,
          7,
          6.9,
          7.1,
          6.1,
          7.3,
          8.1,
          6.1,
          6.3,
          4.3,
          6.7,
          3.9,
          6.6,
          7.5,
          6.3,
          6.1,
          7.7,
          4.2,
          4.6,
          6.9,
          6.4,
          5.4,
          4.3,
          6.9,
          7.3,
          6.8,
          6.5,
          6.2,
          6.7,
          4.7,
          5.7,
          4.5,
          4.4,
          6.7,
          5.5,
          5.4,
          6.2,
          6.6,
          7.1,
          7.3,
          6.7,
          6.7,
          5.5,
          6.3,
          6.4,
          5.4,
          5.9,
          4.7,
          7,
          7,
          7.2,
          6.3,
          4.3,
          7.5,
          7.7,
          6.9,
          5.5,
          6.5,
          6.6,
          5.5,
          7.5,
          5.1,
          5.7,
          6.6,
          6.2,
          7,
          6.2,
          5.3,
          6.6,
          6.8,
          4.7,
          5.5,
          5.5,
          4.8,
          6.6,
          4.2,
          5.4,
          6.3,
          7.5,
          7.2,
          5.3,
          7.8,
          6.4,
          5.1,
          5.6,
          6.3,
          6.1,
          6.1,
          6.5,
          4.4,
          7,
          7,
          7.3,
          4.3,
          6.9,
          7.2,
          7.7,
          5.4,
          6.2,
          6,
          5.7,
          6.3,
          5.2,
          5.9,
          6.7,
          7.6,
          7.7,
          4.7,
          6.1,
          5.2,
          5.6,
          6.5,
          4.3,
          5,
          5.5,
          5.5,
          4.8,
          7.8,
          7.6,
          5.4,
          5.6,
          5.5,
          6.1,
          4.4,
          7.9,
          6,
          6.4,
          6.8,
          6.5,
          5.1,
          5.4,
          5.4,
          5.7,
          6.8,
          4.5,
          6.3,
          7,
          6.1,
          5.1,
          5.5,
          6.5,
          7.5,
          5.5,
          6.1,
          6.9,
          5.9,
          6.9,
          6.8,
          5.2,
          5.8,
          5.1,
          6.4,
          4.7,
          6.4,
          5.5,
          7,
          6.8,
          6.7,
          6.3,
          8.6,
          6.5,
          6.2,
          6.5,
          6.5,
          5.7,
          6.4,
          6.5,
          7,
          6.7,
          2.5,
          3.4,
          6.7,
          7,
          4.4,
          3.9,
          5.3,
          6.2,
          5.5,
          6.7,
          6.6,
          8.3,
          7,
          6.9,
          5.7,
          5.7,
          5.5,
          6.3,
          6.2,
          6.4,
          6.4,
          6.3,
          6,
          5.8,
          5.2,
          4.7,
          5.3,
          7.1,
          5.8,
          5.1,
          4.4,
          7.1,
          5.5,
          6.9,
          6.9,
          6.5,
          6.1,
          5,
          5.9,
          5.7,
          4.6,
          6.7,
          6.9,
          7.4,
          4.5,
          6.7,
          5.3,
          6.5,
          4.4,
          5.3,
          7.2,
          5.3,
          6.6,
          7.8,
          6,
          5,
          6.1,
          3.6,
          7.2,
          5.6,
          5.6,
          4.2,
          5.3,
          5.3,
          6.8,
          4,
          6.4,
          5.3,
          7.5,
          6.6,
          6.9,
          3.7,
          6.1,
          5.1,
          4.4,
          8,
          5.2,
          4.9,
          6.7,
          6.6,
          5.8,
          5.1,
          4.2,
          6.2,
          5.9,
          8.1,
          3.9,
          6.4,
          7.4,
          7.7,
          5.7,
          5.8,
          7.5,
          6.5,
          4.4,
          4.4,
          5.6,
          7,
          7.1,
          6.6,
          5.8,
          6.6,
          7.2,
          5.2,
          3,
          5.3,
          6.3,
          5.9,
          7.1,
          6.1,
          6.2,
          3.9,
          5.4,
          6.4,
          7,
          5.3,
          4.4,
          5.8,
          3.7,
          6.1,
          5.7,
          7,
          5,
          6.7,
          4.3,
          3.8,
          6,
          6.8,
          5.4,
          6.9,
          5.7,
          5.2,
          4.9,
          5.4,
          5.6,
          5,
          3.4,
          6.2,
          5,
          4.8,
          3.8,
          4.7,
          3.3,
          4.3,
          5.6,
          4.6,
          5.5,
          6.6,
          3.2,
          6,
          7.8,
          7.1,
          4.9,
          2.3,
          4.1,
          7,
          5.7,
          6.9,
          5.8,
          5.4,
          5.9,
          6.1,
          4.2,
          4.5,
          4.9,
          6.2,
          7.2,
          2.2,
          5.8,
          6.9,
          6.5,
          6.2
         ],
         "yaxis": "y"
        }
       ],
       "layout": {
        "coloraxis": {
         "colorbar": {
          "title": {
           "text": "release_year"
          }
         },
         "colorscale": [
          [
           0,
           "#0d0887"
          ],
          [
           0.1111111111111111,
           "#46039f"
          ],
          [
           0.2222222222222222,
           "#7201a8"
          ],
          [
           0.3333333333333333,
           "#9c179e"
          ],
          [
           0.4444444444444444,
           "#bd3786"
          ],
          [
           0.5555555555555556,
           "#d8576b"
          ],
          [
           0.6666666666666666,
           "#ed7953"
          ],
          [
           0.7777777777777778,
           "#fb9f3a"
          ],
          [
           0.8888888888888888,
           "#fdca26"
          ],
          [
           1,
           "#f0f921"
          ]
         ]
        },
        "legend": {
         "itemsizing": "constant",
         "tracegroupgap": 0
        },
        "template": {
         "data": {
          "bar": [
           {
            "error_x": {
             "color": "#2a3f5f"
            },
            "error_y": {
             "color": "#2a3f5f"
            },
            "marker": {
             "line": {
              "color": "#E5ECF6",
              "width": 0.5
             },
             "pattern": {
              "fillmode": "overlay",
              "size": 10,
              "solidity": 0.2
             }
            },
            "type": "bar"
           }
          ],
          "barpolar": [
           {
            "marker": {
             "line": {
              "color": "#E5ECF6",
              "width": 0.5
             },
             "pattern": {
              "fillmode": "overlay",
              "size": 10,
              "solidity": 0.2
             }
            },
            "type": "barpolar"
           }
          ],
          "carpet": [
           {
            "aaxis": {
             "endlinecolor": "#2a3f5f",
             "gridcolor": "white",
             "linecolor": "white",
             "minorgridcolor": "white",
             "startlinecolor": "#2a3f5f"
            },
            "baxis": {
             "endlinecolor": "#2a3f5f",
             "gridcolor": "white",
             "linecolor": "white",
             "minorgridcolor": "white",
             "startlinecolor": "#2a3f5f"
            },
            "type": "carpet"
           }
          ],
          "choropleth": [
           {
            "colorbar": {
             "outlinewidth": 0,
             "ticks": ""
            },
            "type": "choropleth"
           }
          ],
          "contour": [
           {
            "colorbar": {
             "outlinewidth": 0,
             "ticks": ""
            },
            "colorscale": [
             [
              0,
              "#0d0887"
             ],
             [
              0.1111111111111111,
              "#46039f"
             ],
             [
              0.2222222222222222,
              "#7201a8"
             ],
             [
              0.3333333333333333,
              "#9c179e"
             ],
             [
              0.4444444444444444,
              "#bd3786"
             ],
             [
              0.5555555555555556,
              "#d8576b"
             ],
             [
              0.6666666666666666,
              "#ed7953"
             ],
             [
              0.7777777777777778,
              "#fb9f3a"
             ],
             [
              0.8888888888888888,
              "#fdca26"
             ],
             [
              1,
              "#f0f921"
             ]
            ],
            "type": "contour"
           }
          ],
          "contourcarpet": [
           {
            "colorbar": {
             "outlinewidth": 0,
             "ticks": ""
            },
            "type": "contourcarpet"
           }
          ],
          "heatmap": [
           {
            "colorbar": {
             "outlinewidth": 0,
             "ticks": ""
            },
            "colorscale": [
             [
              0,
              "#0d0887"
             ],
             [
              0.1111111111111111,
              "#46039f"
             ],
             [
              0.2222222222222222,
              "#7201a8"
             ],
             [
              0.3333333333333333,
              "#9c179e"
             ],
             [
              0.4444444444444444,
              "#bd3786"
             ],
             [
              0.5555555555555556,
              "#d8576b"
             ],
             [
              0.6666666666666666,
              "#ed7953"
             ],
             [
              0.7777777777777778,
              "#fb9f3a"
             ],
             [
              0.8888888888888888,
              "#fdca26"
             ],
             [
              1,
              "#f0f921"
             ]
            ],
            "type": "heatmap"
           }
          ],
          "heatmapgl": [
           {
            "colorbar": {
             "outlinewidth": 0,
             "ticks": ""
            },
            "colorscale": [
             [
              0,
              "#0d0887"
             ],
             [
              0.1111111111111111,
              "#46039f"
             ],
             [
              0.2222222222222222,
              "#7201a8"
             ],
             [
              0.3333333333333333,
              "#9c179e"
             ],
             [
              0.4444444444444444,
              "#bd3786"
             ],
             [
              0.5555555555555556,
              "#d8576b"
             ],
             [
              0.6666666666666666,
              "#ed7953"
             ],
             [
              0.7777777777777778,
              "#fb9f3a"
             ],
             [
              0.8888888888888888,
              "#fdca26"
             ],
             [
              1,
              "#f0f921"
             ]
            ],
            "type": "heatmapgl"
           }
          ],
          "histogram": [
           {
            "marker": {
             "pattern": {
              "fillmode": "overlay",
              "size": 10,
              "solidity": 0.2
             }
            },
            "type": "histogram"
           }
          ],
          "histogram2d": [
           {
            "colorbar": {
             "outlinewidth": 0,
             "ticks": ""
            },
            "colorscale": [
             [
              0,
              "#0d0887"
             ],
             [
              0.1111111111111111,
              "#46039f"
             ],
             [
              0.2222222222222222,
              "#7201a8"
             ],
             [
              0.3333333333333333,
              "#9c179e"
             ],
             [
              0.4444444444444444,
              "#bd3786"
             ],
             [
              0.5555555555555556,
              "#d8576b"
             ],
             [
              0.6666666666666666,
              "#ed7953"
             ],
             [
              0.7777777777777778,
              "#fb9f3a"
             ],
             [
              0.8888888888888888,
              "#fdca26"
             ],
             [
              1,
              "#f0f921"
             ]
            ],
            "type": "histogram2d"
           }
          ],
          "histogram2dcontour": [
           {
            "colorbar": {
             "outlinewidth": 0,
             "ticks": ""
            },
            "colorscale": [
             [
              0,
              "#0d0887"
             ],
             [
              0.1111111111111111,
              "#46039f"
             ],
             [
              0.2222222222222222,
              "#7201a8"
             ],
             [
              0.3333333333333333,
              "#9c179e"
             ],
             [
              0.4444444444444444,
              "#bd3786"
             ],
             [
              0.5555555555555556,
              "#d8576b"
             ],
             [
              0.6666666666666666,
              "#ed7953"
             ],
             [
              0.7777777777777778,
              "#fb9f3a"
             ],
             [
              0.8888888888888888,
              "#fdca26"
             ],
             [
              1,
              "#f0f921"
             ]
            ],
            "type": "histogram2dcontour"
           }
          ],
          "mesh3d": [
           {
            "colorbar": {
             "outlinewidth": 0,
             "ticks": ""
            },
            "type": "mesh3d"
           }
          ],
          "parcoords": [
           {
            "line": {
             "colorbar": {
              "outlinewidth": 0,
              "ticks": ""
             }
            },
            "type": "parcoords"
           }
          ],
          "pie": [
           {
            "automargin": true,
            "type": "pie"
           }
          ],
          "scatter": [
           {
            "fillpattern": {
             "fillmode": "overlay",
             "size": 10,
             "solidity": 0.2
            },
            "type": "scatter"
           }
          ],
          "scatter3d": [
           {
            "line": {
             "colorbar": {
              "outlinewidth": 0,
              "ticks": ""
             }
            },
            "marker": {
             "colorbar": {
              "outlinewidth": 0,
              "ticks": ""
             }
            },
            "type": "scatter3d"
           }
          ],
          "scattercarpet": [
           {
            "marker": {
             "colorbar": {
              "outlinewidth": 0,
              "ticks": ""
             }
            },
            "type": "scattercarpet"
           }
          ],
          "scattergeo": [
           {
            "marker": {
             "colorbar": {
              "outlinewidth": 0,
              "ticks": ""
             }
            },
            "type": "scattergeo"
           }
          ],
          "scattergl": [
           {
            "marker": {
             "colorbar": {
              "outlinewidth": 0,
              "ticks": ""
             }
            },
            "type": "scattergl"
           }
          ],
          "scattermapbox": [
           {
            "marker": {
             "colorbar": {
              "outlinewidth": 0,
              "ticks": ""
             }
            },
            "type": "scattermapbox"
           }
          ],
          "scatterpolar": [
           {
            "marker": {
             "colorbar": {
              "outlinewidth": 0,
              "ticks": ""
             }
            },
            "type": "scatterpolar"
           }
          ],
          "scatterpolargl": [
           {
            "marker": {
             "colorbar": {
              "outlinewidth": 0,
              "ticks": ""
             }
            },
            "type": "scatterpolargl"
           }
          ],
          "scatterternary": [
           {
            "marker": {
             "colorbar": {
              "outlinewidth": 0,
              "ticks": ""
             }
            },
            "type": "scatterternary"
           }
          ],
          "surface": [
           {
            "colorbar": {
             "outlinewidth": 0,
             "ticks": ""
            },
            "colorscale": [
             [
              0,
              "#0d0887"
             ],
             [
              0.1111111111111111,
              "#46039f"
             ],
             [
              0.2222222222222222,
              "#7201a8"
             ],
             [
              0.3333333333333333,
              "#9c179e"
             ],
             [
              0.4444444444444444,
              "#bd3786"
             ],
             [
              0.5555555555555556,
              "#d8576b"
             ],
             [
              0.6666666666666666,
              "#ed7953"
             ],
             [
              0.7777777777777778,
              "#fb9f3a"
             ],
             [
              0.8888888888888888,
              "#fdca26"
             ],
             [
              1,
              "#f0f921"
             ]
            ],
            "type": "surface"
           }
          ],
          "table": [
           {
            "cells": {
             "fill": {
              "color": "#EBF0F8"
             },
             "line": {
              "color": "white"
             }
            },
            "header": {
             "fill": {
              "color": "#C8D4E3"
             },
             "line": {
              "color": "white"
             }
            },
            "type": "table"
           }
          ]
         },
         "layout": {
          "annotationdefaults": {
           "arrowcolor": "#2a3f5f",
           "arrowhead": 0,
           "arrowwidth": 1
          },
          "autotypenumbers": "strict",
          "coloraxis": {
           "colorbar": {
            "outlinewidth": 0,
            "ticks": ""
           }
          },
          "colorscale": {
           "diverging": [
            [
             0,
             "#8e0152"
            ],
            [
             0.1,
             "#c51b7d"
            ],
            [
             0.2,
             "#de77ae"
            ],
            [
             0.3,
             "#f1b6da"
            ],
            [
             0.4,
             "#fde0ef"
            ],
            [
             0.5,
             "#f7f7f7"
            ],
            [
             0.6,
             "#e6f5d0"
            ],
            [
             0.7,
             "#b8e186"
            ],
            [
             0.8,
             "#7fbc41"
            ],
            [
             0.9,
             "#4d9221"
            ],
            [
             1,
             "#276419"
            ]
           ],
           "sequential": [
            [
             0,
             "#0d0887"
            ],
            [
             0.1111111111111111,
             "#46039f"
            ],
            [
             0.2222222222222222,
             "#7201a8"
            ],
            [
             0.3333333333333333,
             "#9c179e"
            ],
            [
             0.4444444444444444,
             "#bd3786"
            ],
            [
             0.5555555555555556,
             "#d8576b"
            ],
            [
             0.6666666666666666,
             "#ed7953"
            ],
            [
             0.7777777777777778,
             "#fb9f3a"
            ],
            [
             0.8888888888888888,
             "#fdca26"
            ],
            [
             1,
             "#f0f921"
            ]
           ],
           "sequentialminus": [
            [
             0,
             "#0d0887"
            ],
            [
             0.1111111111111111,
             "#46039f"
            ],
            [
             0.2222222222222222,
             "#7201a8"
            ],
            [
             0.3333333333333333,
             "#9c179e"
            ],
            [
             0.4444444444444444,
             "#bd3786"
            ],
            [
             0.5555555555555556,
             "#d8576b"
            ],
            [
             0.6666666666666666,
             "#ed7953"
            ],
            [
             0.7777777777777778,
             "#fb9f3a"
            ],
            [
             0.8888888888888888,
             "#fdca26"
            ],
            [
             1,
             "#f0f921"
            ]
           ]
          },
          "colorway": [
           "#636efa",
           "#EF553B",
           "#00cc96",
           "#ab63fa",
           "#FFA15A",
           "#19d3f3",
           "#FF6692",
           "#B6E880",
           "#FF97FF",
           "#FECB52"
          ],
          "font": {
           "color": "#2a3f5f"
          },
          "geo": {
           "bgcolor": "white",
           "lakecolor": "white",
           "landcolor": "#E5ECF6",
           "showlakes": true,
           "showland": true,
           "subunitcolor": "white"
          },
          "hoverlabel": {
           "align": "left"
          },
          "hovermode": "closest",
          "mapbox": {
           "style": "light"
          },
          "paper_bgcolor": "white",
          "plot_bgcolor": "#E5ECF6",
          "polar": {
           "angularaxis": {
            "gridcolor": "white",
            "linecolor": "white",
            "ticks": ""
           },
           "bgcolor": "#E5ECF6",
           "radialaxis": {
            "gridcolor": "white",
            "linecolor": "white",
            "ticks": ""
           }
          },
          "scene": {
           "xaxis": {
            "backgroundcolor": "#E5ECF6",
            "gridcolor": "white",
            "gridwidth": 2,
            "linecolor": "white",
            "showbackground": true,
            "ticks": "",
            "zerolinecolor": "white"
           },
           "yaxis": {
            "backgroundcolor": "#E5ECF6",
            "gridcolor": "white",
            "gridwidth": 2,
            "linecolor": "white",
            "showbackground": true,
            "ticks": "",
            "zerolinecolor": "white"
           },
           "zaxis": {
            "backgroundcolor": "#E5ECF6",
            "gridcolor": "white",
            "gridwidth": 2,
            "linecolor": "white",
            "showbackground": true,
            "ticks": "",
            "zerolinecolor": "white"
           }
          },
          "shapedefaults": {
           "line": {
            "color": "#2a3f5f"
           }
          },
          "ternary": {
           "aaxis": {
            "gridcolor": "white",
            "linecolor": "white",
            "ticks": ""
           },
           "baxis": {
            "gridcolor": "white",
            "linecolor": "white",
            "ticks": ""
           },
           "bgcolor": "#E5ECF6",
           "caxis": {
            "gridcolor": "white",
            "linecolor": "white",
            "ticks": ""
           }
          },
          "title": {
           "x": 0.05
          },
          "xaxis": {
           "automargin": true,
           "gridcolor": "white",
           "linecolor": "white",
           "ticks": "",
           "title": {
            "standoff": 15
           },
           "zerolinecolor": "white",
           "zerolinewidth": 2
          },
          "yaxis": {
           "automargin": true,
           "gridcolor": "white",
           "linecolor": "white",
           "ticks": "",
           "title": {
            "standoff": 15
           },
           "zerolinecolor": "white",
           "zerolinewidth": 2
          }
         }
        },
        "title": {
         "text": "MOVIE IMDB Scores and Votes"
        },
        "xaxis": {
         "anchor": "y",
         "domain": [
          0,
          1
         ],
         "title": {
          "text": "imdb_votes"
         }
        },
        "yaxis": {
         "anchor": "x",
         "domain": [
          0,
          1
         ],
         "title": {
          "text": "imdb_score"
         }
        }
       }
      }
     },
     "metadata": {},
     "output_type": "display_data"
    }
   ],
   "source": [
    "# Scatter plot for visualizing the relationship between IMDB scores, votes, and runtime\n",
    "dcc.Graph(id='scatter-plot'),\n",
    "filtered_df = df[df['type'] == selected_type]\n",
    "# Defining callback to update scatter plot based on type and age selection\n",
    "@app.callback(\n",
    "    Output('scatter-plot', 'figure'),\n",
    "    [Input('type-dropdown', 'value'),\n",
    "     Input('age-dropdown', 'value')]\n",
    ")\n",
    "def update_scatter_plot(selected_type, selected_age):\n",
    "    # ... (code for data filtering)\n",
    "    \n",
    "    # Creating a scatter plot using Plotly Express\n",
    "    fig = px.scatter(filtered_df, x='imdb_votes', y='imdb_score', color='release_year',\n",
    "                     size='runtime', hover_data=['title'], title=f'{selected_type} IMDB Scores and Votes')\n",
    "    return fig\n",
    "\n",
    "update_scatter_plot(selected_type,selected_age)\n",
    "\n"
   ]
  },
  {
   "cell_type": "markdown",
   "metadata": {},
   "source": [
    "Justification:\n",
    "\n",
    "Purpose: This scatter plot was chosen to visualize the relationship between IMDb scores, votes, and runtime for TV shows and movies on Netflix. For taking example of this graph the 'Inception' movie got 2.268million votes on IMDB and IMDB score of 8.8 which can be easily seen whereas movie Aerials got 382 votes and 1.8IMBD score. We can easily understand content quality of both. It will provide holistic view of content chracterstics.\n",
    "\n",
    "Interactivity: Users can interact with the scatter plot by selecting content type and age certification, allowing for dynamic exploration.\n",
    "\n",
    "Insightful Elements: The color-coded release years and marker size representing runtime add additional dimensions to the visualization, providing a holistic view of content characteristics."
   ]
  },
  {
   "cell_type": "markdown",
   "metadata": {},
   "source": [
    "# Bar Chart: Distribution of Content by Age Certification\n"
   ]
  },
  {
   "cell_type": "code",
   "execution_count": null,
   "metadata": {},
   "outputs": [
    {
     "data": {
      "application/vnd.plotly.v1+json": {
       "config": {
        "plotlyServerURL": "https://plot.ly"
       },
       "data": [
        {
         "alignmentgroup": "True",
         "bingroup": "x",
         "hovertemplate": "age_certification=%{x}<br>count=%{y}<extra></extra>",
         "legendgroup": "PG",
         "marker": {
          "color": "#636efa",
          "pattern": {
           "shape": ""
          }
         },
         "name": "PG",
         "offsetgroup": "PG",
         "orientation": "v",
         "showlegend": true,
         "type": "histogram",
         "x": [
          "PG",
          "PG",
          "PG",
          "PG",
          "PG",
          "PG",
          "PG",
          "PG",
          "PG",
          "PG",
          "PG",
          "PG",
          "PG",
          "PG",
          "PG",
          "PG",
          "PG",
          "PG",
          "PG",
          "PG",
          "PG",
          "PG",
          "PG",
          "PG",
          "PG",
          "PG",
          "PG",
          "PG",
          "PG",
          "PG",
          "PG",
          "PG",
          "PG",
          "PG",
          "PG",
          "PG",
          "PG",
          "PG",
          "PG",
          "PG",
          "PG",
          "PG",
          "PG",
          "PG",
          "PG",
          "PG",
          "PG",
          "PG",
          "PG",
          "PG",
          "PG",
          "PG",
          "PG",
          "PG",
          "PG",
          "PG",
          "PG",
          "PG",
          "PG",
          "PG",
          "PG",
          "PG",
          "PG",
          "PG",
          "PG",
          "PG",
          "PG",
          "PG",
          "PG",
          "PG",
          "PG",
          "PG",
          "PG",
          "PG",
          "PG",
          "PG",
          "PG",
          "PG",
          "PG",
          "PG",
          "PG",
          "PG",
          "PG",
          "PG",
          "PG",
          "PG",
          "PG",
          "PG",
          "PG",
          "PG",
          "PG",
          "PG",
          "PG",
          "PG",
          "PG",
          "PG",
          "PG",
          "PG",
          "PG",
          "PG",
          "PG",
          "PG",
          "PG",
          "PG",
          "PG",
          "PG",
          "PG",
          "PG",
          "PG",
          "PG",
          "PG",
          "PG",
          "PG",
          "PG",
          "PG",
          "PG",
          "PG",
          "PG",
          "PG",
          "PG",
          "PG",
          "PG",
          "PG",
          "PG",
          "PG",
          "PG",
          "PG",
          "PG",
          "PG",
          "PG",
          "PG",
          "PG",
          "PG",
          "PG",
          "PG",
          "PG",
          "PG",
          "PG",
          "PG",
          "PG",
          "PG",
          "PG",
          "PG",
          "PG",
          "PG",
          "PG",
          "PG",
          "PG",
          "PG",
          "PG",
          "PG",
          "PG",
          "PG",
          "PG",
          "PG",
          "PG",
          "PG",
          "PG",
          "PG",
          "PG",
          "PG",
          "PG",
          "PG",
          "PG",
          "PG",
          "PG",
          "PG",
          "PG",
          "PG",
          "PG",
          "PG",
          "PG",
          "PG",
          "PG",
          "PG",
          "PG",
          "PG",
          "PG",
          "PG",
          "PG",
          "PG",
          "PG",
          "PG",
          "PG",
          "PG",
          "PG",
          "PG",
          "PG",
          "PG",
          "PG",
          "PG",
          "PG",
          "PG",
          "PG",
          "PG",
          "PG",
          "PG",
          "PG",
          "PG",
          "PG",
          "PG",
          "PG",
          "PG",
          "PG",
          "PG",
          "PG",
          "PG",
          "PG",
          "PG",
          "PG",
          "PG",
          "PG",
          "PG",
          "PG",
          "PG",
          "PG",
          "PG",
          "PG",
          "PG",
          "PG",
          "PG",
          "PG",
          "PG",
          "PG",
          "PG",
          "PG",
          "PG",
          "PG",
          "PG",
          "PG",
          "PG",
          "PG",
          "PG",
          "PG",
          "PG",
          "PG",
          "PG",
          "PG"
         ],
         "xaxis": "x",
         "yaxis": "y"
        }
       ],
       "layout": {
        "barmode": "relative",
        "legend": {
         "title": {
          "text": "age_certification"
         },
         "tracegroupgap": 0
        },
        "margin": {
         "b": 10,
         "l": 10,
         "r": 10,
         "t": 50
        },
        "template": {
         "data": {
          "bar": [
           {
            "error_x": {
             "color": "#2a3f5f"
            },
            "error_y": {
             "color": "#2a3f5f"
            },
            "marker": {
             "line": {
              "color": "#E5ECF6",
              "width": 0.5
             },
             "pattern": {
              "fillmode": "overlay",
              "size": 10,
              "solidity": 0.2
             }
            },
            "type": "bar"
           }
          ],
          "barpolar": [
           {
            "marker": {
             "line": {
              "color": "#E5ECF6",
              "width": 0.5
             },
             "pattern": {
              "fillmode": "overlay",
              "size": 10,
              "solidity": 0.2
             }
            },
            "type": "barpolar"
           }
          ],
          "carpet": [
           {
            "aaxis": {
             "endlinecolor": "#2a3f5f",
             "gridcolor": "white",
             "linecolor": "white",
             "minorgridcolor": "white",
             "startlinecolor": "#2a3f5f"
            },
            "baxis": {
             "endlinecolor": "#2a3f5f",
             "gridcolor": "white",
             "linecolor": "white",
             "minorgridcolor": "white",
             "startlinecolor": "#2a3f5f"
            },
            "type": "carpet"
           }
          ],
          "choropleth": [
           {
            "colorbar": {
             "outlinewidth": 0,
             "ticks": ""
            },
            "type": "choropleth"
           }
          ],
          "contour": [
           {
            "colorbar": {
             "outlinewidth": 0,
             "ticks": ""
            },
            "colorscale": [
             [
              0,
              "#0d0887"
             ],
             [
              0.1111111111111111,
              "#46039f"
             ],
             [
              0.2222222222222222,
              "#7201a8"
             ],
             [
              0.3333333333333333,
              "#9c179e"
             ],
             [
              0.4444444444444444,
              "#bd3786"
             ],
             [
              0.5555555555555556,
              "#d8576b"
             ],
             [
              0.6666666666666666,
              "#ed7953"
             ],
             [
              0.7777777777777778,
              "#fb9f3a"
             ],
             [
              0.8888888888888888,
              "#fdca26"
             ],
             [
              1,
              "#f0f921"
             ]
            ],
            "type": "contour"
           }
          ],
          "contourcarpet": [
           {
            "colorbar": {
             "outlinewidth": 0,
             "ticks": ""
            },
            "type": "contourcarpet"
           }
          ],
          "heatmap": [
           {
            "colorbar": {
             "outlinewidth": 0,
             "ticks": ""
            },
            "colorscale": [
             [
              0,
              "#0d0887"
             ],
             [
              0.1111111111111111,
              "#46039f"
             ],
             [
              0.2222222222222222,
              "#7201a8"
             ],
             [
              0.3333333333333333,
              "#9c179e"
             ],
             [
              0.4444444444444444,
              "#bd3786"
             ],
             [
              0.5555555555555556,
              "#d8576b"
             ],
             [
              0.6666666666666666,
              "#ed7953"
             ],
             [
              0.7777777777777778,
              "#fb9f3a"
             ],
             [
              0.8888888888888888,
              "#fdca26"
             ],
             [
              1,
              "#f0f921"
             ]
            ],
            "type": "heatmap"
           }
          ],
          "heatmapgl": [
           {
            "colorbar": {
             "outlinewidth": 0,
             "ticks": ""
            },
            "colorscale": [
             [
              0,
              "#0d0887"
             ],
             [
              0.1111111111111111,
              "#46039f"
             ],
             [
              0.2222222222222222,
              "#7201a8"
             ],
             [
              0.3333333333333333,
              "#9c179e"
             ],
             [
              0.4444444444444444,
              "#bd3786"
             ],
             [
              0.5555555555555556,
              "#d8576b"
             ],
             [
              0.6666666666666666,
              "#ed7953"
             ],
             [
              0.7777777777777778,
              "#fb9f3a"
             ],
             [
              0.8888888888888888,
              "#fdca26"
             ],
             [
              1,
              "#f0f921"
             ]
            ],
            "type": "heatmapgl"
           }
          ],
          "histogram": [
           {
            "marker": {
             "pattern": {
              "fillmode": "overlay",
              "size": 10,
              "solidity": 0.2
             }
            },
            "type": "histogram"
           }
          ],
          "histogram2d": [
           {
            "colorbar": {
             "outlinewidth": 0,
             "ticks": ""
            },
            "colorscale": [
             [
              0,
              "#0d0887"
             ],
             [
              0.1111111111111111,
              "#46039f"
             ],
             [
              0.2222222222222222,
              "#7201a8"
             ],
             [
              0.3333333333333333,
              "#9c179e"
             ],
             [
              0.4444444444444444,
              "#bd3786"
             ],
             [
              0.5555555555555556,
              "#d8576b"
             ],
             [
              0.6666666666666666,
              "#ed7953"
             ],
             [
              0.7777777777777778,
              "#fb9f3a"
             ],
             [
              0.8888888888888888,
              "#fdca26"
             ],
             [
              1,
              "#f0f921"
             ]
            ],
            "type": "histogram2d"
           }
          ],
          "histogram2dcontour": [
           {
            "colorbar": {
             "outlinewidth": 0,
             "ticks": ""
            },
            "colorscale": [
             [
              0,
              "#0d0887"
             ],
             [
              0.1111111111111111,
              "#46039f"
             ],
             [
              0.2222222222222222,
              "#7201a8"
             ],
             [
              0.3333333333333333,
              "#9c179e"
             ],
             [
              0.4444444444444444,
              "#bd3786"
             ],
             [
              0.5555555555555556,
              "#d8576b"
             ],
             [
              0.6666666666666666,
              "#ed7953"
             ],
             [
              0.7777777777777778,
              "#fb9f3a"
             ],
             [
              0.8888888888888888,
              "#fdca26"
             ],
             [
              1,
              "#f0f921"
             ]
            ],
            "type": "histogram2dcontour"
           }
          ],
          "mesh3d": [
           {
            "colorbar": {
             "outlinewidth": 0,
             "ticks": ""
            },
            "type": "mesh3d"
           }
          ],
          "parcoords": [
           {
            "line": {
             "colorbar": {
              "outlinewidth": 0,
              "ticks": ""
             }
            },
            "type": "parcoords"
           }
          ],
          "pie": [
           {
            "automargin": true,
            "type": "pie"
           }
          ],
          "scatter": [
           {
            "fillpattern": {
             "fillmode": "overlay",
             "size": 10,
             "solidity": 0.2
            },
            "type": "scatter"
           }
          ],
          "scatter3d": [
           {
            "line": {
             "colorbar": {
              "outlinewidth": 0,
              "ticks": ""
             }
            },
            "marker": {
             "colorbar": {
              "outlinewidth": 0,
              "ticks": ""
             }
            },
            "type": "scatter3d"
           }
          ],
          "scattercarpet": [
           {
            "marker": {
             "colorbar": {
              "outlinewidth": 0,
              "ticks": ""
             }
            },
            "type": "scattercarpet"
           }
          ],
          "scattergeo": [
           {
            "marker": {
             "colorbar": {
              "outlinewidth": 0,
              "ticks": ""
             }
            },
            "type": "scattergeo"
           }
          ],
          "scattergl": [
           {
            "marker": {
             "colorbar": {
              "outlinewidth": 0,
              "ticks": ""
             }
            },
            "type": "scattergl"
           }
          ],
          "scattermapbox": [
           {
            "marker": {
             "colorbar": {
              "outlinewidth": 0,
              "ticks": ""
             }
            },
            "type": "scattermapbox"
           }
          ],
          "scatterpolar": [
           {
            "marker": {
             "colorbar": {
              "outlinewidth": 0,
              "ticks": ""
             }
            },
            "type": "scatterpolar"
           }
          ],
          "scatterpolargl": [
           {
            "marker": {
             "colorbar": {
              "outlinewidth": 0,
              "ticks": ""
             }
            },
            "type": "scatterpolargl"
           }
          ],
          "scatterternary": [
           {
            "marker": {
             "colorbar": {
              "outlinewidth": 0,
              "ticks": ""
             }
            },
            "type": "scatterternary"
           }
          ],
          "surface": [
           {
            "colorbar": {
             "outlinewidth": 0,
             "ticks": ""
            },
            "colorscale": [
             [
              0,
              "#0d0887"
             ],
             [
              0.1111111111111111,
              "#46039f"
             ],
             [
              0.2222222222222222,
              "#7201a8"
             ],
             [
              0.3333333333333333,
              "#9c179e"
             ],
             [
              0.4444444444444444,
              "#bd3786"
             ],
             [
              0.5555555555555556,
              "#d8576b"
             ],
             [
              0.6666666666666666,
              "#ed7953"
             ],
             [
              0.7777777777777778,
              "#fb9f3a"
             ],
             [
              0.8888888888888888,
              "#fdca26"
             ],
             [
              1,
              "#f0f921"
             ]
            ],
            "type": "surface"
           }
          ],
          "table": [
           {
            "cells": {
             "fill": {
              "color": "#EBF0F8"
             },
             "line": {
              "color": "white"
             }
            },
            "header": {
             "fill": {
              "color": "#C8D4E3"
             },
             "line": {
              "color": "white"
             }
            },
            "type": "table"
           }
          ]
         },
         "layout": {
          "annotationdefaults": {
           "arrowcolor": "#2a3f5f",
           "arrowhead": 0,
           "arrowwidth": 1
          },
          "autotypenumbers": "strict",
          "coloraxis": {
           "colorbar": {
            "outlinewidth": 0,
            "ticks": ""
           }
          },
          "colorscale": {
           "diverging": [
            [
             0,
             "#8e0152"
            ],
            [
             0.1,
             "#c51b7d"
            ],
            [
             0.2,
             "#de77ae"
            ],
            [
             0.3,
             "#f1b6da"
            ],
            [
             0.4,
             "#fde0ef"
            ],
            [
             0.5,
             "#f7f7f7"
            ],
            [
             0.6,
             "#e6f5d0"
            ],
            [
             0.7,
             "#b8e186"
            ],
            [
             0.8,
             "#7fbc41"
            ],
            [
             0.9,
             "#4d9221"
            ],
            [
             1,
             "#276419"
            ]
           ],
           "sequential": [
            [
             0,
             "#0d0887"
            ],
            [
             0.1111111111111111,
             "#46039f"
            ],
            [
             0.2222222222222222,
             "#7201a8"
            ],
            [
             0.3333333333333333,
             "#9c179e"
            ],
            [
             0.4444444444444444,
             "#bd3786"
            ],
            [
             0.5555555555555556,
             "#d8576b"
            ],
            [
             0.6666666666666666,
             "#ed7953"
            ],
            [
             0.7777777777777778,
             "#fb9f3a"
            ],
            [
             0.8888888888888888,
             "#fdca26"
            ],
            [
             1,
             "#f0f921"
            ]
           ],
           "sequentialminus": [
            [
             0,
             "#0d0887"
            ],
            [
             0.1111111111111111,
             "#46039f"
            ],
            [
             0.2222222222222222,
             "#7201a8"
            ],
            [
             0.3333333333333333,
             "#9c179e"
            ],
            [
             0.4444444444444444,
             "#bd3786"
            ],
            [
             0.5555555555555556,
             "#d8576b"
            ],
            [
             0.6666666666666666,
             "#ed7953"
            ],
            [
             0.7777777777777778,
             "#fb9f3a"
            ],
            [
             0.8888888888888888,
             "#fdca26"
            ],
            [
             1,
             "#f0f921"
            ]
           ]
          },
          "colorway": [
           "#636efa",
           "#EF553B",
           "#00cc96",
           "#ab63fa",
           "#FFA15A",
           "#19d3f3",
           "#FF6692",
           "#B6E880",
           "#FF97FF",
           "#FECB52"
          ],
          "font": {
           "color": "#2a3f5f"
          },
          "geo": {
           "bgcolor": "white",
           "lakecolor": "white",
           "landcolor": "#E5ECF6",
           "showlakes": true,
           "showland": true,
           "subunitcolor": "white"
          },
          "hoverlabel": {
           "align": "left"
          },
          "hovermode": "closest",
          "mapbox": {
           "style": "light"
          },
          "paper_bgcolor": "white",
          "plot_bgcolor": "#E5ECF6",
          "polar": {
           "angularaxis": {
            "gridcolor": "white",
            "linecolor": "white",
            "ticks": ""
           },
           "bgcolor": "#E5ECF6",
           "radialaxis": {
            "gridcolor": "white",
            "linecolor": "white",
            "ticks": ""
           }
          },
          "scene": {
           "xaxis": {
            "backgroundcolor": "#E5ECF6",
            "gridcolor": "white",
            "gridwidth": 2,
            "linecolor": "white",
            "showbackground": true,
            "ticks": "",
            "zerolinecolor": "white"
           },
           "yaxis": {
            "backgroundcolor": "#E5ECF6",
            "gridcolor": "white",
            "gridwidth": 2,
            "linecolor": "white",
            "showbackground": true,
            "ticks": "",
            "zerolinecolor": "white"
           },
           "zaxis": {
            "backgroundcolor": "#E5ECF6",
            "gridcolor": "white",
            "gridwidth": 2,
            "linecolor": "white",
            "showbackground": true,
            "ticks": "",
            "zerolinecolor": "white"
           }
          },
          "shapedefaults": {
           "line": {
            "color": "#2a3f5f"
           }
          },
          "ternary": {
           "aaxis": {
            "gridcolor": "white",
            "linecolor": "white",
            "ticks": ""
           },
           "baxis": {
            "gridcolor": "white",
            "linecolor": "white",
            "ticks": ""
           },
           "bgcolor": "#E5ECF6",
           "caxis": {
            "gridcolor": "white",
            "linecolor": "white",
            "ticks": ""
           }
          },
          "title": {
           "x": 0.05
          },
          "xaxis": {
           "automargin": true,
           "gridcolor": "white",
           "linecolor": "white",
           "ticks": "",
           "title": {
            "standoff": 15
           },
           "zerolinecolor": "white",
           "zerolinewidth": 2
          },
          "yaxis": {
           "automargin": true,
           "gridcolor": "white",
           "linecolor": "white",
           "ticks": "",
           "title": {
            "standoff": 15
           },
           "zerolinecolor": "white",
           "zerolinewidth": 2
          }
         }
        },
        "title": {
         "text": "Distribution of MOVIE by Age Certification",
         "x": 0.5
        },
        "xaxis": {
         "anchor": "y",
         "categoryarray": [
          "PG"
         ],
         "categoryorder": "array",
         "domain": [
          0,
          1
         ],
         "title": {
          "text": "age_certification"
         }
        },
        "yaxis": {
         "anchor": "x",
         "domain": [
          0,
          1
         ],
         "title": {
          "text": "count"
         }
        }
       }
      }
     },
     "metadata": {},
     "output_type": "display_data"
    }
   ],
   "source": [
    "# Bar chart for showing the distribution of content by age certification\n",
    "dcc.Graph(id='age-certification-bar'),\n",
    "filtered_df = df[\n",
    "        (df['type'] == selected_type) &\n",
    "        (df['age_certification'] == selected_age if selected_age != 'All' else df['age_certification'])\n",
    "    ]\n",
    "\n",
    "# Defining callback to update age certification bar chart\n",
    "@app.callback(\n",
    "    Output('age-certification-bar', 'figure'),\n",
    "    [Input('type-dropdown', 'value'),\n",
    "     Input('age-dropdown', 'value')]\n",
    ")\n",
    "def update_age_certification_bar(selected_type, selected_age):\n",
    "    # ... (code for data filtering)\n",
    "    \n",
    "    # Creating a histogram showing the distribution of content by age certification\n",
    "    fig = px.histogram(filtered_df, x='age_certification', color='age_certification',\n",
    "                       title=f'Distribution of {selected_type} by Age Certification',\n",
    "                       category_orders={'age_certification': sorted(filtered_df['age_certification'].unique())})\n",
    "\n",
    "    # Customizing the layout\n",
    "    fig.update_layout(title=dict(x=0.5), margin=dict(l=10, r=10, t=50, b=10))\n",
    "\n",
    "    return fig\n",
    "    \n",
    "update_age_certification_bar(selected_type,selected_age)"
   ]
  },
  {
   "cell_type": "markdown",
   "metadata": {},
   "source": [
    "Justification:\n",
    "\n",
    "Purpose: The age certification bar chart visually represents the distribution of TV shows and movies based on age appropriateness.\n",
    "\n",
    "Content Filtering: Users can filter content based on age certification, aiding in personalized content exploration.\n",
    "\n",
    "Insights into Audience Suitability: This visualization provides insights into the variety of content available for different age groups."
   ]
  },
  {
   "cell_type": "markdown",
   "metadata": {},
   "source": [
    "## 9. Reflective Evaluation\n",
    "**Reflective Evaluation: Netflix IMDb Scores Analysis Dashboard**\n",
    "\n",
    "**1. Data Exploration and Cleaning:**\n",
    "   - *Challenges Faced:*\n",
    "     - Ensuring data integrity and consistency posed challenges during the exploration phase. Handling missing values, outliers, and anomalies required careful consideration.\n",
    "   - *Lessons Learned:*\n",
    "     - Thorough data exploration is crucial for identifying patterns and anomalies. Addressing missing values and outliers early in the process contributes to the reliability of visualizations.\n",
    "\n",
    "**2. Framework and Tool Selection:**\n",
    "   - *Challenges Faced:*\n",
    "     - Choosing the right framework (Dash) and tools for the project required consideration of user-friendliness and integration capabilities.\n",
    "   - *Lessons Learned:*\n",
    "     - The flexibility of Dash and its integration with Plotly provided a powerful combination for creating interactive dashboards. Consideration of user experience is essential in framework selection.\n",
    "\n",
    "**3. Visualizations and Insights:**\n",
    "   - *Challenges Faced:*\n",
    "     - Designing visualizations that effectively communicate insights without overwhelming users with information was a challenge.\n",
    "   - *Lessons Learned:*\n",
    "     - Balancing complexity and simplicity in visualizations is crucial. User feedback and iterative design play a significant role in refining visualizations for clarity.\n",
    "\n",
    "**4. User Interaction and Guidance:**\n",
    "   - *Challenges Faced:*\n",
    "     - Implementing dynamic user interaction features and providing clear guidance within the dashboard required thoughtful design.\n",
    "   - *Lessons Learned:*\n",
    "     - Dropdowns and callbacks enhance user interaction. Including an \"About this Analysis\" section ensures users understand the purpose and functionality of the dashboard.\n",
    "\n",
    "**5. Code Structure and Modularity:**\n",
    "   - *Challenges Faced:*\n",
    "     - Maintaining a clean and modular code structure became challenging as the project evolved.\n",
    "   - *Lessons Learned:*\n",
    "     - Consistent code structure and modular design improve maintainability. Regular refactoring ensures code remains readable and scalable.\n",
    "\n",
    "**6. Documentation and Blogging:**\n",
    "   - *Challenges Faced:*\n",
    "     - Balancing technical detail and accessibility in documentation required careful consideration.\n",
    "   - *Lessons Learned:*\n",
    "     - Combining Markdown and Jupyter Notebooks offers a versatile format for documenting code, visualizations, and reflections. Clarity in explanations caters to a diverse audience.\n",
    "\n",
    "**7. Dataset Considerations:**\n",
    "   - *Challenges Faced:*\n",
    "     - Ensuring the dataset's suitability for analysis, including handling missing or inconsistent data, was a critical aspect.\n",
    "   - *Lessons Learned:*\n",
    "     - The dataset's relevance to the project goals and its ability to provide diverse insights are crucial. Rigorous data preprocessing ensures accurate visualizations.\n",
    "\n",
    "**8. Iterative Development and User Feedback:**\n",
    "   - *Challenges Faced:*\n",
    "     - Balancing feature additions with project timelines and incorporating user feedback required constant iteration.\n",
    "   - *Lessons Learned:*\n",
    "     - An iterative development approach allows for continuous improvement. Prioritizing user feedback enhances the dashboard's usability and effectiveness.\n",
    "\n",
    "**9. Project Collaboration:**\n",
    "   - *Challenges Faced:*\n",
    "     - Collaborative aspects, such as version control and communication, required attention for smooth team dynamics.\n",
    "   - *Lessons Learned:*\n",
    "     - Utilizing version control systems and establishing effective communication channels are essential for collaborative projects. Clear role assignments and regular check-ins contribute to project success.\n",
    "\n",
    "**10. Future Considerations:**\n",
    "   - *Challenges Faced:*\n",
    "     - Anticipating future scalability and adaptability challenges is an ongoing consideration.\n",
    "   - *Lessons Learned:*\n",
    "     - Building flexibility into the codebase and anticipating potential future enhancements or modifications is essential for the dashboard's longevity.\n",
    "\n",
    "**Conclusion:**\n",
    "The Netflix IMDb Scores Analysis Dashboard project provided valuable insights into the complexities of data visualization, user interaction, and project management. Challenges served as learning opportunities, fostering a deeper understanding of the importance of thoughtful design, collaboration, and continuous improvement. The reflective evaluation underscores the iterative nature of the development process and the need for a holistic approach to address technical, design, and user-centric aspects of the project."
   ]
  },
  {
   "cell_type": "markdown",
   "metadata": {},
   "source": [
    "## 10. Conclusion\n",
    "The development of the Netflix IMDb Scores Analysis Dashboard using the Dash framework in Python has resulted in a versatile and user-friendly tool for exploring and visualizing key metrics related to Netflix content. The dashboard empowers users, including managers and consultants, to make informed decisions about content selection and understand patterns within IMDb scores, votes, and content characteristics.\n",
    "\n",
    "Key Achievements:\n",
    "Interactivity and User-Friendly Interface: The inclusion of dropdowns for content type and age certification provides users with the flexibility to tailor the analysis to their preferences.\n",
    "The scatter plot, release year bar chart, and age certification bar chart dynamically respond to user selections, offering an interactive and personalized experience.\n",
    "\n",
    "Insightful Visualizations: The scatter plot visualizes the relationship between IMDb scores, votes, and runtime, facilitating the identification of patterns and correlations.\n",
    "The release year bar chart offers a clear overview of the distribution of content over the years, providing insights into the evolution and popularity of Netflix content.\n",
    "The age certification bar chart breaks down content distribution based on age appropriateness, aiding users in making informed decisions aligned with their preferences and viewing restrictions.\n",
    "\n",
    "Informative About Section: The \"About this Analysis\" section provides context and guidance to users, enhancing their understanding of the visualizations and encouraging an informed exploration of the data.\n",
    "\n",
    "In conclusion, the Netflix IMDb Scores Analysis Dashboard stands as a valuable tool for managers and consultants seeking data-driven insights into Netflix content. Its intuitive design, coupled with powerful visualizations, positions it as a cornerstone for decision-making in content selection and strategy. The iterative development and responsiveness to user needs will ensure its relevance and effectiveness in the dynamic landscape of streaming content analysis.\n",
    "\n",
    "\n",
    "\n",
    "\n",
    "\n",
    "\n"
   ]
  },
  {
   "cell_type": "markdown",
   "metadata": {},
   "source": [
    "\n",
    "## References\n",
    "thedevastator. (Year). Netflix IMDb Scores. Kaggle. https://www.kaggle.com/datasets/thedevastator/netflix-imdb-scores\n",
    "\n",
    "Real Python. (n.d.). Real Python. YouTube. https://www.youtube.com/@realpython\n",
    "\n",
    "Dabbas, E. (2021). Interactive Dashboards and Data Apps with Plotly and Dash: Harness the power of a fully fledged frontend web framework in Python–no JavaScript required. Packt Publishing Ltd.\n",
    "\n",
    "Ali, S. M., Gupta, N., Nayak, G. K., & Lenka, R. K. (2016, December). Big data visualization: Tools and challenges. In 2016 2nd International conference on contemporary computing and informatics (IC3I) (pp. 656-660). IEEE.\n",
    "\n",
    "\n",
    "\n"
   ]
  }
 ],
 "metadata": {
  "kernelspec": {
   "display_name": "base",
   "language": "python",
   "name": "python3"
  },
  "language_info": {
   "codemirror_mode": {
    "name": "ipython",
    "version": 3
   },
   "file_extension": ".py",
   "mimetype": "text/x-python",
   "name": "python",
   "nbconvert_exporter": "python",
   "pygments_lexer": "ipython3",
   "version": "3.11.5"
  },
  "orig_nbformat": 4
 },
 "nbformat": 4,
 "nbformat_minor": 2
}
